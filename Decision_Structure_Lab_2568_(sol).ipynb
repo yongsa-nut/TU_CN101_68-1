{
  "nbformat": 4,
  "nbformat_minor": 0,
  "metadata": {
    "colab": {
      "provenance": [],
      "authorship_tag": "ABX9TyPCwyrwQK54qiPM3dK0+Spq",
      "include_colab_link": true
    },
    "kernelspec": {
      "name": "python3",
      "display_name": "Python 3"
    },
    "language_info": {
      "name": "python"
    }
  },
  "cells": [
    {
      "cell_type": "markdown",
      "metadata": {
        "id": "view-in-github",
        "colab_type": "text"
      },
      "source": [
        "<a href=\"https://colab.research.google.com/github/yongsa-nut/TU_CN101_68-1/blob/main/Decision_Structure_Lab_2568_(sol).ipynb\" target=\"_parent\"><img src=\"https://colab.research.google.com/assets/colab-badge.svg\" alt=\"Open In Colab\"/></a>"
      ]
    },
    {
      "cell_type": "markdown",
      "source": [
        "## Decision Structure Lab"
      ],
      "metadata": {
        "id": "JegPI3soFgAi"
      }
    },
    {
      "cell_type": "markdown",
      "source": [
        "Turn off AI: Tools -> Settings -> Hide generative AI features"
      ],
      "metadata": {
        "id": "Qt-RDFQ-A7C-"
      }
    },
    {
      "cell_type": "markdown",
      "source": [
        "**Q1**: What will the program print out?\n",
        "\n",
        "```python\n",
        "a = 30\n",
        "b = 20\n",
        "c = 40\n",
        "print((a != b) or (b > c))\n",
        "print((c > b) and (a > b))\n",
        "```"
      ],
      "metadata": {
        "id": "UPyhZV9PPYOX"
      }
    },
    {
      "cell_type": "code",
      "source": [
        "True\n",
        "True"
      ],
      "metadata": {
        "id": "O6KOS_r0PYhN"
      },
      "execution_count": null,
      "outputs": []
    },
    {
      "cell_type": "markdown",
      "source": [
        "**Q2**: What will the program print out?\n",
        "```python\n",
        "x = 5\n",
        "if x > 3:\n",
        "    print(\"Hello\")\n",
        "else:\n",
        "    print(\"Goodbye\")\n",
        "```"
      ],
      "metadata": {
        "id": "SKvVvoqfPjmA"
      }
    },
    {
      "cell_type": "code",
      "source": [
        "Hello"
      ],
      "metadata": {
        "id": "lT6m1R-sP-3A"
      },
      "execution_count": null,
      "outputs": []
    },
    {
      "cell_type": "markdown",
      "source": [
        "**Q3**: What will the program print out?\n",
        "```python\n",
        "age = 18\n",
        "if age >= 18:\n",
        "    print(\"You can vote\")\n",
        "\n",
        "if age >= 30:\n",
        "    print(\"You are old\")\n",
        "else:\n",
        "    print(\"You are young\")\n",
        "\n",
        "print('Done')\n",
        "```"
      ],
      "metadata": {
        "id": "JPIl2k5-P_Ny"
      }
    },
    {
      "cell_type": "code",
      "source": [
        "You can vote\n",
        "You are young\n",
        "Done"
      ],
      "metadata": {
        "id": "fFsPcPGuQSAL"
      },
      "execution_count": null,
      "outputs": []
    },
    {
      "cell_type": "markdown",
      "source": [
        "**Q4**: What will the program print out?\n",
        "```python\n",
        "score = 75\n",
        "if score >= 90:\n",
        "    print(\"A\")\n",
        "elif score >= 80:\n",
        "    print(\"B\")\n",
        "elif score >= 70:\n",
        "    print(\"C\")\n",
        "else:\n",
        "    print(\"F\")\n",
        "```"
      ],
      "metadata": {
        "id": "Bmk0zfbfQSOn"
      }
    },
    {
      "cell_type": "code",
      "source": [
        "C"
      ],
      "metadata": {
        "id": "tlx3i90uQZSx"
      },
      "execution_count": null,
      "outputs": []
    },
    {
      "cell_type": "markdown",
      "source": [
        "**Q5**: What will the program print out?\n",
        "```python\n",
        "score = 95\n",
        "if score >= 90:\n",
        "    print(\"A\")\n",
        "if score >= 80:\n",
        "    print(\"B\")\n",
        "if score >= 70:\n",
        "    print(\"C\")\n",
        "else:\n",
        "    print(\"F\")\n",
        "```"
      ],
      "metadata": {
        "id": "bHhiWi0IQcQ2"
      }
    },
    {
      "cell_type": "code",
      "source": [
        "A\n",
        "B\n",
        "C"
      ],
      "metadata": {
        "id": "r9UiQSuIQcgS"
      },
      "execution_count": null,
      "outputs": []
    },
    {
      "cell_type": "markdown",
      "source": [
        "**Q6**: What will the program print out?\n",
        "\n",
        "```python\n",
        "a = 5\n",
        "b = 3\n",
        "c = 7\n",
        "if a > b and a > c:\n",
        "    print(\"A is largest\")\n",
        "elif b > a and b > c:\n",
        "    print(\"B is largest\")\n",
        "else:\n",
        "    print(\"C is largest\")\n",
        "```"
      ],
      "metadata": {
        "id": "W5bNRDoRRPux"
      }
    },
    {
      "cell_type": "code",
      "source": [
        "C is largest"
      ],
      "metadata": {
        "id": "-NVgumjPRP9E"
      },
      "execution_count": null,
      "outputs": []
    },
    {
      "cell_type": "markdown",
      "source": [
        "**Q7**: What will the followign code print out?\n",
        "\n",
        "```python\n",
        "x = 30\n",
        "if x > 50:\n",
        "    print(\"A\")\n",
        "elif x > 40:\n",
        "    print(\"B\")\n",
        "elif x > 30:\n",
        "    print(\"C\")\n",
        "else:\n",
        "    print(\"D\")\n",
        "```"
      ],
      "metadata": {
        "id": "zYzLoQ7DBLm4"
      }
    },
    {
      "cell_type": "code",
      "source": [
        "D"
      ],
      "metadata": {
        "id": "ptcF8WGbBOEy"
      },
      "execution_count": null,
      "outputs": []
    },
    {
      "cell_type": "markdown",
      "source": [
        "**Q8**: What will the following code print out?\n",
        "```python\n",
        "x = 5\n",
        "y = 7\n",
        "z = 10\n",
        "print(f\"{x > z}, {z < y}, {x*2 == (y+z)}, {(x+z) != (1+y*2)}\")\n",
        "```"
      ],
      "metadata": {
        "id": "9k4MXyc-BOQ8"
      }
    },
    {
      "cell_type": "code",
      "source": [
        "False, False, False, False"
      ],
      "metadata": {
        "id": "uudrg1qGBQfk"
      },
      "execution_count": null,
      "outputs": []
    },
    {
      "cell_type": "markdown",
      "source": [
        "**Q9**: What will the following code print out?\n",
        "```python\n",
        "value = 52\n",
        "if value > 45:\n",
        "    print(\"First\", end='')\n",
        "if value > 40:\n",
        "    print(\"Second\", end='')\n",
        "if value > 35:\n",
        "    print(\"Third\", end='')\n",
        "else:\n",
        "    print(\"Fourth\", end='')\n",
        "```"
      ],
      "metadata": {
        "id": "W_U45UznBqbt"
      }
    },
    {
      "cell_type": "code",
      "source": [
        "FirstSecondThird"
      ],
      "metadata": {
        "id": "z30sCrZXBrp8"
      },
      "execution_count": null,
      "outputs": []
    },
    {
      "cell_type": "markdown",
      "source": [
        "**Q10**: What will the following code print out?\n",
        "```python\n",
        "name = 'Alice'\n",
        "value = 10\n",
        "if name == 'Anna':\n",
        "    print('Hello', end = ',')\n",
        "    if value > 20:\n",
        "        print('Big', end='-')\n",
        "    else:\n",
        "        print('Small', end='-')\n",
        "else:\n",
        "    print('Hi', end = ':')\n",
        "    if value < 15:\n",
        "        print('Yes', end='-')\n",
        "    else:\n",
        "        print('NO', end='-')\n",
        "print('Done')\n",
        "```"
      ],
      "metadata": {
        "id": "KH3zSux-Btcc"
      }
    },
    {
      "cell_type": "code",
      "source": [
        "Hi:Yes-Done"
      ],
      "metadata": {
        "id": "yN9a9ZRhBua7"
      },
      "execution_count": null,
      "outputs": []
    },
    {
      "cell_type": "markdown",
      "source": [
        "**Q11**: จงเติมโค็ดในช่องว่างเพื่อให้โปรแกรมแสดงผล ```Hello``` ถ้า ```x``` มากกว่าหรือเท่ากับ 5"
      ],
      "metadata": {
        "id": "K3veLc2kRvoB"
      }
    },
    {
      "cell_type": "code",
      "source": [
        "x = 7\n",
        "if x >= 5:\n",
        "    print(\"Hello\")"
      ],
      "metadata": {
        "id": "drNuMImQR8zd"
      },
      "execution_count": null,
      "outputs": []
    },
    {
      "cell_type": "markdown",
      "source": [
        "**Q12**: จงเติมโค็ดในช่องว่าง เพื่อแสดงผล ```Pass``` ถ้าคะแนนมากกว่าหรือเท่ากับ 60 ถ้าไม่ใช่ให้แสดงผล ```Fail```"
      ],
      "metadata": {
        "id": "GiBeo5-GR_dJ"
      }
    },
    {
      "cell_type": "code",
      "source": [
        "score = 75\n",
        "if score >= 60:\n",
        "    print('Pass')  #here\n",
        "else:\n",
        "    print('Fail')  #here"
      ],
      "metadata": {
        "id": "cL8QM5fFSApJ"
      },
      "execution_count": null,
      "outputs": []
    },
    {
      "cell_type": "markdown",
      "source": [
        "**Q13**: จงเติมโค็ดในช่องว่างเพื่อตรวจสอบว่าเลข (num) หารด้วยสอง และ สามลงตัว"
      ],
      "metadata": {
        "id": "95wEzl5uSJjq"
      }
    },
    {
      "cell_type": "code",
      "source": [
        "num = 12\n",
        "if num % 2 == 0 and num % 3 == 0:\n",
        "    print(\"Divisible by 2 and 3\")"
      ],
      "metadata": {
        "id": "zFf4ndL1SJ9Q"
      },
      "execution_count": null,
      "outputs": []
    },
    {
      "cell_type": "markdown",
      "source": [
        "**Q14**: จงเติมโค็ดในช่องว่าง ให้แสดงผบ \"Child\" ถ้าอายุ (age) น้อยกว่า 13, \"Teen\" ถ้าอายุ อยู่ระหว่าง 13 กับ 19, และ \"Adult\" ถ้ามากกว่า 19:"
      ],
      "metadata": {
        "id": "LNTp_jilST4K"
      }
    },
    {
      "cell_type": "code",
      "source": [
        "age = 15\n",
        "if age < 13:\n",
        "    print(\"Child\")\n",
        "elif 13 <= age and age <= 19:\n",
        "    print(\"Teen\")\n",
        "else:\n",
        "    print('Adult')"
      ],
      "metadata": {
        "id": "Co_jztM8SUNe"
      },
      "execution_count": null,
      "outputs": []
    },
    {
      "cell_type": "markdown",
      "source": [
        "**Q15**: จงเติมตัวเลขในช่องว่างเพื่อให้โปรแกรมแสดงผล 'Here'. (มีหลายคำตอบ)"
      ],
      "metadata": {
        "id": "O-hTmfWVTH8-"
      }
    },
    {
      "cell_type": "code",
      "source": [
        "num = 10 # here\n",
        "if num > 19 and num < 9:\n",
        "    print('Not here')\n",
        "elif num <7:\n",
        "    print('Not here')\n",
        "elif num > 15:\n",
        "    print('Not here')\n",
        "else:\n",
        "    print('here')"
      ],
      "metadata": {
        "id": "W0Q2XIH_TISs",
        "outputId": "78965c69-f6c8-4a44-b475-82765e3261ab",
        "colab": {
          "base_uri": "https://localhost:8080/"
        }
      },
      "execution_count": null,
      "outputs": [
        {
          "output_type": "stream",
          "name": "stdout",
          "text": [
            "here\n"
          ]
        }
      ]
    },
    {
      "cell_type": "markdown",
      "source": [
        "**Q16**: จงเติมตัวเลขในช่องว่างเพื่อให้โปรแกรมแสดงผลเป็น ```2```"
      ],
      "metadata": {
        "id": "UZnZWWEbVI-V"
      }
    },
    {
      "cell_type": "code",
      "source": [
        "x = 5\n",
        "y = 7\n",
        "z = 6   # here\n",
        "if x < y:\n",
        "    if y < z:\n",
        "        print(\"1\")\n",
        "    else:\n",
        "        print(\"2\")\n",
        "else:\n",
        "    if x < z:\n",
        "        print(\"3\")\n",
        "    else:\n",
        "        print(\"4\")"
      ],
      "metadata": {
        "id": "rT3WdVgwVJOv",
        "outputId": "8184b726-5aac-4b0a-b78d-7119180c7311",
        "colab": {
          "base_uri": "https://localhost:8080/"
        }
      },
      "execution_count": null,
      "outputs": [
        {
          "output_type": "stream",
          "name": "stdout",
          "text": [
            "2\n"
          ]
        }
      ]
    },
    {
      "cell_type": "markdown",
      "source": [
        "**Q17**: จงเติมตัวเลขในช่องว่างเพื่อให้โปรแกรมแสดงผลเป็น ```Second```."
      ],
      "metadata": {
        "id": "gMbXqMA3EWr1"
      }
    },
    {
      "cell_type": "code",
      "source": [
        "num =  12    # fill in the value here\n",
        "if num < 10 or num > 15:\n",
        "    print('First')\n",
        "else:\n",
        "    if num % 2 == 0 and num <= 13:\n",
        "        print('Second')\n",
        "    else:\n",
        "        print('Third')"
      ],
      "metadata": {
        "id": "cMLBo1ABEW8b",
        "outputId": "fe6b1698-fec5-4f11-8819-b7128163a631",
        "colab": {
          "base_uri": "https://localhost:8080/"
        }
      },
      "execution_count": null,
      "outputs": [
        {
          "output_type": "stream",
          "name": "stdout",
          "text": [
            "Second\n"
          ]
        }
      ]
    },
    {
      "cell_type": "markdown",
      "source": [
        "**Q18**: Even or Odd?\n",
        "\n",
        "เขียนโปรแกรมที่รับตัวเลขจาก user และ print 'Even' ถ้า ตัวเลขที่เข้ามาเป็นเลขคู่ และ print 'Odd' ถ้าตัวเลขที่เข้ามาเป็นเลขขี่\n",
        "\n",
        "Hint: สามารถใช้ ```% 2``` เพื่อบอกว่าเป็นเลขคู่คี่ได้\n",
        "\n",
        "Example 1:\n",
        "```\n",
        ">Enter your number: 31\n",
        "Odd\n",
        "```\n",
        "Example 2:\n",
        "```\n",
        ">Enter your number: 24\n",
        "Even\n",
        "```"
      ],
      "metadata": {
        "id": "7JO5xzjTVzQr"
      }
    },
    {
      "cell_type": "code",
      "source": [
        "number = int(input('Enter your Number: '))\n",
        "if number % 2 == 0:\n",
        "  print('Even')\n",
        "else:\n",
        "  print('Odd')"
      ],
      "metadata": {
        "id": "bKj3uZJFWJ4G"
      },
      "execution_count": null,
      "outputs": []
    },
    {
      "cell_type": "markdown",
      "source": [
        "**Q19**: Date formatting\n",
        "\n",
        "เขียนโปรแกรมที่รับข้อมูล วัน (day), เดือน (month), ปี (year) และ format ('US', 'JP', 'TH') จาก user และ print วันเดือนปีตาม format ที่ได้มาดังต่อไปนี้\n",
        "\n",
        "- The 'US' format = Month Day Year.\n",
        "\n",
        "- The 'JP' format = Year Month Day.\n",
        "\n",
        "- The 'TH' format = Day Month Year.\n",
        "\n",
        "Input:\n",
        "\n",
        "- ตัวเลข, วัน\n",
        "- ตัวเลข, เดือน\n",
        "- ตัวเลข, ปี\n",
        "- string, format\n",
        "\n",
        "Output:\n",
        "- Date format ตามโจทย์บอก\n",
        "\n",
        "Example 1:\n",
        "```\n",
        ">Enter day: 1\n",
        ">Enter month: 10\n",
        ">Enter year: 2024\n",
        ">Enter format: US\n",
        "Month 10 Day 1 Year 2024\n",
        "```\n",
        "\n",
        "Example 2:\n",
        "```\n",
        ">Enter day: 1\n",
        ">Enter month: 10\n",
        ">Enter year: 2024\n",
        ">Enter format: JP\n",
        "Year 2024 Month 10 Day 1\n",
        "```\n",
        "\n",
        "Example 3:\n",
        "```\n",
        ">Enter day: 1\n",
        ">Enter month: 10\n",
        ">Enter year: 2024\n",
        ">Enter format: TH\n",
        "Day 1 Month 10 Year 2024\n",
        "```"
      ],
      "metadata": {
        "id": "dbzvBR6eB6tP"
      }
    },
    {
      "cell_type": "code",
      "source": [
        "day = int(input('Enter day:'))\n",
        "month = int(input('Enter month:'))\n",
        "year = int(input('Enter year:'))\n",
        "format = input('Enter format:')\n",
        "\n",
        "if format == 'US':\n",
        "    print(f'Month {month} Day {day} Year {year}')\n",
        "elif format == 'JP':\n",
        "    print(f'Year {year} Month {month} Day {day} ')\n",
        "elif format == 'TH':\n",
        "    print(f'Day {day} Month {month} Year {year}')"
      ],
      "metadata": {
        "id": "1wP_Ngy0Wktb"
      },
      "execution_count": null,
      "outputs": []
    },
    {
      "cell_type": "markdown",
      "source": [
        "**Q20**: Cashier Program ver 2.\n",
        "\n",
        "เขียนโปรแกรมที่รับจำนวน สิ้นค้าที่ลูกค้าซื้อ\n",
        "\n",
        "สิ่งค้าที่มีคือ: Donut, Cupcake, และ Popcorn. Donut ราคา 10 บาทต่อชิ้น, Cupcake ราคา 20 บาทต่อชิ้น, และ Popcorn ราคา 40 บาทต่อชิ้น. คำนวนราคาของทั้งหมด และ คิดลดราคา ดังเงื่อนไขต่อไปนี้\n",
        "\n",
        "ถ้าซื้อโดนัทอย่างน้อย 20 ชิ้นได้ลด 20% ของโดนัท (ลดเฉพาะโดนัทอย่างเดียว)\n",
        "ถ้าซื้อคัพเค้กอย่างน้อย 10 ชิ้นได้ลด 10% ของคัพเค้ก (ลดเฉพาะคัพเค้กอย่างเดียว)\n",
        "หมายเหตุ: สามารถได้ลดราคาทั้งสองอัน\n",
        "\n",
        "**Input**:\n",
        "\n",
        "- จำนวนของ donut, cupcake, and popcorn. เป็นจำนวนเต็ม\n",
        "\n",
        "**Output**:\n",
        "\n",
        "- ราคาก่อนลด ทศนิยมสองตำแหน่ง\n",
        "- ราคาหลังลด ทศนิยมสองตำแหน่ง\n",
        "\n",
        "**ข้อกำหนด**:\n",
        "- ต้องใช้ **Named Constants**\n",
        "\n",
        "Example\n",
        "```\n",
        ">Enter the number of donut: 30\n",
        ">Enter the number of cupcake: 20\n",
        ">Enter the number of popcorn:  5\n",
        "The total payment befor discount is 900.00 baht.\n",
        "The payment after discount is 800.00 baht.\n",
        "```\n",
        "\n",
        "```\n",
        ">Enter the number of donut: 5\n",
        ">Enter the number of cupcake: 20\n",
        ">Enter the number of popcorn:  3\n",
        "The total payment befor discount is 570.00 baht.\n",
        "The payment after discount is 530.00 baht.\n",
        "```\n",
        "\n",
        "```\n",
        ">Enter the number of donut: 10\n",
        ">Enter the number of cupcake: 10\n",
        ">Enter the number of popcorn:  5\n",
        "The total payment befor discount is 500.00 baht.\n",
        "The payment after discount is 480.00 baht.\n",
        "```"
      ],
      "metadata": {
        "id": "dNNxM0JLB-9s"
      }
    },
    {
      "cell_type": "code",
      "source": [
        "# Name Constants\n",
        "DONUT_P = 10\n",
        "CUPCAKE_P = 20\n",
        "POPCORN_P = 40\n",
        "DONUT_THRESHOLD = 20\n",
        "CUPCAKE_THRESHOLD = 10\n",
        "DONUT_DISCOUNT = 0.20\n",
        "CUPCAKE_DISCOUNT = 0.10\n",
        "\n",
        "donut = int(input('Enter the number of donut: '))\n",
        "cupcake = int(input('Enter the number of cupcake: '))\n",
        "popcorn = int(input('Enter the number of popcorn: '))\n",
        "\n",
        "total = DONUT_P * donut + CUPCAKE_P * cupcake + POPCORN_P * popcorn\n",
        "\n",
        "discount = 0\n",
        "if donut >= DONUT_THRESHOLD:\n",
        "   discount = discount + (DONUT_P * donut * DONUT_DISCOUNT)\n",
        "if cupcake >= CUPCAKE_THRESHOLD:\n",
        "   discount = discount + (CUPCAKE_P * cupcake * CUPCAKE_DISCOUNT)\n",
        "\n",
        "total_final = total - discount\n",
        "\n",
        "print(f'The total payment befor discount is {total:.2f} Bath.')\n",
        "print(f'The payment after discount is {total_final:.2f} Bath.')"
      ],
      "metadata": {
        "id": "cDrQXf8eCAWD"
      },
      "execution_count": null,
      "outputs": []
    },
    {
      "cell_type": "markdown",
      "source": [
        "## Submission\n",
        "- File -> Download -> Download .ipynb\n",
        "- Upload to MS Teams"
      ],
      "metadata": {
        "id": "WEJOCTkDEpNk"
      }
    }
  ]
}