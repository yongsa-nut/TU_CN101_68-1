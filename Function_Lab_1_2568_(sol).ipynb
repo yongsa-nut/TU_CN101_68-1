{
  "nbformat": 4,
  "nbformat_minor": 0,
  "metadata": {
    "colab": {
      "provenance": [],
      "authorship_tag": "ABX9TyMbmna8BPANhymL4wsO8ZLX",
      "include_colab_link": true
    },
    "kernelspec": {
      "name": "python3",
      "display_name": "Python 3"
    },
    "language_info": {
      "name": "python"
    }
  },
  "cells": [
    {
      "cell_type": "markdown",
      "metadata": {
        "id": "view-in-github",
        "colab_type": "text"
      },
      "source": [
        "<a href=\"https://colab.research.google.com/github/yongsa-nut/TU_CN101_68-1/blob/main/Function_Lab_1_2568_(sol).ipynb\" target=\"_parent\"><img src=\"https://colab.research.google.com/assets/colab-badge.svg\" alt=\"Open In Colab\"/></a>"
      ]
    },
    {
      "cell_type": "markdown",
      "source": [
        "# Function Lab 1"
      ],
      "metadata": {
        "id": "u2w7pRxDADFQ"
      }
    },
    {
      "cell_type": "markdown",
      "source": [
        "Turn off AI: Tools -> Settings -> AI Assistance -> Hide"
      ],
      "metadata": {
        "id": "dNLfAlVAJO4d"
      }
    },
    {
      "cell_type": "markdown",
      "source": [
        "**Q1**: What will the following program output?\n",
        "\n",
        "```python\n",
        "def print_greeting():\n",
        "  print(\"Hello\")\n",
        "  print(\"Hi\")\n",
        "\n",
        "print_greeting()\n",
        "print_greeting()\n",
        "```"
      ],
      "metadata": {
        "id": "y9NBKodVxuUW"
      }
    },
    {
      "cell_type": "code",
      "execution_count": null,
      "metadata": {
        "id": "sbITL11ytvGn"
      },
      "outputs": [],
      "source": [
        "Hello\n",
        "Hi\n",
        "Hello\n",
        "Hi"
      ]
    },
    {
      "cell_type": "markdown",
      "source": [
        "**Q2**: What will the following program output?\n",
        "\n",
        "```python\n",
        "def func1():\n",
        "  print(\"AAA\", end='-')\n",
        "\n",
        "def func2():\n",
        "  func1()\n",
        "  print(\"BBB\",end='-')\n",
        "  func1()\n",
        "\n",
        "func2()\n",
        "```"
      ],
      "metadata": {
        "id": "QTuJvhi8xz6X"
      }
    },
    {
      "cell_type": "code",
      "source": [
        "AAA-BBB-AAA-"
      ],
      "metadata": {
        "id": "Ajw6s6jVx4Uw"
      },
      "execution_count": null,
      "outputs": []
    },
    {
      "cell_type": "markdown",
      "source": [
        "**Q3** What will the following program output?\n",
        "\n",
        "```python\n",
        "def aaa():\n",
        "  print(\"aaa\", end=\"\")\n",
        "\n",
        "def bbb():\n",
        "  print(\"bbb\", end=\"\")\n",
        "\n",
        "def ccc():\n",
        "  print(\"ccc\", end=\"\")\n",
        "\n",
        "def main():\n",
        "  bbb()\n",
        "  aaa()\n",
        "\n",
        "main()\n",
        "```"
      ],
      "metadata": {
        "id": "Ua69A8-Qxr2m"
      }
    },
    {
      "cell_type": "code",
      "source": [
        "bbbaaa"
      ],
      "metadata": {
        "id": "uv8hfDkExrqe"
      },
      "execution_count": null,
      "outputs": []
    },
    {
      "cell_type": "markdown",
      "source": [
        "**Q4**: What will the following program output?\n",
        "\n",
        "```python\n",
        "def calculate(x):\n",
        "  y = x**2\n",
        "  print(x, y)\n",
        "\n",
        "calculate(2)\n",
        "y = 5\n",
        "calculate(y+1)\n",
        "```"
      ],
      "metadata": {
        "id": "m4eLrRBCyjIs"
      }
    },
    {
      "cell_type": "code",
      "source": [
        "2 4\n",
        "6 36"
      ],
      "metadata": {
        "id": "Hbe0nd6vyqEF"
      },
      "execution_count": null,
      "outputs": []
    },
    {
      "cell_type": "markdown",
      "source": [
        "**Q5** What will the following program output?\n",
        "\n",
        "```python\n",
        "def do_something(x, y):\n",
        "  print(f\"{x+y}\")\n",
        "\n",
        "def main():\n",
        "  do_something(1*3, 2+2)\n",
        "\n",
        "main()\n",
        "```"
      ],
      "metadata": {
        "id": "-mylKOlQyqRI"
      }
    },
    {
      "cell_type": "code",
      "source": [
        "7"
      ],
      "metadata": {
        "id": "pK-CKb2JysZs"
      },
      "execution_count": null,
      "outputs": []
    },
    {
      "cell_type": "markdown",
      "source": [
        "**Q6** What will the following program output?\n",
        "\n",
        "```python\n",
        "def xxx():\n",
        "  return 5\n",
        "\n",
        "def yyy():\n",
        "  return 7\n",
        "\n",
        "print(xxx() + yyy())\n",
        "x = yyy()\n",
        "y = xxx()\n",
        "z = x*y\n",
        "print(z)\n",
        "```"
      ],
      "metadata": {
        "id": "Am5hD8ihzFC0"
      }
    },
    {
      "cell_type": "code",
      "source": [
        "12\n",
        "35"
      ],
      "metadata": {
        "id": "wfZRsn0hzLAn"
      },
      "execution_count": null,
      "outputs": []
    },
    {
      "cell_type": "markdown",
      "source": [
        "**Q7**: What will the following program output?\n",
        "\n",
        "```python\n",
        "def func1(x):\n",
        "  x = x + 1\n",
        "  return x\n",
        "  \n",
        "print(func1(1) + func1(2))\n",
        "```"
      ],
      "metadata": {
        "id": "J4x4Ml9uz9I4"
      }
    },
    {
      "cell_type": "code",
      "source": [
        "5"
      ],
      "metadata": {
        "id": "cRMpN22C0BqP"
      },
      "execution_count": null,
      "outputs": []
    },
    {
      "cell_type": "markdown",
      "source": [
        "**Q8:** What will the following program output?\n",
        "\n",
        "```python\n",
        "def func2(x, y):\n",
        "  return (x*y) + 2\n",
        "\n",
        "z = func2(y=2, x=3)\n",
        "print(func2(x=z, y = 2))\n",
        "```"
      ],
      "metadata": {
        "id": "X5ZqVjUk0Zk9"
      }
    },
    {
      "cell_type": "code",
      "source": [
        "18"
      ],
      "metadata": {
        "id": "RFDHovax0mNG"
      },
      "execution_count": null,
      "outputs": []
    },
    {
      "cell_type": "markdown",
      "source": [
        "**Q9**: What will the following program output?\n",
        "\n",
        "```python\n",
        "def aaa(x=1, y=2):\n",
        "  print(f\"{x+y}\", end=\",\")\n",
        "\n",
        "def bbb(x, y =2, z =3):\n",
        "  total = x + y + z\n",
        "  return total\n",
        "\n",
        "def main():\n",
        "  aaa()\n",
        "  result1 = bbb(5, 5, 5)\n",
        "  result2 = bbb(3, 3)\n",
        "  print(result1, result2)\n",
        "\n",
        "main()\n",
        "```"
      ],
      "metadata": {
        "id": "fUCEcldP0_ML"
      }
    },
    {
      "cell_type": "code",
      "source": [
        "3,15 9"
      ],
      "metadata": {
        "id": "dAy4KR_a1C12"
      },
      "execution_count": null,
      "outputs": []
    },
    {
      "cell_type": "markdown",
      "source": [
        "**Q10**: What will the following program output?\n",
        "\n",
        "```python\n",
        "def first(x):\n",
        "  x = x + 1\n",
        "  print(x, end=\" \")\n",
        "\n",
        "def second(x):\n",
        "  x = x + 2\n",
        "  return x\n",
        "\n",
        "def third(x):\n",
        "  x = x + 3\n",
        "  y = 5\n",
        "  return x\n",
        "\n",
        "def main():\n",
        "  x = 0\n",
        "  y = 0\n",
        "  first(x)\n",
        "  second(x)\n",
        "  y = y + third(x)\n",
        "  print(x, y)\n",
        "\n",
        "main()\n",
        "```"
      ],
      "metadata": {
        "id": "gp9cKhpD0oov"
      }
    },
    {
      "cell_type": "code",
      "source": [
        "1 0 3"
      ],
      "metadata": {
        "id": "3dz_i6KI1Yyn"
      },
      "execution_count": null,
      "outputs": []
    },
    {
      "cell_type": "markdown",
      "source": [
        "**Q11**: What will the following program print out?\n",
        "\n",
        "```python\n",
        "def return_two():\n",
        "  return \"AAA\", \"CCC\"\n",
        "\n",
        "def print_things(things):\n",
        "  print(f\"1: {things[1]} 2: {things[0]}\")\n",
        "\n",
        "def main():\n",
        "  results = return_two()\n",
        "  print_things(results)\n",
        "main()\n",
        "```"
      ],
      "metadata": {
        "id": "GfxseB0s_dgq"
      }
    },
    {
      "cell_type": "code",
      "source": [
        "1: CCC 2: AAA"
      ],
      "metadata": {
        "id": "Zo2534gt_dyY"
      },
      "execution_count": null,
      "outputs": []
    },
    {
      "cell_type": "markdown",
      "source": [
        "**Q12**: What will the following program print out?\n",
        "```python\n",
        "def do_something(n):\n",
        "  lst1 = [x for x in range(1,n)]\n",
        "  return lst1\n",
        "\n",
        "def main():\n",
        "  result = do_something(5)\n",
        "  print(result[0], sum(result))\n",
        "\n",
        "main()\n",
        "```"
      ],
      "metadata": {
        "id": "QohXLTET9xvs"
      }
    },
    {
      "cell_type": "code",
      "source": [
        "1 10"
      ],
      "metadata": {
        "id": "Z8yx3qzK92gE"
      },
      "execution_count": null,
      "outputs": []
    },
    {
      "cell_type": "markdown",
      "source": [
        "**Q13**: What will the program output?\n",
        "\n",
        "```python\n",
        "def do_thing(num):\n",
        "  return num+1\n",
        "\n",
        "my_list = [do_thing(i) for i in range(1,5)]\n",
        "print(my_list)\n",
        "```"
      ],
      "metadata": {
        "id": "t9020ucD3GWH"
      }
    },
    {
      "cell_type": "code",
      "source": [
        "[2, 3, 4, 5]"
      ],
      "metadata": {
        "id": "3_ne7BYH3Gt5"
      },
      "execution_count": null,
      "outputs": []
    },
    {
      "cell_type": "markdown",
      "source": [
        "**Q14**: What will the program output?\n",
        "\n",
        "```python\n",
        "def do_x():\n",
        "  print('x')\n",
        "\n",
        "def do_y():\n",
        "  print('y')\n",
        "\n",
        "def big():\n",
        "  return 10\n",
        "\n",
        "def small():\n",
        "  return 1\n",
        "\n",
        "if big() > small():\n",
        "  do_x()\n",
        "else:\n",
        "  do_y()\n",
        "```"
      ],
      "metadata": {
        "id": "Vgz78owzEH09"
      }
    },
    {
      "cell_type": "code",
      "source": [
        "x"
      ],
      "metadata": {
        "id": "WmJXChmiEIIh"
      },
      "execution_count": null,
      "outputs": []
    },
    {
      "cell_type": "markdown",
      "source": [
        "**Q15**: What will the program output?\n",
        "```python\n",
        "def multiply(x,y):\n",
        "  return x*y\n",
        "\n",
        "my_list = [10,20,30,40]\n",
        "for i in range(len(my_list)):\n",
        "  my_list[i] = multiply(i, my_list[i])\n",
        "\n",
        "print(my_list)\n",
        "```"
      ],
      "metadata": {
        "id": "8KB4bSppEMg3"
      }
    },
    {
      "cell_type": "code",
      "source": [
        "[0, 20, 60, 120]"
      ],
      "metadata": {
        "id": "e2NthK8FEPcy"
      },
      "execution_count": null,
      "outputs": []
    },
    {
      "cell_type": "markdown",
      "source": [
        "**Q16**: จงเติมโค็ดเพื่อให้โปรแกรมแสดงผล 6."
      ],
      "metadata": {
        "id": "LIzF8CBW1bBG"
      }
    },
    {
      "cell_type": "code",
      "source": [
        "def calX(x, y):\n",
        "  return x + y\n",
        "\n",
        "print(calX(calX(3,1), 2))"
      ],
      "metadata": {
        "id": "uawPPg5G1anH",
        "outputId": "90a18861-709b-43a4-d000-e32bf5abfb2b",
        "colab": {
          "base_uri": "https://localhost:8080/"
        }
      },
      "execution_count": null,
      "outputs": [
        {
          "output_type": "stream",
          "name": "stdout",
          "text": [
            "6\n"
          ]
        }
      ]
    },
    {
      "cell_type": "markdown",
      "source": [
        "**Q17**: จงเติมโค็ดเพื่อให้โปรแกรมแสดงผล `Hello`"
      ],
      "metadata": {
        "id": "C42hQzkC1jtx"
      }
    },
    {
      "cell_type": "code",
      "source": [
        "def do_something():\n",
        "  print('Hello')\n",
        "\n",
        "do_something()"
      ],
      "metadata": {
        "id": "uz74-vq41o9b",
        "outputId": "c8670b09-3337-4be1-84ec-c1d5e9d691ab",
        "colab": {
          "base_uri": "https://localhost:8080/"
        }
      },
      "execution_count": null,
      "outputs": [
        {
          "output_type": "stream",
          "name": "stdout",
          "text": [
            "Hello\n"
          ]
        }
      ]
    },
    {
      "cell_type": "markdown",
      "source": [
        "**Q18**: จงเติมโค็ดเพื่อเรียกฟังก์ชัน `generate` และให้โปรแกรมแสดงผลเป็น `5`"
      ],
      "metadata": {
        "id": "RbmV5C0P2cRp"
      }
    },
    {
      "cell_type": "code",
      "source": [
        "def generate(x):\n",
        "  x *= 3\n",
        "  return x+2\n",
        "\n",
        "y = generate(1)\n",
        "print(y)"
      ],
      "metadata": {
        "id": "6ECDm6BL2rSs",
        "outputId": "372002ae-a5e2-4565-f5e9-d322581ebced",
        "colab": {
          "base_uri": "https://localhost:8080/"
        }
      },
      "execution_count": null,
      "outputs": [
        {
          "output_type": "stream",
          "name": "stdout",
          "text": [
            "5\n"
          ]
        }
      ]
    },
    {
      "cell_type": "markdown",
      "source": [
        "**Q19**: จงเติมโค็ดในช่องว่างเพื่อให้โปรแกรมแสดงผล `Yes:No`"
      ],
      "metadata": {
        "id": "_fpax4V4DBXq"
      }
    },
    {
      "cell_type": "code",
      "source": [
        "def check_condition(number):\n",
        "  return number == 10\n",
        "\n",
        "first_number = 10             #Here\n",
        "if check_condition(first_number):\n",
        "  print('Yes',end=':')\n",
        "else:\n",
        "  print('No',end=':')\n",
        "\n",
        "second_number = 20            #Here\n",
        "if check_condition(first_number) and check_condition(second_number):\n",
        "  print('Yes')\n",
        "else:\n",
        "  print('No')"
      ],
      "metadata": {
        "id": "uLA-g_vZDE0J",
        "outputId": "2f4eece0-86dd-4966-f3bb-0fbf93389635",
        "colab": {
          "base_uri": "https://localhost:8080/"
        }
      },
      "execution_count": null,
      "outputs": [
        {
          "output_type": "stream",
          "name": "stdout",
          "text": [
            "Yes:No\n"
          ]
        }
      ]
    },
    {
      "cell_type": "markdown",
      "source": [
        "**Q20**: จงเติมโค็ดในช่องว่างด้านล่างเพื่อเรียกใช้ ฟังก์ชัน `multiple_items` ซึ่งฟังก์ชันนี้จะรับ ข้อมูลจากผู้ใช้งานและส่งกลับมา และนำค่าที่ฟังก์ชันส่งกลับมาเก็บไว้ในตัวแปรให้เหมาะสม เพื่อแสดงผลใน `main()`\n",
        "\n",
        "**คำใบ้**: ดูชื่อตัวแปรใน `main` อย่าลืมว่าเราไม่สามารถไปเรียกใช้ตัวแปรในฟังก์ชันอื่นได้!\n",
        "\n",
        "Example of output:\n",
        "```\n",
        "Which is your favorite bridge? Baltimore\n",
        "When was it constructed? 1972\n",
        "My favorite bridge is 'Baltimore' and it was constructed in '1972'.\n",
        "```"
      ],
      "metadata": {
        "id": "tpJ-Drcx1vAo"
      }
    },
    {
      "cell_type": "code",
      "source": [
        "def multiple_items():\n",
        "    bridge = input(\"Which is your favorite bridge? \")\n",
        "    year = input(\"When was it constructed? \")\n",
        "    return bridge, year\n",
        "\n",
        "def main():\n",
        "    brg, yr = multiple_items() #Fill in your code here\n",
        "    print(f\"My favorite bridge is '{brg}' and it was constructed in '{yr}'.\")\n",
        "main()"
      ],
      "metadata": {
        "id": "VqtmISXX12Hx",
        "outputId": "df5b8621-b862-4c1c-bf08-b50b022c8eb3",
        "colab": {
          "base_uri": "https://localhost:8080/"
        }
      },
      "execution_count": null,
      "outputs": [
        {
          "output_type": "stream",
          "name": "stdout",
          "text": [
            "Which is your favorite bridge? Baltimore\n",
            "When was it constructed? 1972\n",
            "My favorite bridge is 'Baltimore' and it was constructed in '1972'.\n"
          ]
        }
      ]
    },
    {
      "cell_type": "markdown",
      "source": [
        "**Q21**: Welcome\n",
        "\n",
        "จงเขียนฟังก์ชัน ``print_welcome(n)`` ซึ่งรับค่า `n` แล้ว ปริ้นต์ \"Welcome\" n ครั้ง\n",
        "\n",
        "**Input**:\n",
        "- $n$\n",
        "\n",
        "**Output**:\n",
        "- \"Welcome\" $n$ times/lines\n",
        "\n",
        "Example:\n",
        "\n",
        "```\n",
        "Enter n: 3\n",
        "Welcome\n",
        "Welcome\n",
        "Welcome\n",
        "```"
      ],
      "metadata": {
        "id": "iAr_v9U03YYw"
      }
    },
    {
      "cell_type": "code",
      "source": [
        "# implement print_welcome(n) here\n",
        "def print_welcome(n):\n",
        "    for i in range(n):\n",
        "      print('Welcome')\n",
        "\n",
        "\n",
        "def main():\n",
        "    n = int(input(\"Enter n: \"))\n",
        "    print_welcome(n)\n",
        "main()"
      ],
      "metadata": {
        "id": "d5gQQmSD3Zjy",
        "outputId": "f375b8b3-0825-431e-9ae7-5675c2f5840d",
        "colab": {
          "base_uri": "https://localhost:8080/"
        }
      },
      "execution_count": null,
      "outputs": [
        {
          "output_type": "stream",
          "name": "stdout",
          "text": [
            "Enter n: 3\n",
            "Welcome\n",
            "Welcome\n",
            "Welcome\n"
          ]
        }
      ]
    },
    {
      "cell_type": "markdown",
      "source": [
        "**Q22**: Fahrenheit to Celsius function\n",
        "\n",
        "จงเขียนฟังก์ชัน $\\texttt{FtoC}$ ซึ่งรับตัวเลขสำหรับอุณหภูมิที่เป็น Fahrenheit และส่งคืนค่าอุณหภูมิเป็น Celsius. The formula is $C = (F-32)*5/9$.\n",
        "\n",
        "**Input**:\n",
        "* a real number for temperature in F.\n",
        "\n",
        "**Output**:\n",
        "* a real number for Celsius in two decimals\n",
        "\n",
        "Example 1:\n",
        "```\n",
        "Enter temperature (F):89\n",
        "31.67\n",
        "```\n",
        "\n",
        "Example 2:\n",
        "```\n",
        "Enter temperature (F):32\n",
        "0.00\n",
        "```"
      ],
      "metadata": {
        "id": "aLNvNR_B3qMO"
      }
    },
    {
      "cell_type": "code",
      "source": [
        "# Implement FtoC function below\n",
        "def FtoC(F):\n",
        "  C = (F-32)*5/9\n",
        "  return C\n",
        "\n",
        "def main():\n",
        "    temp = float(input(\"Enter temperature (F): \"))\n",
        "    print(f\"{FtoC(temp):.2f}\")\n",
        "main()"
      ],
      "metadata": {
        "id": "DUf0Rs8y3vjs",
        "outputId": "1571f6b5-6825-4cb5-c856-6c79697b2201",
        "colab": {
          "base_uri": "https://localhost:8080/"
        }
      },
      "execution_count": null,
      "outputs": [
        {
          "output_type": "stream",
          "name": "stdout",
          "text": [
            "Enter temperature (F): 32\n",
            "0.00\n"
          ]
        }
      ]
    },
    {
      "cell_type": "markdown",
      "source": [
        "**Q23**: Old or Young\n",
        "\n",
        "จงเขียน function `old_or_young(age)` ซึ่งรับตัวเลขหนึ่งตัว (อายุ) และส่งข้อความออกมา เป็น `old` ถ้าอายุมากกว่า 30 ถ้าไม่ใช่ให้ส่ง `young` ออกมาแทน\n",
        "\n",
        "**Input**:\n",
        "- An integer for age\n",
        "\n",
        "**Output**:\n",
        "- A string: `old` or `young`\n",
        "\n",
        "**Examples**:\n",
        "```\n",
        "Enter age: 35\n",
        "old\n",
        "```\n",
        "\n",
        "```\n",
        "Enter age: 20\n",
        "young\n",
        "```"
      ],
      "metadata": {
        "id": "CWlHX4iTDNNo"
      }
    },
    {
      "cell_type": "code",
      "source": [
        "# Implement old_or_young function below\n",
        "def old_or_young(age):\n",
        "    if age > 30:\n",
        "      return \"old\"\n",
        "    else:\n",
        "      return \"young\"\n",
        "\n",
        "\n",
        "# Implement main function below\n",
        "def main():\n",
        "    age = int(input(\"Enter age: \"))\n",
        "    result = old_or_young(age)\n",
        "    print(result)\n",
        "\n",
        "main()"
      ],
      "metadata": {
        "id": "2r0Mo0RZDOOh",
        "outputId": "6968a20c-f5e7-4ae6-dc36-ed58a3dc35aa",
        "colab": {
          "base_uri": "https://localhost:8080/"
        }
      },
      "execution_count": null,
      "outputs": [
        {
          "output_type": "stream",
          "name": "stdout",
          "text": [
            "Enter age: 32\n",
            "old\n"
          ]
        }
      ]
    },
    {
      "cell_type": "markdown",
      "source": [
        "**Q24** Rectangle\n",
        "\n",
        "จงเขียน function `rectangle(w,h)` ซึ่งรับตัวเลขสองตัว Weight `w` and Height `h` และ ส่งค่ากลับสองค่า พื้นที่ และ เส้นรอบรูป ของรูปสี่เหลี่ยม\n",
        "\n",
        "\n",
        "**Input**\n",
        "- Real number, w\n",
        "- Real number, h\n",
        "\n",
        "**Output**\n",
        "- Area, two decimal\n",
        "- Perimeter, two decimal\n",
        "\n",
        "**Requirement**\n",
        "- ต้องสร้างฟังก์ชัน `main()` ซึ่งจะรับข้อมูลจากผู้ใช้งานและหลังจากนั้นจะเรียกใช้ฟังก์ชั่น `rectangle(w,h) และนำค่าที่ return ออกมาเก็บไว้ในตัวแปร สุดท้ายจึงแสดงผลออกมา (ดูตัวอย่างได้จากข้อก่อนหน้านี้)\n",
        "\n",
        "**Example 1**\n",
        "\n",
        "```\n",
        ">Enter w: 5\n",
        ">Enter h: 6\n",
        "Area is 30.00\n",
        "Perimeter is 22.00\n",
        "```\n",
        "\n",
        "**Example 2**\n",
        "\n",
        "```\n",
        ">Enter w: 10\n",
        ">Enter h: 2.5\n",
        "Area is 25.00\n",
        "Perimeter is 25.00\n",
        "```\n"
      ],
      "metadata": {
        "id": "3M1VlnIy4eIN"
      }
    },
    {
      "cell_type": "code",
      "source": [
        "# implement rectangle function below\n",
        "def rectangle(w,h):\n",
        "    area = w*h\n",
        "    perimeter = 2*(w+h)\n",
        "    return area, perimeter\n",
        "\n",
        "# implement main function below\n",
        "def main():\n",
        "    w = float(input('Enter w: '))\n",
        "    h = float(input('Enter h: '))\n",
        "    a, p = rectangle(w,h)\n",
        "    print(f'Area is {a:.2f}')\n",
        "    print(f'Perimeter is {p:.2f}')\n",
        "\n",
        "main()"
      ],
      "metadata": {
        "id": "w8_4qkY06mPq",
        "outputId": "ab28fc85-2dc6-4c40-b5b5-f1878107801b",
        "colab": {
          "base_uri": "https://localhost:8080/"
        }
      },
      "execution_count": null,
      "outputs": [
        {
          "output_type": "stream",
          "name": "stdout",
          "text": [
            "Enter w: 10\n",
            "Enter h: 2.5\n",
            "Area is 25.00\n",
            "Perimeter is 25.00\n"
          ]
        }
      ]
    },
    {
      "cell_type": "markdown",
      "source": [
        "**Q25**: Mean\n",
        "\n",
        "จงเขียนฟังก์ชัน `mean(numbers)` เพื่อคำนวณหาค่า mean ของ list ของตัวเลขที่รับเข้ามา และ ส่งค่า mean นั้นออกไป\n",
        "\n",
        "\n",
        "**Function Requirements**\n",
        "- Argument: `numbers`: a list of integers\n",
        "- Output: mean\n",
        "\n",
        "ตัวอย่างและการทดสอบฟังก์ชันให้มาใน `main` แล้ว\n"
      ],
      "metadata": {
        "id": "3N4n5jvbDLeD"
      }
    },
    {
      "cell_type": "code",
      "source": [
        "# implement mean function below\n",
        "def mean(numbers):\n",
        "    return sum(numbers)/len(numbers)\n",
        "\n",
        "def main():\n",
        "    # Test 1\n",
        "    result1 = mean([1,2,3,4])\n",
        "    print(f'Your answer is {result1:.2f}. Expected answer is 2.50.')\n",
        "    # Test 2\n",
        "    result2 = mean([4,4,4])\n",
        "    print(f'Your answer is {result2:.2f}. Expected answer is 4.00.')\n",
        "    # Test 3\n",
        "    result3 = mean([-10, 30, 50, 70, 0, 1, 3])\n",
        "    print(f'Your answer is {result3:.2f}. Expected answer is 20.57.')\n",
        "\n",
        "main()"
      ],
      "metadata": {
        "id": "aU1U2KNYDM9K",
        "outputId": "5e1101e5-32c7-4548-ca0b-3040927ac07d",
        "colab": {
          "base_uri": "https://localhost:8080/"
        }
      },
      "execution_count": null,
      "outputs": [
        {
          "output_type": "stream",
          "name": "stdout",
          "text": [
            "Your answer is 2.50. Expected answer is 2.50.\n",
            "Your answer is 4.00. Expected answer is 4.00.\n",
            "Your answer is 20.57. Expected answer is 20.57.\n"
          ]
        }
      ]
    }
  ]
}