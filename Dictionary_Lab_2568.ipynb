{
  "nbformat": 4,
  "nbformat_minor": 0,
  "metadata": {
    "colab": {
      "provenance": [],
      "authorship_tag": "ABX9TyN0x7xY52t35kOno7rJI4+b",
      "include_colab_link": true
    },
    "kernelspec": {
      "name": "python3",
      "display_name": "Python 3"
    },
    "language_info": {
      "name": "python"
    }
  },
  "cells": [
    {
      "cell_type": "markdown",
      "metadata": {
        "id": "view-in-github",
        "colab_type": "text"
      },
      "source": [
        "<a href=\"https://colab.research.google.com/github/yongsa-nut/TU_CN101_68-1/blob/main/Dictionary_Lab_2568.ipynb\" target=\"_parent\"><img src=\"https://colab.research.google.com/assets/colab-badge.svg\" alt=\"Open In Colab\"/></a>"
      ]
    },
    {
      "cell_type": "markdown",
      "source": [
        "# Dictionary Lab"
      ],
      "metadata": {
        "id": "-0VmaKsKZPPL"
      }
    },
    {
      "cell_type": "markdown",
      "source": [
        "**Turn off AI**\n",
        "\n",
        "Tools > Setting > AI Assistance > Check Hide generative AI features"
      ],
      "metadata": {
        "id": "ChNByKgxZY8p"
      }
    },
    {
      "cell_type": "markdown",
      "source": [
        "**Q1**: What will the following program print out?\n",
        "\n",
        "```python\n",
        "my_dict = {'Mary':1,'Mathil':2,'Mona':3}\n",
        "print(my_dict['Mary'] + 2*my_dict['Mona'])\n",
        "```"
      ],
      "metadata": {
        "id": "RXZkOVKppCMh"
      }
    },
    {
      "cell_type": "code",
      "source": [],
      "metadata": {
        "id": "K3Z0-1b0pCoX"
      },
      "execution_count": null,
      "outputs": []
    },
    {
      "cell_type": "markdown",
      "source": [
        "**Q2**: What will the following program print out?\n",
        "\n",
        "```python\n",
        "dict1 = {'A':1,'B':2,'C':3}\n",
        "dict1['A'] = 3\n",
        "dict1['B'] = dict1['C']\n",
        "dict1['Z'] = 5\n",
        "print(dict1)\n",
        "```"
      ],
      "metadata": {
        "id": "wkibhY55pMNQ"
      }
    },
    {
      "cell_type": "code",
      "source": [],
      "metadata": {
        "id": "_cuFXvsbpND9"
      },
      "execution_count": null,
      "outputs": []
    },
    {
      "cell_type": "markdown",
      "source": [
        "**Q3**: What will the following program print out?\n",
        "\n",
        "```python\n",
        "my_dict = {'AAA': 'aaa', 'BBB':'bbb', 'ABB':'abb', 'CBA':'cba', 'abc':'ABC'}\n",
        "target = 'ABC'\n",
        "if target in my_dict:\n",
        "    print('Yes')\n",
        "else:\n",
        "    print('No')\n",
        "```"
      ],
      "metadata": {
        "id": "-9BNC2CHpNWN"
      }
    },
    {
      "cell_type": "code",
      "source": [],
      "metadata": {
        "id": "uidjm0WApOEn"
      },
      "execution_count": null,
      "outputs": []
    },
    {
      "cell_type": "markdown",
      "source": [
        "**Q4**: What will the following program print out?\n",
        "\n",
        "```python\n",
        "my_dict = {'A':2,'B':5,'C':7,'D':10}\n",
        "total = 0\n",
        "for key in my_dict:\n",
        "    total += my_dict[key]\n",
        "print(total)\n",
        "```"
      ],
      "metadata": {
        "id": "eizSCNCopOVb"
      }
    },
    {
      "cell_type": "code",
      "source": [],
      "metadata": {
        "id": "Hu8Fi3-LpPMm"
      },
      "execution_count": null,
      "outputs": []
    },
    {
      "cell_type": "markdown",
      "source": [
        "**Q5**: What will the following program print out?\n",
        "\n",
        "```python\n",
        "my_dict = {'A':1,'B':2,'C':6,'D':8,'E':7}\n",
        "total = 1\n",
        "for key, value in my_dict.items():\n",
        "    if value % 2 == 0:\n",
        "        total *= 2\n",
        "    else:\n",
        "        total *= value\n",
        "print(total)\n",
        "```"
      ],
      "metadata": {
        "id": "aQljZH3ZpPY3"
      }
    },
    {
      "cell_type": "code",
      "source": [],
      "metadata": {
        "id": "FEg3SVE7pQK6"
      },
      "execution_count": null,
      "outputs": []
    },
    {
      "cell_type": "markdown",
      "source": [
        "**Q6**: What will the following program print out?\n",
        "\n",
        "```python\n",
        "new_dict = {'2023':[],'2024':[]}\n",
        "new_dict['2023'].append(1)\n",
        "new_dict['2024'].append(10)\n",
        "new_dict['2022'] = ['A','B','C']\n",
        "print(new_dict)\n",
        "```"
      ],
      "metadata": {
        "id": "twXan-fGpQYr"
      }
    },
    {
      "cell_type": "code",
      "source": [],
      "metadata": {
        "id": "3eb_KW2xpRbm"
      },
      "execution_count": null,
      "outputs": []
    },
    {
      "cell_type": "markdown",
      "source": [
        "**Q7**: What will the following program print out?\n",
        "\n",
        "```python\n",
        "sentences = \"Cat cat dog cat dog Meow meow cat cat meow\"\n",
        "sentences = sentences.upper()\n",
        "words = sentences.split()\n",
        "my_dict = {}\n",
        "for word in words:\n",
        "    my_dict[word] = my_dict.get(word,0) + 1\n",
        "print(my_dict)\n",
        "```"
      ],
      "metadata": {
        "id": "l02Bd4QmpRtb"
      }
    },
    {
      "cell_type": "code",
      "source": [],
      "metadata": {
        "id": "VgvhE_bnpSmU"
      },
      "execution_count": null,
      "outputs": []
    },
    {
      "cell_type": "markdown",
      "source": [
        "**Q8**: Fill in the blank so that it prints out ``11``."
      ],
      "metadata": {
        "id": "57p4k2GrlNUA"
      }
    },
    {
      "cell_type": "code",
      "source": [
        "my_dict = {'A': 1, 'B': 11, 'C': 111}\n",
        "print(my_dict[__])"
      ],
      "metadata": {
        "id": "btGYJW-DlNB_"
      },
      "execution_count": null,
      "outputs": []
    },
    {
      "cell_type": "markdown",
      "source": [
        "**Q9**: Fill in the blank so that the program prints out `12`"
      ],
      "metadata": {
        "id": "ZSxAY-f7fL5P"
      }
    },
    {
      "cell_type": "code",
      "source": [
        "our_dict = {'A':'1','B':'2','C':10,'D':5}\n",
        "print(our_dict[____] + our_dict[____])"
      ],
      "metadata": {
        "id": "2eyodSLLfQMZ"
      },
      "execution_count": null,
      "outputs": []
    },
    {
      "cell_type": "markdown",
      "source": [
        "**Q10**: Fill in the blank so that it prints out `30`."
      ],
      "metadata": {
        "id": "HPL2R25RlRQ4"
      }
    },
    {
      "cell_type": "code",
      "source": [
        "dict_list = {'Math':[10, 20, 30],\n",
        "             'Science':[40, 50, 60],\n",
        "             'English':[70, 80, 90]}\n",
        "\n",
        "print(dict_list[__][__])"
      ],
      "metadata": {
        "id": "6SEL-ri3lWRd"
      },
      "execution_count": null,
      "outputs": []
    },
    {
      "cell_type": "markdown",
      "source": [
        "**Q11**: Fill in the blank so that it prints out `A`."
      ],
      "metadata": {
        "id": "MIgO95-Fl1SN"
      }
    },
    {
      "cell_type": "code",
      "source": [
        "users = {'Mary':{'age':20, 'gender':'F','grade':'B'},\n",
        "         'John':{'age':30, 'gender':'M','grade':'A'},\n",
        "         'Bob':{'age':25, 'gender':'M','grade':'C'}}\n",
        "\n",
        "print(users[__][__])"
      ],
      "metadata": {
        "id": "89OFqzx4l_XY"
      },
      "execution_count": null,
      "outputs": []
    },
    {
      "cell_type": "markdown",
      "source": [
        "**Q12** Fill in the blanks so that the program print out `{'Anna': [30, 20], 'Bob': []}`"
      ],
      "metadata": {
        "id": "An9RPYexo6SG"
      }
    },
    {
      "cell_type": "code",
      "source": [
        "scores = {'Anna':[],'Bob':[]}\n",
        "scores['Anna'].____________\n",
        "scores['Anna'].____________\n",
        "print(scores)"
      ],
      "metadata": {
        "id": "z0yTFajNY9m7"
      },
      "execution_count": null,
      "outputs": []
    },
    {
      "cell_type": "markdown",
      "source": [
        "**Q13**: จงเติมโค็ดในฟังก์ชั่น `print_sum` เพื่อให้โปรแกรมแสดงค่าผลรวมของ payment ของแต่ละคนออกมาจาก dictinoary ที่ให้มาแล้วใน `main` ตามตัวอย่างด้านล่าง\n",
        "\n",
        "```\n",
        "First Payment\n",
        "Anna: 30\n",
        "Bob: 140\n",
        "Second Payment\n",
        "Alice: 120\n",
        "Chris: 150\n",
        "Mike: 10\n",
        "```"
      ],
      "metadata": {
        "id": "3Nmeu2Vbf3fL"
      }
    },
    {
      "cell_type": "code",
      "source": [
        "def print_sum(payments):\n",
        "    for key in payments:\n",
        "        _____________________________________\n",
        "\n",
        "def main():\n",
        "    first = {'Anna':[10,20],\n",
        "            'Bob':[20,30,40,50]\n",
        "            }\n",
        "    second = {'Alice':[30, 40, 50],\n",
        "              'Chris':[50,100],\n",
        "              'Mike':[10]\n",
        "              }\n",
        "    print('First Payment')\n",
        "    print_sum(first)\n",
        "    print('Second Payment')\n",
        "    print_sum(second)\n",
        "\n",
        "main()"
      ],
      "metadata": {
        "id": "uPnDBufTf36v"
      },
      "execution_count": null,
      "outputs": []
    },
    {
      "cell_type": "markdown",
      "source": [
        "**Q14**: Count vowels\n",
        "\n",
        "สร้าง dictionary เพื่อนับจำนวนสระ (a, e, i, o, u) จาก input ที่ได้\n",
        "\n",
        "**Input**\n",
        "- string\n",
        "\n",
        "**Output**\n",
        "- A dictionary\n",
        "\n",
        "**หมายเหตุ:**\n",
        "- เติมโค้ดในฟังก์ชัน `count_vowels(input_string)` ซึ่งรับ string เข้ามาและส่งคืน dictionary\n",
        "- เติมโค้ดในฟังก์ชัน `main()` ซึ่งรับข้อความจากผู้ใช้, เรียกใช้ `count_vowels(input_string)` และพิมพ์ผลลัพธ์\n",
        "- ลำดับของ key ใน dictionary ที่แสดงผลไม่จำเป็นต้องเหมือนตัวอย่าง\n",
        "\n",
        "\n",
        "**Example 1**\n",
        "\n",
        "```\n",
        "Enter input string: AaA eE i o uUuu\n",
        "{'a': 3, 'e': 2, 'i': 1, 'o': 1, 'u': 4}\n",
        "```\n",
        "\n",
        "**Example 2**\n",
        "\n",
        "```\n",
        "Enter input string: Hello How are you? I'm fine thank you.\n",
        "{'a': 2, 'e': 3, 'i': 2, 'o': 4, 'u': 2}\n",
        "```\n"
      ],
      "metadata": {
        "id": "fjipzU35nBsN"
      }
    },
    {
      "cell_type": "code",
      "source": [
        "def count_vowels(input_string):\n",
        "    # Description: a function to create a dictionary of words and their counts\n",
        "    # Args: input_string - text\n",
        "    # Returns: a dictionary\n",
        "\n",
        "\n",
        "def main():\n",
        "    user_input = input(\"Enter input string:\")\n",
        "\n",
        "\n",
        "main()"
      ],
      "metadata": {
        "id": "YQjqwEqPou9A"
      },
      "execution_count": null,
      "outputs": []
    },
    {
      "cell_type": "markdown",
      "source": [
        "**Q15**: Dictionary of even and odd\n",
        "\n",
        "\n",
        "เขียนโปรแกรมที่รับข้อมูลจากผู้ใช้  โดยที่ข้อมูลนำเข้าเป็น ตัวเลขที่คั่นด้วยเครื่องหมายจุลภาค จากนั้นสร้าง dictionary ซึ่งประกอบด้วย list สองอันสำหรับเก็บตัวเลขคู่และตัวเลขคี่จากข้อมูลนำเข้า ตามตัวอย่างด้านล่าง\n",
        "\n",
        "**Input**:\n",
        "- A string\n",
        "\n",
        "**Output**:\n",
        "- A dictionary\n",
        "\n",
        "**Notes**:\n",
        "- `dict_even_odd(input_string)` function รับ string และส่ง dictionary ออกมาตามตัวอย่าง\n",
        "- `main()` รับข้อมูลจากผู้ใช้เป็นตัวเลขหลายตัวคั่นด้วยจุลภาค, หลังจากนั้นเรียกใช้ `dict_even_odd(input_string)` และนำผลลัพท์ที่ได้มาเก็บไว้ในตัวแปร และปริ้นตัวแปรนั้น\n",
        "\n",
        "\n",
        "**Example 1**:\n",
        "```\n",
        "Enter input string: 1\n",
        "{'even': [], 'odd': [1]}\n",
        "```\n",
        "\n",
        "**Example 2**:\n",
        "```\n",
        "Enter input string: 1,3,5,8,10\n",
        "{'even': [8, 10], 'odd': [1, 3, 5]}\n",
        "```\n",
        "\n",
        "**Example 3**:\n",
        "```\n",
        "Enter input string: 0,4,7,9,12\n",
        "{'even': [0, 4, 12], 'odd': [7, 9]}\n",
        "```"
      ],
      "metadata": {
        "id": "vOsxxrFWt7Cm"
      }
    },
    {
      "cell_type": "code",
      "execution_count": null,
      "metadata": {
        "id": "9i8EQN0atpFC"
      },
      "outputs": [],
      "source": [
        "def dict_even_odd(input_string):\n",
        "    # A function to create a dict of even/odd lists\n",
        "    # Args: input_string - a string of numbers separated by commas\n",
        "    # Returns: A dict\n",
        "\n",
        "\n",
        "def main():\n",
        "\n",
        "\n",
        "\n",
        "main()"
      ]
    }
  ]
}