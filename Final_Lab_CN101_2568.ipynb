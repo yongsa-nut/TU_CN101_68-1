{
  "nbformat": 4,
  "nbformat_minor": 0,
  "metadata": {
    "colab": {
      "provenance": [],
      "authorship_tag": "ABX9TyMAQ3AKk4LynP9x4QFPSAUF",
      "include_colab_link": true
    },
    "kernelspec": {
      "name": "python3",
      "display_name": "Python 3"
    },
    "language_info": {
      "name": "python"
    }
  },
  "cells": [
    {
      "cell_type": "markdown",
      "metadata": {
        "id": "view-in-github",
        "colab_type": "text"
      },
      "source": [
        "<a href=\"https://colab.research.google.com/github/yongsa-nut/TU_CN101_68-1/blob/main/Final_Lab_CN101_2568.ipynb\" target=\"_parent\"><img src=\"https://colab.research.google.com/assets/colab-badge.svg\" alt=\"Open In Colab\"/></a>"
      ]
    },
    {
      "cell_type": "markdown",
      "source": [
        "# Final Lab"
      ],
      "metadata": {
        "id": "5Ac1DYvHOqtL"
      }
    },
    {
      "cell_type": "markdown",
      "source": [
        "**Q1**: จงเขียนผลลัพท์ของโปรแกรมต่อไปนี้\n",
        "\n",
        "```python\n",
        "my_list = [10, 50, 30, 5, 7]\n",
        "your_list = my_list[-3:]\n",
        "print(min(my_list), max(your_list))\n",
        "```"
      ],
      "metadata": {
        "id": "MmHOownSOst0"
      }
    },
    {
      "cell_type": "code",
      "execution_count": null,
      "metadata": {
        "id": "nm1eUDYzOdx0"
      },
      "outputs": [],
      "source": []
    },
    {
      "cell_type": "markdown",
      "source": [
        "**Q2**: จงเขียนผลลัพท์ของโปรแกรมต่อไปนี้\n",
        "\n",
        "```python\n",
        "numbers = [5, 10, 7, 9, 2]\n",
        "list1 = sorted(numbers, reverse=True)\n",
        "list2 = sorted(numbers, reverse=False)\n",
        "print(list1)\n",
        "print(list2)\n",
        "```"
      ],
      "metadata": {
        "id": "p0BMc-q4OuUN"
      }
    },
    {
      "cell_type": "code",
      "source": [],
      "metadata": {
        "id": "F4YmM71DOvTh"
      },
      "execution_count": null,
      "outputs": []
    },
    {
      "cell_type": "markdown",
      "source": [
        "**Q3**: จงเขียนผลลัพท์ของโปรแกรมต่อไปนี้\n",
        "\n",
        "```python\n",
        "my_chars = ['AA','DD','BB','cc','ee','tt','kk']\n",
        "first = my_chars[:3]\n",
        "second = my_chars[-3:]\n",
        "f_str = \"-\".join(first)\n",
        "s_str = \" \".join(second)\n",
        "print(f_str + \" \" + s_str.upper())\n",
        "```"
      ],
      "metadata": {
        "id": "ytKZS8mxSuFH"
      }
    },
    {
      "cell_type": "code",
      "source": [],
      "metadata": {
        "id": "zj3OpZvGSwOt"
      },
      "execution_count": null,
      "outputs": []
    },
    {
      "cell_type": "markdown",
      "source": [
        "**Q4**: จงเขียนผลลัพท์ของโปรแกรมต่อไปนี้\n",
        "\n",
        "```python\n",
        "temp = \"Hello<There<What<How<Okay<Yes\"\n",
        "words = temp.split('<')\n",
        "new_words = words[:2]\n",
        "print(new_words[-1])\n",
        "```"
      ],
      "metadata": {
        "id": "0A1CZ3JYSzXa"
      }
    },
    {
      "cell_type": "code",
      "source": [],
      "metadata": {
        "collapsed": true,
        "id": "6Sp9poqYS0WA"
      },
      "execution_count": null,
      "outputs": []
    },
    {
      "cell_type": "markdown",
      "source": [
        "**Q5**: จงเขียนผลลัพท์ของโปรแกรมต่อไปนี้\n",
        "\n",
        "```python\n",
        "dna = \"A C C T T G C C\"\n",
        "dna_list = dna.split(\" \")\n",
        "dna_dict = {}\n",
        "for g in dna_list:\n",
        "    dna_dict[g] = dna_dict.get(g, 0) + 1\n",
        "print(dna_dict)\n",
        "```"
      ],
      "metadata": {
        "id": "xe9HMJ85S0ia"
      }
    },
    {
      "cell_type": "code",
      "source": [],
      "metadata": {
        "id": "WWg2sn80S1Zv"
      },
      "execution_count": null,
      "outputs": []
    },
    {
      "cell_type": "markdown",
      "source": [
        "**Q6**: จงเขียนผลลัพท์ของโปรแกรมต่อไปนี้\n",
        "\n",
        "```python\n",
        "list_c = [(t//2) for t in range(7) if t % 2 == 0]\n",
        "print(sum(list_c))\n",
        "print(list_c)\n",
        "```"
      ],
      "metadata": {
        "id": "iogWwecOS1x2"
      }
    },
    {
      "cell_type": "code",
      "source": [],
      "metadata": {
        "id": "xX58Un9TS2wW"
      },
      "execution_count": null,
      "outputs": []
    },
    {
      "cell_type": "markdown",
      "source": [
        "**Q7**: จงเขียนผลลัพท์ของโปรแกรมต่อไปนี้\n",
        "\n",
        "```python\n",
        "my_dict = {'Alice':10, 'Bob':20, 'Zack':30, 'Rose':35}\n",
        "your_dict = {}\n",
        "my_dict['Rose'] = 25\n",
        "for name in my_dict:\n",
        "    if name in ['Alice', 'Rose', 'Zack']:\n",
        "        your_dict[name] = my_dict[name]\n",
        "print(your_dict)\n",
        "```"
      ],
      "metadata": {
        "id": "Mrt_apI5S3Qp"
      }
    },
    {
      "cell_type": "code",
      "source": [],
      "metadata": {
        "id": "OIVX3beAS4lh"
      },
      "execution_count": null,
      "outputs": []
    },
    {
      "cell_type": "markdown",
      "source": [
        "**Q8**: จงเขียนผลลัพท์ของโปรแกรมต่อไปนี้\n",
        "\n",
        "```python\n",
        "sequences = [10, 20, 30]\n",
        "for i, num in enumerate(sequences):\n",
        "    print(f\"{i+1}, {num:.1f}\")\n",
        "```"
      ],
      "metadata": {
        "id": "3r6qzzIeS4xY"
      }
    },
    {
      "cell_type": "code",
      "source": [],
      "metadata": {
        "id": "Q73VuKfhS6Cx"
      },
      "execution_count": null,
      "outputs": []
    },
    {
      "cell_type": "markdown",
      "source": [
        "**Q9**: จงเขียนผลลัพท์ของโปรแกรมต่อไปนี้\n",
        "\n",
        "```python\n",
        "def do_something(f, s, t):\n",
        "    x = f*s\n",
        "    y = t - s\n",
        "    return x, y\n",
        "\n",
        "wtf = [(10, 20, 30), (5, 10, 15)]\n",
        "for i, (first, second, third) in enumerate(wtf):\n",
        "    a, b = do_something(first, second, third)\n",
        "    print(i, a, b)\n",
        "```"
      ],
      "metadata": {
        "id": "Hrub_MhiS8-H"
      }
    },
    {
      "cell_type": "code",
      "source": [],
      "metadata": {
        "id": "YnTL0JUuS-qY"
      },
      "execution_count": null,
      "outputs": []
    },
    {
      "cell_type": "markdown",
      "source": [
        "**Q10**: จงเขียนผลลัพท์ของโปรแกรมต่อไปนี้\n",
        "\n",
        "```python\n",
        "import math\n",
        "\n",
        "def create_list(n):\n",
        "    x = math.sqrt(n)\n",
        "    y = x*10\n",
        "    return [x,y]\n",
        "\n",
        "def print_things(things):\n",
        "    print(f'{things[0]:.2f}, {things[1]:.2f}')\n",
        "\n",
        "def main():\n",
        "    outs = create_list(4)\n",
        "    print_things(outs)\n",
        "\n",
        "main()\n",
        "```"
      ],
      "metadata": {
        "id": "kcVzodkeS-3M"
      }
    },
    {
      "cell_type": "code",
      "source": [],
      "metadata": {
        "id": "1H1GKRYDS_4N"
      },
      "execution_count": null,
      "outputs": []
    },
    {
      "cell_type": "markdown",
      "source": [
        "# Short Programming"
      ],
      "metadata": {
        "id": "E5K1bBbgcIdc"
      }
    },
    {
      "cell_type": "markdown",
      "source": [
        "**Q11**: Pretty print\n",
        "\n",
        "จงสร้างฟังก์ชัน `pretty_print` ซึ่งรับ tuple เข้าไปและ ปริ้นแสดงผลออกมาดังตัวอย่างด้านล่าง   \n",
        "\n",
        "Example\n",
        "```\n",
        "Your name is Alice\n",
        "Age: 20\n",
        "Height: 150\n",
        "Your name is Bob\n",
        "Age: 30\n",
        "Height: 170\n",
        "Your name is Anna\n",
        "Age: 16\n",
        "Height: 165\n",
        "```"
      ],
      "metadata": {
        "id": "5xHeukEiuXR_"
      }
    },
    {
      "cell_type": "code",
      "source": [
        "def pretty_print(info):\n",
        "    _________________________________\n",
        "    _________________________________\n",
        "    _________________________________\n",
        "\n",
        "def main():\n",
        "    students = [('Alice', 20, 150), ('Bob', 30, 170), ('Anna', 16, 165)]\n",
        "    for student in students:\n",
        "        pretty_print(student)\n",
        "main()"
      ],
      "metadata": {
        "id": "7NpZl3Beul2T"
      },
      "execution_count": null,
      "outputs": []
    },
    {
      "cell_type": "markdown",
      "source": [
        "**Q12**: Circle Properties\n",
        "\n",
        "จงเขียนฟังก์ชัน `circle_properties(radius)` ที่รับค่ารัศมีของวงกลมและคืนค่าพื้นที่และเส้นรอบวงของวงกลม\n",
        "\n",
        "\n",
        "**Input** (in `main`):\n",
        "- จำนวนจริง รัศมีที่รับจากผู้ใช้\n",
        "\n",
        "**Output** (in `main`):\n",
        "- จำนวนจริง พื้นที่ของวงกลมแสดงทศนิยม 2 ตำแหน่ง\n",
        "- จำนวนจริง เส้นรอบวงแสดงทศนิยม 2 ตำแหน่ง\n",
        "\n",
        "**Note**:\n",
        "- ใช้ค่า pi จาก math library\n",
        "\n",
        "Example 1:\n",
        "\n",
        "```\n",
        "Enter the radius: 1\n",
        "Area: 3.14\n",
        "Circumference: 6.28\n",
        "```\n",
        "\n",
        "Example 2:\n",
        "```\n",
        "Enter the radius: 2.5\n",
        "Area: 19.63\n",
        "Circumference: 15.71\n",
        "```"
      ],
      "metadata": {
        "id": "JtqBKgdmcMzD"
      }
    },
    {
      "cell_type": "code",
      "source": [
        "# import\n",
        "_____________________________\n",
        "\n",
        "# Implement circle_properties(radius) function here\n",
        "# Argument: radius\n",
        "# Returns: area and circumference\n",
        "def circle_properties(radius):\n",
        "    area = ____________________\n",
        "    circum = __________________\n",
        "    ___________________________\n",
        "\n",
        "def main():\n",
        "    radius = float(input(\"Enter the radius: \"))\n",
        "    # call circle_properties(radius) below\n",
        "    ____________________________\n",
        "    # print area and circumference\n",
        "    ____________________________\n",
        "    ____________________________\n",
        "\n",
        "main()"
      ],
      "metadata": {
        "id": "53IXbla5cQYM"
      },
      "execution_count": null,
      "outputs": []
    },
    {
      "cell_type": "markdown",
      "source": [
        "**Q13**: String to list of numbers\n",
        "\n",
        "จงสร้างฟังก์ชัน `query_and_preprocess` ที่ถามผู้ใช้สำหรับลำดับของตัวเลขที่คั่นด้วย `//` และแปลงเป็นลิสต์ (list) ของตัวเลขจริงแล้วส่งคืนค่า\n",
        "\n",
        "**Input**:\n",
        "- สตริง ซึ่งเป็นลำดับของตัวเลขที่คั่นด้วย `//`\n",
        "\n",
        "**Output**:\n",
        "- ลิสต์ของตัวเลข\n",
        "\n",
        "Example 1:\n",
        "```\n",
        "Enter numbers: 10//20//30\n",
        "Your list: [10, 20, 30]\n",
        "```\n",
        "\n",
        "Example 2:\n",
        "```\n",
        "Enter numbers: 5//10\n",
        "Your list: [5, 10]\n",
        "```"
      ],
      "metadata": {
        "id": "dDzL-aaocQsX"
      }
    },
    {
      "cell_type": "code",
      "source": [
        "def query_and_preprocess():\n",
        "    seq = input('Enter numbers: ')\n",
        "    # Fill in your code below\n",
        "    str_list = _________________________\n",
        "    _____________________________\n",
        "    _____________________________\n",
        "    _____________________________\n",
        "\n",
        "def main():\n",
        "    your_list = query_and_preprocess()\n",
        "    print(f'Your list: {your_list}')\n",
        "\n",
        "main()"
      ],
      "metadata": {
        "id": "f1XZDtEucUDK"
      },
      "execution_count": null,
      "outputs": []
    },
    {
      "cell_type": "markdown",
      "source": [
        "**Q14**: Temperature Convertion\n",
        "\n",
        "จงเขียนโปรแกรมและฟังก์ชันเพื่อแปลงอุณหภูมิจากฟาเรนไฮต์เป็นเซลเซียสและเซลเซียสเป็นฟาเรนไฮต์ตามที่ผู้ใช้ป้อนค่าดังนี้:\n",
        "\n",
        "- ถ้าผู้ใช้เลือก 1 รับอุณหภูมิในหน่วยฟาเรนไฮต์และแปลงเป็นเซลเซียส\n",
        "- ถ้าผู้ใช้เลือก 2 รับอุณหภูมิในหน่วยเซลเซียสและแปลงเป็นฟาเรนไฮต์\n",
        "- ถ้าผู้ใช้เลือก 3 ออกจากโปรแกรม (ออกจากลูป)\n",
        "\n",
        "**ข้อกำหนด**:\n",
        "- ฟังก์ชัน `FtoC` สำหรับแปลงฟาเรนไฮต์เป็นเซลเซียส (F = C*1.8 + 32)\n",
        "- ฟังก์ชัน `CtoF` สำหรับแปลงเซลเซียสเป็นฟาเรนไฮต์ (C = (F-32)*5/9)\n",
        "- ฟังก์ชัน `main` ซึ่งจะถามผู้ใช้ซ้ำๆ จนกว่าผู้ใช้จะเลือก 3\n",
        "\n",
        "**Input**:\n",
        "- ตัวเลือกของผู้ใช้ (1, 2 หรือ 3)\n",
        "- ถ้าผู้ใช้เลือก 1 ให้ป้อนตัวเลขจริงสำหรับฟาเรนไฮต์ (ทศนิยมสองตำแหน่ง)\n",
        "- ถ้าผู้ใช้เลือก 2 ให้ป้อนตัวเลขจริงสำหรับเซลเซียส (ทศนิยมสองตำแหน่ง)\n",
        "\n",
        "**Output**:\n",
        "- ฟาเรนไฮต์หรือเซลเซียสขึ้นอยู่กับตัวเลือกของผู้ใช้\n",
        "\n",
        "\n",
        "Example:\n",
        "\n",
        "```\n",
        "== Choice 1: FtoC, Choice 2: CtoF, Choice 3: Exit ==\n",
        "Enter your choice (1, 2, 3): 1\n",
        "Enter Fahrenheit: 32\n",
        "Celsius = 0.00\n",
        "== Choice 1: FtoC, Choice 2: CtoF, Choice 3: Exit ==\n",
        "Enter your choice (1, 2, 3): 2\n",
        "Enter Celsius: 100\n",
        "Fahrenheit = 212.00\n",
        "== Choice 1: FtoC, Choice 2: CtoF, Choice 3: Exit ==\n",
        "Enter your choice (1, 2, 3): 3\n",
        "Exit\n",
        "```\n"
      ],
      "metadata": {
        "id": "pw1fTi8_crpv"
      }
    },
    {
      "cell_type": "code",
      "source": [
        "def FtoC(fah):\n",
        "    _______________________\n",
        "\n",
        "def CtoF(cel):\n",
        "    _______________________\n",
        "\n",
        "def main():\n",
        "    while True:\n",
        "        print('== Choice 1: FtoC, Choice 2: CtoF, Choice 3: Exit ==')\n",
        "        user_choice = int(input('Enter your choice (1, 2, 3): '))\n",
        "        if ___________________________:\n",
        "            fah = float(input('Enter Fahrenheit: '))\n",
        "            _____________________________\n",
        "            _____________________________\n",
        "        elif ___________________________:\n",
        "            cel = float(input('Enter Celsius: '))\n",
        "            _____________________________\n",
        "            _____________________________\n",
        "        elif ___________________________:\n",
        "            print('Exit')\n",
        "            ___________________\n",
        "main()"
      ],
      "metadata": {
        "id": "58AvlTD4cvsv"
      },
      "execution_count": null,
      "outputs": []
    },
    {
      "cell_type": "markdown",
      "source": [
        "**Q15**: Creating a dictionary (Optional)\n",
        "\n",
        "จงเขียนโปรแกรมเพื่อสร้าง dictionary ของสินค้าและจำนวนของสินค้า ผู้ใช้จะกรอกลำดับคู่ของสินค้าและจำนวนที่คั่นด้วยเครื่องหมาย `-` เช่น `Apple-20,Banana-30,Apple-10,Orange-40` สินค้าเดียวกันจะต้องรวมจำนวนทั้งหมดเข้าด้วยกัน dictionary ที่ได้ควรเป็น `{'Apple': 30, 'Banana':30,'Orange':40}`\n",
        "\n",
        "**ข้อมูลนำเข้า**:\n",
        "- หนึ่งสตริง ลำดับคู่ของสินค้าและจำนวน\n",
        "\n",
        "**ข้อมูลส่งออก**:\n",
        "- dictionary\n",
        "\n",
        "**Pseudocode**:\n",
        "\n",
        "**ฟังก์ชัน: create_dict(item_amount_string)**\n",
        "1. สร้าง dictionary เปล่าชื่อ `inventory_dict`\n",
        "2. แบ่งข้อมูลนำเข้า `item_amount_string` ด้วยเครื่องหมายจุลภาค (,) เป็นลิสต์ของสตริง เก็บไว้ที่ตัวแปร `pairs`\n",
        "3. สำหรับแต่ละ `pair` ใน ลิสต์ `pairs`:\n",
        "   \n",
        "   a. แบ่ง `pair` ด้วยเครื่องหมาย - เป็นลิสต์ของ สตริงของสินค้าและจำนวน และเก็บไว้ที่ `pair`\n",
        "   \n",
        "   b. กำหนดให้ `item` เป็นส่วนแรก (index = 0) ของ `pair` (ก่อน -)\n",
        "   \n",
        "   c. กำหนดให้ `amount` เป็นส่วนที่สอง (index = 1) ของ `pair` (หลัง -) แปลงเป็นจำนวนเต็ม\n",
        "   \n",
        "   d. ถ้า `item` มีอยู่แล้วใน `inventory_dict` ให้เพิ่ม `amount` ใหม่เข้ากับค่าปัจจุบัน ถ้าไม่มี ให้กำหนดค่าเป็น `amount` ปัจจุบัน (สามารถใช้ `get(key, default)`)\n",
        "4. ส่งคืน `inventory_dict` ที่สมบูรณ์\n",
        "\n",
        "**ฟังก์ชัน: main()**\n",
        "1. ขอให้ผู้ใช้กรอกลำดับและเก็บไว้ใน `user_input`\n",
        "2. เรียกฟังก์ชัน `create_dict` ด้วย `user_input` และเก็บผลลัพธ์ไว้ใน `result_dict`\n",
        "3. แสดง `result_dict` ให้ผู้ใช้เห็น\n",
        "\n",
        "**การทำงานของโปรแกรม**\n",
        "1. เรียกฟังก์ชัน `main` เพื่อเริ่มต้นโปรแกรม\n",
        "\n",
        "Example:\n",
        "```\n",
        "Enter sequence: Apple-20,Banana-30,Apple-10,Orange-40\n",
        "{'Apple': 30, 'Banana': 30, 'Orange': 40}\n",
        "```"
      ],
      "metadata": {
        "id": "NibdY2Ptcy1G"
      }
    },
    {
      "cell_type": "code",
      "source": [
        "def create_dict(item_amount_string):\n",
        "    _____________________________________\n",
        "    pairs = _____________________________\n",
        "    for pair in pairs:\n",
        "        pair = ____________________________\n",
        "        ___________________________________\n",
        "        ___________________________________\n",
        "        inventory_dict[item] = inventory_dict.get(item, 0) + amount\n",
        "    _____________________________________\n",
        "\n",
        "def main():\n",
        "    user_input = input('Enter sequence: ')\n",
        "    _______________________________________\n",
        "    _______________________________________\n",
        "\n",
        "main()"
      ],
      "metadata": {
        "id": "qDyiGVAfc0Gt"
      },
      "execution_count": null,
      "outputs": []
    },
    {
      "cell_type": "markdown",
      "source": [
        "# Long Programming"
      ],
      "metadata": {
        "id": "AFrJyFfQcLIO"
      }
    },
    {
      "cell_type": "markdown",
      "source": [
        "**Q16**: Grades\n",
        "\n",
        "จงเขียนโปรแกรมเพื่อคำนวณคะแนนเฉลี่ยและเกรดจากคะแนนเฉลี่ยของนักเรียน n คน และรายงานจำนวนนักเรียนที่ได้เกรด A ผู้ใช้จะป้อนจำนวนนักเรียนก่อน หลังจากนั้น ผู้ใช้จะป้อนคะแนนเป็นลำดับโดยคั่นด้วยเครื่องหมายจุลภาคสำหรับนักเรียนแต่ละคน\n",
        "\n",
        "เกณฑ์การให้เกรดมีดังนี้:\n",
        "- A: คะแนน >= 80\n",
        "- B: 70 <= คะแนน < 80\n",
        "- C: 60 <= คะแนน < 70\n",
        "- F: คะแนน < 60\n",
        "\n",
        "**ข้อกำหนด**:\n",
        "\n",
        "**Function: get_scores()**:\n",
        "- ฟังก์ชันที่ถามผู้ใช้เพื่อขอคะแนนและส่งคืน list ของคะแนนในรูปแบบ float (เช่น [20, 30.5, 40])\n",
        "\n",
        "**Function: average_score(scores)**:\n",
        "- ฟังก์ชันที่คำนวณคะแนนเฉลี่ยจาก list ของคะแนน ส่งคืนค่าคะแนนเฉลี่ย\n",
        "\n",
        "**Function: letter_grade(score)**:\n",
        "- ฟังก์ชันที่หาเกรดโดยรับคะแนนหนึ่งค่าและส่งคืนตัวอักษรเกรดตามเกณฑ์ข้างต้น\n",
        "\n",
        "**Function: main()**:\n",
        "- ฟังก์ชันหลักที่ถามผู้ใช้จำนวนนักเรียนก่อน แล้วทำการวนซ้ำเพื่อถามคะแนนของนักเรียนแต่ละคนโดยเรียกใช้ `get_scores()` สำหรับนักเรียนแต่ละคน แสดงคะแนนเฉลี่ยและเกรดจากคะแนนเฉลี่ยซึ่งได้จาก ฟังก์ชัน `average_score` และ `letter_grade` ตามลำดับ\n",
        "- สุดท้าย แสดงจำนวนนักเรียนที่ได้เกรด A\n",
        "\n",
        "**Input**:\n",
        "- จำนวนนักเรียน\n",
        "- คะแนนสำหรับนักเรียนแต่ละคน\n",
        "\n",
        "**Output**:\n",
        "- คะแนนเฉลี่ยและเกรดสำหรับนักเรียนแต่ละคน\n",
        "- จำนวนนักเรียนที่ได้เกรด A\n",
        "\n",
        "Example:\n",
        "```\n",
        "Enter the number of students: 3\n",
        "Student 1:\n",
        "Enter the scores: 89,75,92\n",
        "Average: 85.33\n",
        "Grade: A\n",
        "Student 2:\n",
        "Enter the scores: 80,70,69\n",
        "Average: 73.00\n",
        "Grade: B\n",
        "Student 3:\n",
        "Enter the scores: 99,98,97\n",
        "Average: 98.00\n",
        "Grade: A\n",
        "Number of students who got an A: 2\n",
        "```"
      ],
      "metadata": {
        "id": "3V_noY7as9SJ"
      }
    },
    {
      "cell_type": "code",
      "source": [
        "def get_scores():\n",
        "    ...\n",
        "\n",
        "def average_score(scores):\n",
        "    ...\n",
        "\n",
        "def letter_grade(score):\n",
        "    ...\n",
        "\n",
        "def main():\n",
        "    ...\n",
        "\n",
        "main()"
      ],
      "metadata": {
        "id": "Wyfz_Lzms_u_"
      },
      "execution_count": null,
      "outputs": []
    },
    {
      "cell_type": "markdown",
      "source": [
        "**Q17**: Linear Regression (Optional)\n",
        "\n",
        "ในปัญหานี้ เราจะทำการพัฒนา linear regression อย่างง่ายที่เราได้เรียนไปในคาบที่แล้ว user จะป้อนข้อมูลของเส้นตัวจริง (`y = true_w*x + true_b`) กับเส้นที่จะมาทดสอบ (`y_hat = w*x + b`) โดยเราจะสร้าง data ขึ้นมาเองก่อนโดย data นี้จะเกิดจาก สมการเส้นตัวจริง หลังจากนั้น เราจะหา error ของสมการเส้นทดสอบเรา โดยคำนวณจาก ผลต่างของ `y_hat` กับ `y` กำลังสอง (`error = (y-y_hat)**2`) สุดท้ายแสดงผล ค่าเฉลี่ย ของ error จากข้อมูลทั้งหมดออกมา\n",
        "\n",
        "โปรแกรมจะประกอบด้วยสามฟังก์ชัน: `gen_data`, `squared_error`, และ `main` รายละเอียดของแต่ละฟังก์ชันและ pseudocodeมีดังต่อไปนี้\n",
        "\n",
        "**ฟังก์ชัน: gen_data(true_w, true_b, n)**\n",
        "\n",
        "**คำอธิบาย**: ฟังก์ชันสำหรับสร้าง list ของคู่ค่า x และ y จำนวน n คู่ ข้อมูลจะมีลักษณะดังนี้ [(x_1, y_1), ... , (x_n, y_n)]\n",
        "- สร้าง list ว่างชื่อ `data`\n",
        "- ทำการวนลูปจำนวน `n` ครั้ง\n",
        "  - สร้างตัวเลขสุ่มโดยใช้ `random.uniform(-1,1)` และเก็บค่าไว้ที่ `x`\n",
        "  - คำนวณ `y` ตามฟังก์ชันเชิงเส้น `true_w*x + true_b`\n",
        "  - เพิ่มคู่ (tuple) ของ `x` และ `y` เข้าไปใน `data`\n",
        "- คืนค่า `data`\n",
        "\n",
        "**ฟังก์ชัน: squared_error(w, b, x, y)**\n",
        "\n",
        "**คำอธิบาย**: ฟังก์ชันสำหรับคำนวณค่าerrorกำลังสองของข้อมูลที่กำหนด\n",
        "- คำนวณค่า y_hat ตามฟังก์ชันเชิงเส้น `w*x + b` และเก็บค่าไว้ในตัวแปร `y_hat`\n",
        "- คำนวณความคลาดเคลื่อนกำลังสองโดยการลบ `y` จาก `y_hat` แล้วยกกำลังสอง และเก็บค่าไว้ในตัวแปร `error`\n",
        "- คืนค่า `error`\n",
        "\n",
        "**ฟังก์ชัน: main()**\n",
        "- ตั้งค่า random seed เป็น 100\n",
        "- ถามผู้ใช้สำหรับ **ห้าค่า** ตามลำดับดังนี้: `true_w`, `true_b`, `w`, `b`, `n` โดยที่ `n` เป็นจำนวนเต็ม และค่าที่เหลือเป็นจำนวนจริง/ทศนิยม\n",
        "- เรียกใช้ `gen_data` ด้วย `true_w`, `true_b` และ `n` เพื่อสร้างชุดข้อมูลและกำหนดให้เป็นตัวแปร `dataset`\n",
        "- สร้างตัวแปร `total_loss` สำหรับสะสมค่า loss และกำหนดให้เป็น `0`\n",
        "- สำหรับ `i, (x, y)` ใน `enumerate(dataset)`\n",
        "  - เรียกใช้ `squared_error` เพื่อคำนวณ loss สำหรับข้อมูล (`x` และ `y`) และเก็บไว้ที่ `loss`\n",
        "  - บวก `loss` เข้าไปใน `total_loss`\n",
        "  - ถ้า `i` หารด้วย 10 ลงตัว\n",
        "    - แสดงค่า `i`, `loss` และ `total_loss` (ทศนิยมสองตำแหน่ง ดูตัวอย่าง)\n",
        "- คำนวณค่าเฉลี่ยของ loss โดยการหาร `total_loss` ด้วย `n` และกำหนดให้เป็น `mean_loss`\n",
        "- แสดงค่า `mean_loss` (ทศนิยมสองตำแหน่ง) ให้กับผู้ใช้\n",
        "\n",
        "**การดำเนินการของโปรแกรม**\n",
        "- เรียกใช้ฟังก์ชัน main เพื่อเริ่มต้นโปรแกรม\n",
        "\n",
        "**หมายเหตุ**:\n",
        "- บรรทัดที่ให้มีจำนวนมาตรงกับ pseudocode ที่ให้\n",
        "\n",
        "Example:\n",
        "\n",
        "```\n",
        "Enter true w: 1\n",
        "Enter true b: 1\n",
        "Enter w: 2\n",
        "Enter b: 2\n",
        "Enter n: 50\n",
        "Iteration 0: Loss = 0.08, total loss = 0.08\n",
        "Iteration 10: Loss = 0.01, total loss = 12.74\n",
        "Iteration 20: Loss = 1.57, total loss = 25.49\n",
        "Iteration 30: Loss = 0.00, total loss = 42.04\n",
        "Iteration 40: Loss = 3.26, total loss = 58.57\n",
        "Mean loss = 1.45\n",
        "```"
      ],
      "metadata": {
        "id": "VQe3qPAWs6Tf"
      }
    },
    {
      "cell_type": "code",
      "source": [
        "# import\n",
        "import random\n",
        "\n",
        "# implement gen_data function\n",
        "def gen_data(true_w, true_b, n):\n",
        "    _______________________\n",
        "    _______________________\n",
        "    _______________________\n",
        "    _______________________\n",
        "    _______________________\n",
        "    _______________________\n",
        "\n",
        "# implement loss function\n",
        "def squared_error(w, b, x, y):\n",
        "    _________________________\n",
        "    _________________________\n",
        "    _________________________\n",
        "\n",
        "# implement main function\n",
        "def main():\n",
        "    random.seed(100)\n",
        "    true_w = float(input('Enter true w: '))\n",
        "    true_b = float(input('Enter true b: '))\n",
        "    w = float(input('Enter w: '))\n",
        "    b = float(input('Enter b: '))\n",
        "    n = int(input('Enter n: '))\n",
        "    _____________________________\n",
        "    _____________________________\n",
        "    for i, (x, y) in enumerate(data):\n",
        "        __________________________\n",
        "        __________________________\n",
        "        __________________________\n",
        "        __________________________\n",
        "    _______________________\n",
        "    _______________________\n",
        "\n",
        "main()"
      ],
      "metadata": {
        "id": "HFLC9biAAyTx"
      },
      "execution_count": null,
      "outputs": []
    }
  ]
}