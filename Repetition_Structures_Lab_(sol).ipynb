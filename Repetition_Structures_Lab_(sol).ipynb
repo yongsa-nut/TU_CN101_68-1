{
  "nbformat": 4,
  "nbformat_minor": 0,
  "metadata": {
    "colab": {
      "provenance": [],
      "authorship_tag": "ABX9TyOjR47VPY8lqthSV4Qrhuab",
      "include_colab_link": true
    },
    "kernelspec": {
      "name": "python3",
      "display_name": "Python 3"
    },
    "language_info": {
      "name": "python"
    }
  },
  "cells": [
    {
      "cell_type": "markdown",
      "metadata": {
        "id": "view-in-github",
        "colab_type": "text"
      },
      "source": [
        "<a href=\"https://colab.research.google.com/github/yongsa-nut/TU_CN101_68-1/blob/main/Repetition_Structures_Lab_(sol).ipynb\" target=\"_parent\"><img src=\"https://colab.research.google.com/assets/colab-badge.svg\" alt=\"Open In Colab\"/></a>"
      ]
    },
    {
      "cell_type": "markdown",
      "source": [
        "# Repetition Structures Lab"
      ],
      "metadata": {
        "id": "eX4KhUieM0dN"
      }
    },
    {
      "cell_type": "markdown",
      "source": [
        "Turn off AI: Tools -> Settings -> Hide generative AI features\n",
        "\n"
      ],
      "metadata": {
        "id": "GaAxAaXTLIbW"
      }
    },
    {
      "cell_type": "markdown",
      "source": [
        "**Q1**: What is the output of this program?\n",
        "```python\n",
        "x = 0\n",
        "while x < 5:\n",
        "    print(x)\n",
        "    x += 1\n",
        "```"
      ],
      "metadata": {
        "id": "Bs5YKTBEeaoF"
      }
    },
    {
      "cell_type": "code",
      "source": [
        "0\n",
        "1\n",
        "2\n",
        "3\n",
        "4\n",
        "5"
      ],
      "metadata": {
        "id": "ZCjF_jvNeaLW"
      },
      "execution_count": null,
      "outputs": []
    },
    {
      "cell_type": "markdown",
      "source": [
        "**Q2**: What is the output of this program?\n",
        "```python\n",
        "for i in range(3):\n",
        "    print(\"Hello\")\n",
        "```"
      ],
      "metadata": {
        "id": "7uU5beN4ehvt"
      }
    },
    {
      "cell_type": "code",
      "execution_count": null,
      "metadata": {
        "id": "1K8n-Uc5dmzb"
      },
      "outputs": [],
      "source": [
        "Hello\n",
        "Hello\n",
        "Hello"
      ]
    },
    {
      "cell_type": "markdown",
      "source": [
        "**Q3**: What is the output of this program?\n",
        "```python\n",
        "for i in range(1, 10, 2):\n",
        "    print(i, end=\":\")\n",
        "```"
      ],
      "metadata": {
        "id": "lI_hvX12eoUH"
      }
    },
    {
      "cell_type": "code",
      "source": [
        "1:3:5:7:9"
      ],
      "metadata": {
        "id": "MeYG88CBeokY"
      },
      "execution_count": null,
      "outputs": []
    },
    {
      "cell_type": "markdown",
      "source": [
        "**Q4**: What is the output of this program?\n",
        "```python\n",
        "x = 3\n",
        "while x > 0:\n",
        "    print(x)\n",
        "    x -= 2\n",
        "while x < 2:\n",
        "    print(x)\n",
        "    x += 1\n",
        "```"
      ],
      "metadata": {
        "id": "_moqB6gCe1_D"
      }
    },
    {
      "cell_type": "code",
      "source": [
        "3\n",
        "1\n",
        "-1\n",
        "0\n",
        "1"
      ],
      "metadata": {
        "id": "FWhCASXke9I9"
      },
      "execution_count": null,
      "outputs": []
    },
    {
      "cell_type": "markdown",
      "source": [
        "**Q5**: What is the output of this program?\n",
        "\n",
        "```python\n",
        "i = 1\n",
        "while i <= 16:\n",
        "    print(i, end=\" \")\n",
        "    i *= 2\n",
        "```"
      ],
      "metadata": {
        "id": "HPrd-TxIe9gY"
      }
    },
    {
      "cell_type": "code",
      "source": [
        "1 2 4 8 16"
      ],
      "metadata": {
        "id": "X8qAblE7fA7_"
      },
      "execution_count": null,
      "outputs": []
    },
    {
      "cell_type": "markdown",
      "source": [
        "**Q6**: What is the output of this program?\n",
        "\n",
        "```python\n",
        "total = 0\n",
        "count = 1\n",
        "while count < 7:\n",
        "    total += 1\n",
        "    count += 1\n",
        "print(count)\n",
        "```"
      ],
      "metadata": {
        "id": "ezFzRUQDhbl9"
      }
    },
    {
      "cell_type": "code",
      "source": [
        "7"
      ],
      "metadata": {
        "id": "4htDK1vuhbMc"
      },
      "execution_count": null,
      "outputs": []
    },
    {
      "cell_type": "markdown",
      "source": [
        "**Q7**: What is the output of this program?\n",
        "\n",
        "```python\n",
        "total = 0\n",
        "for i in range(1,10,2):\n",
        "    total = total + i\n",
        "print(i)\n",
        "```"
      ],
      "metadata": {
        "id": "PfMA9qpifG72"
      }
    },
    {
      "cell_type": "code",
      "source": [
        "9"
      ],
      "metadata": {
        "id": "Mdm7VlpbfGoq"
      },
      "execution_count": null,
      "outputs": []
    },
    {
      "cell_type": "markdown",
      "source": [
        "**Q8**: What is the output of this program?\n",
        "\n",
        "```python\n",
        "for num in [1 , 7, 4, 20, 2]:\n",
        "    if num % 2 == 0:\n",
        "        break\n",
        "    print(num,end=',')\n",
        "```"
      ],
      "metadata": {
        "id": "M4OD9PYIfIWa"
      }
    },
    {
      "cell_type": "code",
      "source": [
        "1,7"
      ],
      "metadata": {
        "id": "BU_L_3AIfJa7"
      },
      "execution_count": null,
      "outputs": []
    },
    {
      "cell_type": "markdown",
      "source": [
        "**Q9**: What is the output of this program?\n",
        "\n",
        "```python\n",
        "count = 0\n",
        "numbers = [1, 2, 3, 4 ,5 ,6]\n",
        "for num in numbers:\n",
        "    if num%2==1:\n",
        "        count += 1\n",
        "print(count, num)\n",
        "```"
      ],
      "metadata": {
        "id": "Vyq639fdg47h"
      }
    },
    {
      "cell_type": "code",
      "source": [
        "3 6"
      ],
      "metadata": {
        "id": "D6pCf9pvg5OR"
      },
      "execution_count": null,
      "outputs": []
    },
    {
      "cell_type": "markdown",
      "source": [
        "**Q10**: What is the output of this program?\n",
        "\n",
        "```python\n",
        "target = 'AAA'\n",
        "words = ['A','AA','AAA','AA','BBB','AAA','C','AAA']\n",
        "n_target = 0\n",
        "n_non_target = 0\n",
        "for word in words:\n",
        "    if word == target:\n",
        "        n_target += 1\n",
        "    else:\n",
        "        n_non_target += 2\n",
        "print(n_target, n_non_target)\n",
        "```"
      ],
      "metadata": {
        "id": "lLtcznuZfJs5"
      }
    },
    {
      "cell_type": "code",
      "source": [
        "3 10"
      ],
      "metadata": {
        "id": "n_RhWnjsfK61"
      },
      "execution_count": null,
      "outputs": []
    },
    {
      "cell_type": "markdown",
      "source": [
        "**Q11**: จงเติมตัวเลขในช่องว่างเพื่อให้โปรแกรมแสดงตัวเลข 0 ถึง 4"
      ],
      "metadata": {
        "id": "BXun9vqsh1ou"
      }
    },
    {
      "cell_type": "code",
      "source": [
        "for i in range(5):\n",
        "    print(i)"
      ],
      "metadata": {
        "id": "fuZXpzA3h116"
      },
      "execution_count": null,
      "outputs": []
    },
    {
      "cell_type": "markdown",
      "source": [
        "**Q12**: จงเติมตัวเลขในช่องว่างเพื่อให้โปรแกรมพิมพ์ 'Welcome' 4 ครั้ง"
      ],
      "metadata": {
        "id": "FF6JC8o2iKGT"
      }
    },
    {
      "cell_type": "code",
      "source": [
        "n = 4\n",
        "for i in range(n):\n",
        "    print('Welcome')"
      ],
      "metadata": {
        "id": "vkWuGAgUiOpN"
      },
      "execution_count": null,
      "outputs": []
    },
    {
      "cell_type": "markdown",
      "source": [
        "**Q13**: จงเติมตัวเลขในช่องว่างเพื่อให้โปรแกรมแสดงค่า 7 4 1"
      ],
      "metadata": {
        "id": "8TFV0HFriPDW"
      }
    },
    {
      "cell_type": "code",
      "source": [
        "for i in range(7,0,-3):\n",
        "    print(i, end=' ')"
      ],
      "metadata": {
        "id": "WH3FQQBtiQD6"
      },
      "execution_count": null,
      "outputs": []
    },
    {
      "cell_type": "markdown",
      "source": [
        "**Q14**: จงเติมโค็ดในช่องว่างเพื่อให้โปรแกรมแสดงผล 0 1 2 3"
      ],
      "metadata": {
        "id": "35UcY0TQiQYg"
      }
    },
    {
      "cell_type": "code",
      "source": [
        "count = 0\n",
        "while count < 10:\n",
        "    print(count, end=' ')\n",
        "    if count==3:  #Fill in your code here\n",
        "        break\n",
        "    count += 1"
      ],
      "metadata": {
        "id": "mUdck6FaiSEU"
      },
      "execution_count": null,
      "outputs": []
    },
    {
      "cell_type": "markdown",
      "source": [
        "**Q15**: จงเติมค่าในช่องว่างเพื่อให้โปรแกรมแสดงตัวเลข 5 ถึง 1"
      ],
      "metadata": {
        "id": "OiuwO9HiiSWc"
      }
    },
    {
      "cell_type": "code",
      "source": [
        "x = 5\n",
        "while x > 0:\n",
        "    print(x)\n",
        "    x -= 1"
      ],
      "metadata": {
        "id": "qDLV5rZ9iTp0"
      },
      "execution_count": null,
      "outputs": []
    },
    {
      "cell_type": "markdown",
      "source": [
        "**Q16**: จงเติมโค็ดในช่องว่างเพื่อจำนวนผลรวมยกกำหลังสองของตัวเลข 1 ถึง 10. $1^2 + 2^2 + 3^2 + 4^2 ... + 9^2 + 10^2$"
      ],
      "metadata": {
        "id": "oBZuaWAvHVxa"
      }
    },
    {
      "cell_type": "code",
      "source": [
        "total = 0\n",
        "for num in range(1, 11):\n",
        "    total += (num**2)\n",
        "print(total)"
      ],
      "metadata": {
        "id": "5iS4DTKPHWF3"
      },
      "execution_count": null,
      "outputs": []
    },
    {
      "cell_type": "markdown",
      "source": [
        "**Q17**: Fill in the blank so that the program prints out 20."
      ],
      "metadata": {
        "id": "6btXaI3BIEsL"
      }
    },
    {
      "cell_type": "code",
      "source": [
        "count = 0\n",
        "for num in range(10):\n",
        "    if num % 2 == 0:\n",
        "        count += num     # Fill in here\n",
        "print(count)"
      ],
      "metadata": {
        "id": "FsPJLrqCIGDT"
      },
      "execution_count": null,
      "outputs": []
    },
    {
      "cell_type": "markdown",
      "source": [
        "**Q18**: Fill in the blank so that the program prints out 28."
      ],
      "metadata": {
        "id": "bi1ipRdtJ26F"
      }
    },
    {
      "cell_type": "code",
      "source": [
        "total = 0\n",
        "x = 10\n",
        "while x > 2: # Fill in here\n",
        "    total += x\n",
        "    x -= 2\n",
        "print(total)"
      ],
      "metadata": {
        "id": "ht9KU0YdJ6gN"
      },
      "execution_count": null,
      "outputs": []
    },
    {
      "cell_type": "markdown",
      "source": [
        "**Q19**: Calculate sum from user\n",
        "\n",
        "เขียนโปรแกรมเพื่อคำนวณค่าผลรวมจากตัวเลขที่ผู้ใช้งานพิมพ์เข้ามา โปรแกรมจะถามผู้ใช้งานให้พิมพ์ตัวเลขเข้ามาเรื่อยๆ จนกระทั่งผู้ใช้งานใส่ค่า -999999. เมื่อจบแล้วให้พิมพ์ค่าผลรวมทั้งหมดออกมา\n",
        "\n",
        "**Input**:\n",
        "- integer numbers from users\n",
        "\n",
        "**Output**:\n",
        "- The sum of all number (not include -999999)\n",
        "\n",
        "Example 1:\n",
        "```\n",
        ">Enter a number: 5\n",
        ">Enter a number: 3\n",
        ">Enter a number: 10\n",
        ">Enter a number: -999999\n",
        "The total is 18\n",
        "```\n",
        "\n",
        "Example 2:\n",
        "```\n",
        ">Enter a number: 20  \n",
        ">Enter a number: -30\n",
        ">Enter a number: -999999\n",
        "The total is -10.\n",
        "```"
      ],
      "metadata": {
        "id": "xZ0IA4JFjUgO"
      }
    },
    {
      "cell_type": "code",
      "source": [
        "total = 0\n",
        "while True:\n",
        "  number = int(input('>Enter a number: '))\n",
        "  if number == -999999:\n",
        "    break\n",
        "  total += number\n",
        "print(f'The total is {total}.')"
      ],
      "metadata": {
        "id": "urPZxmHGjWKp"
      },
      "execution_count": null,
      "outputs": []
    },
    {
      "cell_type": "markdown",
      "source": [
        "**Q20**: Calculate salary with validation\n",
        "\n",
        "เขียนโปรแกรมที่รับจำนวนชั่วโมง และเรทเงินเดือนต่อชม และแสดงผลเงินเดือนที่ได้หมดมา\n",
        "\n",
        "สำหรับโปรแกรมนี้นั้น จะต้องตรวจสอบก่อนว่า ค่าจำนวนชมและเรท จะต้องไม่ติดลบ\n",
        "\n",
        "คำใบ้: เช็คที่ละอัน มีสอง while loop แยกกัน\n",
        "\n",
        "**Input**:\n",
        "- Real number, the number of hour.\n",
        "- Real number, rate per hour.\n",
        "\n",
        "**Output**:\n",
        "- Real number, your salary at two decimal places.\n",
        "\n",
        "\n",
        "\n",
        "Example 1:\n",
        "```\n",
        ">Enter hours: 20\n",
        ">Enter rate: 10\n",
        "Your salary is 200.00\n",
        "```\n",
        "\n",
        "Example 2:\n",
        "```\n",
        ">Enter hours: -10\n",
        "Invalid hours. Please reenter.\n",
        ">Enter hours: -20\n",
        "Invalid hours. Please reenter.\n",
        ">Enter hours: 30\n",
        ">Enter rate: 20\n",
        "Your salary is 600.00\n",
        "```\n",
        "\n",
        "Example 3:\n",
        "```\n",
        ">Enter hours: -25\n",
        "Invalid hours. Please reenter.\n",
        ">Enter hours: 40\n",
        ">Enter rate: -10\n",
        "Invalid rate. Please reenter.\n",
        ">Enter rate: 15\n",
        "Your salary is 600.00\n",
        "```"
      ],
      "metadata": {
        "id": "I7XL4jaNjhEg"
      }
    },
    {
      "cell_type": "code",
      "source": [
        "hours = float(input(\">Enter hours: \"))\n",
        "while hours < 0:\n",
        "  print(\"Invalid hours. Please reenter.\")\n",
        "  hours = float(input(\">Enter hours: \"))\n",
        "\n",
        "rate = float(input(\">Enter rate: \"))\n",
        "while rate < 0:\n",
        "  print(\"Invalid rate. Please reenter.\")\n",
        "  rate = float(input(\">Enter rate: \"))\n",
        "\n",
        "salary = hours * rate\n",
        "print(f\"Your salary is {salary:.2f}.\")"
      ],
      "metadata": {
        "id": "KEn3UjFqks2w"
      },
      "execution_count": null,
      "outputs": []
    }
  ]
}