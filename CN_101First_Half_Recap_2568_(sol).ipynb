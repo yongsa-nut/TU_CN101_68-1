{
  "nbformat": 4,
  "nbformat_minor": 0,
  "metadata": {
    "colab": {
      "provenance": [],
      "authorship_tag": "ABX9TyMIk5fbwAKfIISjBrX4KSwx",
      "include_colab_link": true
    },
    "kernelspec": {
      "name": "python3",
      "display_name": "Python 3"
    },
    "language_info": {
      "name": "python"
    }
  },
  "cells": [
    {
      "cell_type": "markdown",
      "metadata": {
        "id": "view-in-github",
        "colab_type": "text"
      },
      "source": [
        "<a href=\"https://colab.research.google.com/github/yongsa-nut/TU_CN101_68-1/blob/main/CN_101First_Half_Recap_2568_(sol).ipynb\" target=\"_parent\"><img src=\"https://colab.research.google.com/assets/colab-badge.svg\" alt=\"Open In Colab\"/></a>"
      ]
    },
    {
      "cell_type": "markdown",
      "source": [
        "# First Half Recap"
      ],
      "metadata": {
        "id": "ex5R03U6UOH0"
      }
    },
    {
      "cell_type": "markdown",
      "source": [
        "**Q1**: จงเขียนผลการรันของโปรแกรม\n",
        "\n",
        "```python\n",
        "x = 3\n",
        "y = 5\n",
        "a = x + y * (5 + 1)\n",
        "b = y + 16 // x\n",
        "print(x, a, b)\n",
        "```"
      ],
      "metadata": {
        "id": "ctgLi1X90Lfw"
      }
    },
    {
      "cell_type": "code",
      "source": [
        "3 33 10"
      ],
      "metadata": {
        "id": "llMNvQdu0Lxa"
      },
      "execution_count": null,
      "outputs": []
    },
    {
      "cell_type": "markdown",
      "source": [
        "**Q2** จงเขียนผลการรันของโปรแกรม\n",
        "\n",
        "```python\n",
        "numbers = [10, 20, 30, 40]\n",
        "result1 = numbers[0] + numbers[2]\n",
        "result2 = str(numbers[1]) + str(numbers[3])\n",
        "print(result1, result2)\n",
        "```"
      ],
      "metadata": {
        "id": "K3I1FU_3zi3i"
      }
    },
    {
      "cell_type": "code",
      "execution_count": null,
      "metadata": {
        "id": "cQJx2_xWxZqu"
      },
      "outputs": [],
      "source": [
        "40 2040"
      ]
    },
    {
      "cell_type": "markdown",
      "source": [
        "**Q3**: จงเขียนผลการรันของโปรแกรม\n",
        "```python\n",
        "a = 10\n",
        "if a > 5:\n",
        "  print('A',end='-')\n",
        "if a > 7:\n",
        "  print('B',end='-')\n",
        "  a = 1\n",
        "if a > 9:\n",
        "  print('C',end='-')\n",
        "else:\n",
        "  print('D')\n",
        "```"
      ],
      "metadata": {
        "id": "9_HIb2Uc25sz"
      }
    },
    {
      "cell_type": "code",
      "source": [
        "A-B-D"
      ],
      "metadata": {
        "id": "3vcCNqCr26A1"
      },
      "execution_count": null,
      "outputs": []
    },
    {
      "cell_type": "markdown",
      "source": [
        "**Q4**: จงเขียนผลการรันของโปรแกรม\n",
        "\n",
        "```python\n",
        "lst1 = [1, 5, 7]\n",
        "lst2 = [12, 7, 4]\n",
        "x = (lst2[1] < lst1[1]) or (lst2[-1] < lst1[0])\n",
        "y = x and (10 != 20) and (10 == 10)\n",
        "if y:\n",
        "  print('A',end='-')\n",
        "elif x:\n",
        "  print('B',end='-')\n",
        "print('D')\n",
        "```"
      ],
      "metadata": {
        "id": "3oNxZoP918Zf"
      }
    },
    {
      "cell_type": "code",
      "source": [
        "D"
      ],
      "metadata": {
        "id": "c4In5VZZ18ob"
      },
      "execution_count": null,
      "outputs": []
    },
    {
      "cell_type": "markdown",
      "source": [
        "**Q5**: จงเขียนผลการรันของโปรแกรม\n",
        "```python\n",
        "total = 0\n",
        "for i in range(1, 7, 2):\n",
        "  total += i\n",
        "for j in range(4 , 3, -1):\n",
        "  total += j\n",
        "print(i, j, total)\n",
        "```"
      ],
      "metadata": {
        "id": "tjX1O5VR3RnU"
      }
    },
    {
      "cell_type": "code",
      "source": [
        "5 4 13"
      ],
      "metadata": {
        "id": "Ao21cgt23R4e"
      },
      "execution_count": null,
      "outputs": []
    },
    {
      "cell_type": "markdown",
      "source": [
        "**Q6**: โปรแกรมจะส่งผลออกมาเป็นอะไรถ้า user ป้อนข้อมูล 5, 10, 15 เข้าไปตามลำดับ เขียนแค่ print บรรทัดสุดท้ายออกมาเท่านั้น\n",
        "```python\n",
        "numbers = [1, 2, 3, 4, 5, 6]\n",
        "numbers[0] = int(input('Enter a number: '))\n",
        "numbers[2] = int(input('Enter a number: '))\n",
        "numbers[-1] = int(input('Enter a number: '))\n",
        "print(numbers)\n",
        "```"
      ],
      "metadata": {
        "id": "3HtpGxLS388M"
      }
    },
    {
      "cell_type": "code",
      "source": [
        "[5, 2, 10, 4, 5, 15]"
      ],
      "metadata": {
        "id": "jMB-tKeu4FyX"
      },
      "execution_count": null,
      "outputs": []
    },
    {
      "cell_type": "markdown",
      "source": [
        "**Q7**: จงเขียนผลการรันของโปรแกรม\n",
        "```python\n",
        "my_list = [1]\n",
        "your_list = [10,12,14]\n",
        "lst1 = my_list*3\n",
        "lst2 = my_list*2 + your_list\n",
        "print(lst1)\n",
        "print(lst2)\n",
        "```"
      ],
      "metadata": {
        "id": "rKhrcLNGQsN4"
      }
    },
    {
      "cell_type": "code",
      "source": [
        "[1, 1, 1]\n",
        "[1, 1, 10, 12, 14]"
      ],
      "metadata": {
        "id": "q_yLuoB6Q7Jo"
      },
      "execution_count": null,
      "outputs": []
    },
    {
      "cell_type": "markdown",
      "source": [
        "**Q8**: จงเขียนผลการรันของโปรแกรม\n",
        "\n",
        "```python\n",
        "n = 3\n",
        "list1 = [0]*n\n",
        "list2 = [1]*n\n",
        "list3 = list1+list2\n",
        "for i in range(len(list3)):\n",
        "  list3[i] = list3[i]+3\n",
        "print(list3)\n",
        "```"
      ],
      "metadata": {
        "id": "FvHMU6NQ4F-U"
      }
    },
    {
      "cell_type": "code",
      "source": [
        "[3, 3, 3, 4, 4, 4]"
      ],
      "metadata": {
        "id": "On34MKkj4MD3"
      },
      "execution_count": null,
      "outputs": []
    },
    {
      "cell_type": "markdown",
      "source": [
        "**Q9**: จงเขียนผลการรันของโปรแกรม\n",
        "```python\n",
        "total = 0\n",
        "for i in range(5, 1, -2):\n",
        "  for j in range(2, 3, 1):\n",
        "    total += (i*j)\n",
        "print(total)\n",
        "```"
      ],
      "metadata": {
        "id": "M2w4DTU74Mdo"
      }
    },
    {
      "cell_type": "code",
      "source": [
        "16"
      ],
      "metadata": {
        "id": "c5X7cZLZ4QSy"
      },
      "execution_count": null,
      "outputs": []
    },
    {
      "cell_type": "markdown",
      "source": [
        "**Q10**: จงเขียนผลการรันของโปรแกรม\n",
        "```python\n",
        "count = 0\n",
        "lst_a = [2, 4, 6]\n",
        "n = len(lst_a)\n",
        "for i in range(n):\n",
        "  for j in [3, 5, 7]:\n",
        "    if lst_a[i] > j//2:\n",
        "      count += 1\n",
        "print(count)\n",
        "```"
      ],
      "metadata": {
        "id": "IOtRcpbSQ-E4"
      }
    },
    {
      "cell_type": "code",
      "source": [
        "7"
      ],
      "metadata": {
        "id": "6uJvUOZYQ-a0"
      },
      "execution_count": null,
      "outputs": []
    },
    {
      "cell_type": "markdown",
      "source": [
        "**Q11**: เติม code ในช่องว่าเพื่อคำนวณ $z = \\frac{(x+1)^2}{2(y-1)^3}$.\n",
        "\n",
        "หลังจากนั้นให้ปริ้นคำตอบออก\n",
        "- 'z' แสดงชิดซ้ายกว้าง 5 ช่อง (Hint: <5)\n",
        "- ค่าของ z จุดทศนิยมสามตำแหน่ง ชิดขวากว้าง 10 ชอง (Hint: >10)"
      ],
      "metadata": {
        "id": "di77L7mo8VpY"
      }
    },
    {
      "cell_type": "code",
      "source": [
        "#ตัวอย่างเวลารัน"
      ],
      "metadata": {
        "colab": {
          "base_uri": "https://localhost:8080/"
        },
        "id": "wT1osJsFoESB",
        "outputId": "d6aaa64d-ebdf-41ba-dabd-6480a0c55a0e"
      },
      "execution_count": null,
      "outputs": [
        {
          "output_type": "stream",
          "name": "stdout",
          "text": [
            "z     =       0.12\n"
          ]
        }
      ]
    },
    {
      "cell_type": "code",
      "source": [
        "x = 3\n",
        "y = 5\n",
        "z = (x+1)**2/(2*(y-1)**3)\n",
        "print(f\"{'z':<5} = {z:>10.3f}\")"
      ],
      "metadata": {
        "id": "-_PN6JUD8ms-",
        "colab": {
          "base_uri": "https://localhost:8080/"
        },
        "outputId": "14ee7189-7134-4555-b091-98d335b7e445"
      },
      "execution_count": 1,
      "outputs": [
        {
          "output_type": "stream",
          "name": "stdout",
          "text": [
            "z     =      0.125\n"
          ]
        }
      ]
    },
    {
      "cell_type": "markdown",
      "source": [
        "## Programming"
      ],
      "metadata": {
        "id": "DmXrbEScxkmr"
      }
    },
    {
      "cell_type": "markdown",
      "source": [
        "**Q12**: Area and Circumference of a circle\n",
        "\n",
        "จงเขียนโปรแกรมเพื่อคำนวณหา พื้นที่ของวงกลม ($\\pi r^2$) และ เส้นรอบวง ($2\\pi r$). Set $\\pi$ to 3.14.\n",
        "\n",
        "**Input**:\n",
        "- A real number, รัสมี\n",
        "\n",
        "**Output**:\n",
        "- พื้นที่ ทศนิยมสามตำแหน่ง\n",
        "- เส้นรอบวง ทศนิยมสามตำแหน่ง\n",
        "\n",
        "**Requirements**:\n",
        "- ต้องใช้ Named constant\n",
        "\n",
        "ตัวอย่างการรัน:\n",
        "```\n",
        "Enter radius: 10\n",
        "The area is 314.000\n",
        "The circumference is 62.800\n",
        "```\n"
      ],
      "metadata": {
        "id": "_8EMgiBUD4EL"
      }
    },
    {
      "cell_type": "code",
      "source": [
        "# Name Constant\n",
        "PI = 3.14\n",
        "\n",
        "# Input\n",
        "radius = float(input('Enter radius: '))\n",
        "area = PI*radius**2\n",
        "cir = 2*PI*radius\n",
        "\n",
        "# Output\n",
        "print(f'The area is {area:.3f}')\n",
        "print(f'The circumference is {cir:.3f}')"
      ],
      "metadata": {
        "id": "IXZb_Zu5L3DO",
        "colab": {
          "base_uri": "https://localhost:8080/"
        },
        "outputId": "9465e89c-e8d5-4569-c466-26d32d728029"
      },
      "execution_count": 3,
      "outputs": [
        {
          "output_type": "stream",
          "name": "stdout",
          "text": [
            "Enter radius: 10\n",
            "The area is 314.000\n",
            "The circumference is 62.800\n"
          ]
        }
      ]
    },
    {
      "cell_type": "markdown",
      "source": [
        "**Q13**: Electricity bill\n",
        "\n",
        "คํานวณค่าไฟฟ้าที่ต้องจ่ายตามอัตราก้าวหน้า โดยมีรายละเอียดดังนี้\n",
        "ค่าไฟฟ้าที่ต้องจ่าย = จำนวนหน่วยที่ใช้ x อัตราค่าไฟ (ตามตารางด้านล่าง) + ค่าบริการรายเดือน\n",
        "\n",
        "โดยที่อัตราค่าไฟเป็นแบบก้าวหน้า ดังนี้:\n",
        "\n",
        "| หน่วยที่ใช้ (kWh) | อัตราค่าไฟ (บาท/หน่วย) |\n",
        "|-----------------|---------------------|\n",
        "| 0-50            | 3.25                |\n",
        "| 51-100          | 4.00                |\n",
        "| 101 ขึ้นไป        | 4.50                |\n",
        "\n",
        "---\n",
        "\n",
        "**ตัวอย่างการคำนวณ:**\n",
        "\n",
        "สมมติว่า ค่าบริการรายเดือน = 38.22 บาท\n",
        "\n",
        "**ตัวอย่างการคํานวณ 1**:\n",
        "\n",
        "- หน่วยที่ใช้ 45 kWh\n",
        "\n",
        "- ค่าไฟฟ้า = (45 x 3.25) + 38.22 = 184.47 บาท\n",
        "\n",
        "**ตัวอย่างการคํานวณ 2**:\n",
        "\n",
        "- หน่วยที่ใช้ 80 kWh\n",
        "\n",
        "- ค่าไฟฟ้า = (50 x 3.25) + (30 x 4.00) + 38.22 = 320.72 บาท\n",
        "\n",
        "**ตัวอย่างการคํานวณ 3**:\n",
        "\n",
        "- หน่วยที่ใช้ 150 kWh\n",
        "\n",
        "- ค่าไฟฟ้า = (50 x 3.25) + (50 x 4.00) + (50 x 4.50) + 38.22 = 625.72 บาท\n",
        "\n",
        "\n",
        "จงเขียนโปรแกรมคำนวณค่าไฟฟ้าจากจำนวนหน่วยที่ใช้\n",
        "\n",
        "**Input**:\n",
        "- จำนวนจริง หน่วยที่ใช้  \n",
        "- จำนวนจริง ค่าบริการรายเดือน\n",
        "\n",
        "**Output**:\n",
        "- ค่าไฟฟ้าทั้งหมด ทศนิยมสองตำแหน่ง\n",
        "\n",
        "**Example: 1**\n",
        "```\n",
        "Units: 45\n",
        "Monthly service fee: 25\n",
        "Bill: 171.25\n",
        "```\n",
        "\n",
        "**Example: 2**\n",
        "```\n",
        "Units: 150\n",
        "Monthly service fee: 38.22\n",
        "Bill: 625.72\n",
        "```"
      ],
      "metadata": {
        "id": "wZcx9SWGL2bH"
      }
    },
    {
      "cell_type": "code",
      "source": [
        "unit = float(input('Units: '))\n",
        "monthly_fee = float(input('Monthly service fee: '))\n",
        "\n",
        "if 0 <= unit <= 50:\n",
        "  total = unit*3.25 + monthly_fee\n",
        "elif 51 <= unit <= 100:\n",
        "  total = 50*3.25 + (unit-50)*4 + monthly_fee\n",
        "elif unit >= 101:\n",
        "  total = 50*3.25 + 50*4 + (unit-100)*4.5 + monthly_fee\n",
        "\n",
        "print(f'Bill: {total:.2f}')"
      ],
      "metadata": {
        "id": "VSfEXKMxxofS",
        "colab": {
          "base_uri": "https://localhost:8080/"
        },
        "outputId": "dede5467-e6b8-41db-f89f-61605d6664d3"
      },
      "execution_count": 4,
      "outputs": [
        {
          "output_type": "stream",
          "name": "stdout",
          "text": [
            "Units: 150\n",
            "Monthly service fee: 38.22\n",
            "Bill: 625.72\n"
          ]
        }
      ]
    },
    {
      "cell_type": "markdown",
      "source": [
        "**Q14**: Building a list of numbers from the user\n",
        "\n",
        "ในข้อนี้เราจะเขียนโปรแกรมเพื่อรับตัวเลข n ตัวจาก user และนำมาสร้าง list ของตัวเลข และแสดงผลของ list ที่ได้ออกมา โดย user จะป้อนจำนวนตัวเลข (n) ที่จะป้อนเข้ามาก่อน หลังจากนั้น user จะป้อนตัวเลขจำนวนเต็มอีก n ตัว\n",
        "\n",
        "**Input**:\n",
        "- n จำนวนเต็มบอกว่าจะป้อนตัวเลขที่จะต้องมานับกี่ตัว\n",
        "- จำนวนเต็มอีก n ตัว\n",
        "\n",
        "**Output**:\n",
        "- List ที่สร้างได้\n",
        "\n",
        "**ข้อกำหนด**:\n",
        "- n จะต้องมีค่าระหว่าง 1 ถึง 10 ถ้า user ป้อนตัวเลขที่ไม่ถูกต้องจะต้องถามให้ป้อนมาใหม่จนกว่าจะถูก\n",
        "- ต้องใช้ Named constant\n",
        "- ต้องเติมตาม บรรทัดที่ให้ ห้ามเกิน\n",
        "\n",
        "ตัวอย่างที่ 1:\n",
        "```\n",
        "n = 3\n",
        "Enter a number: 1\n",
        "Enter a number: 3\n",
        "Enter a number: 5\n",
        "[1, 3, 5]\n",
        "```\n",
        "\n",
        "ตัวอย่างที่ 2:\n",
        "```\n",
        "n = 20\n",
        "n is out of range.\n",
        "n = -5\n",
        "n is out of range.\n",
        "n = 5\n",
        "Enter a number: 20\n",
        "Enter a number: 5\n",
        "Enter a number: 7\n",
        "Enter a number: -5\n",
        "Enter a number: -8\n",
        "[20, 5, 7, -5, -8]\n",
        "```"
      ],
      "metadata": {
        "id": "VC-53tDt4zeM"
      }
    },
    {
      "cell_type": "code",
      "source": [
        "# Named constant\n",
        "N_MIN = 1\n",
        "N_MAX = 10\n",
        "\n",
        "# Input Validation\n",
        "n = int(input('n = '))\n",
        "while n < N_MIN or n > N_MAX:\n",
        "    print('n is out of range.')\n",
        "    n = int(input('n = '))\n",
        "\n",
        "# Initial list\n",
        "numbers = [0] * n   # ถ้า n = 5 -> numbers = [0,0,0,0,0]\n",
        "\n",
        "# Receive n numbers from the user\n",
        "for i in range(n):\n",
        "   numbers[i] = int(input('Enter a number: '))\n",
        "\n",
        "# Output\n",
        "print(numbers)"
      ],
      "metadata": {
        "id": "bCt0XXLaArVM",
        "colab": {
          "base_uri": "https://localhost:8080/"
        },
        "outputId": "e179e4b9-a81e-4699-ff92-e2cbf107da53"
      },
      "execution_count": 6,
      "outputs": [
        {
          "output_type": "stream",
          "name": "stdout",
          "text": [
            "n = 5\n",
            "Enter a number: 3\n",
            "Enter a number: 5\n",
            "Enter a number: 1\n",
            "Enter a number: 2\n",
            "Enter a number: 5\n",
            "[3, 5, 1, 2, 5]\n"
          ]
        }
      ]
    },
    {
      "cell_type": "markdown",
      "source": [
        "**Q15**: FizzBuzz v0.7\n",
        "\n",
        "จงเขียนโปรแกรมนับจำนวนตัวเลขจาก user ที่หาร ด้วย 3, 5, และ 15 ลงตัว โดย user จะป้อนจำนวนตัวเลข (n) ที่จะป้อนเข้ามาก่อน หลังจากนั้น user จะป้อนตัวเลขจำนวนเต็มอีก n ตัว\n",
        "\n",
        "**Input**:\n",
        "- n จำนวนเต็มบอกว่าจะป้อนตัวเลขที่จะต้องมานับกี่ตัว\n",
        "- จำนวนเต็มอีก n ตัว\n",
        "\n",
        "**Output**:\n",
        "- จำนวนตัวเลขที่หาร 3 ลงตัว\n",
        "- จำนวนตัวเลขที่หาร 5 ลงตัว\n",
        "- จำนวนตัวเลขที่หาร 15 ลงตัว\n",
        "\n",
        "ตัวอย่างที่ 1:\n",
        "```\n",
        "n = 3\n",
        "Enter a number: 1\n",
        "Enter a number: 5\n",
        "Enter a number: 10\n",
        "Divisible by 3 = 0\n",
        "Divisible by 5 = 2\n",
        "Divisible by 15 = 0\n",
        "```\n",
        "\n",
        "ตัวอย่างที่ 2:\n",
        "```\n",
        "n = 5\n",
        "Enter a number: 3\n",
        "Enter a number: 5\n",
        "Enter a number: 10\n",
        "Enter a number: 15\n",
        "Enter a number: 27\n",
        "Divisible by 3 = 3\n",
        "Divisible by 5 = 3\n",
        "Divisible by 15 = 1\n",
        "```"
      ],
      "metadata": {
        "id": "f1g3wLeF8paN"
      }
    },
    {
      "cell_type": "code",
      "source": [
        "n = int(input('n = '))\n",
        "\n",
        "count_3 = 0\n",
        "count_5 = 0\n",
        "count_15 = 0\n",
        "\n",
        "for i in range(n):\n",
        "  num = int(input('Enter a number: '))\n",
        "  if num % 3 == 0:\n",
        "    count_3 += 1\n",
        "  if num % 5 == 0:\n",
        "    count_5 += 1\n",
        "  if num % 15 == 0:\n",
        "    count_15 +=1\n",
        "\n",
        "print(f'Divisible by 3 = {count_3}')\n",
        "print(f'Divisible by 5 = {count_5}')\n",
        "print(f'Divisible by 15 = {count_15}')"
      ],
      "metadata": {
        "colab": {
          "base_uri": "https://localhost:8080/"
        },
        "id": "A6mZ3gdJGS7l",
        "outputId": "a3ccab7c-123a-4756-d305-8c367a19be70"
      },
      "execution_count": 7,
      "outputs": [
        {
          "output_type": "stream",
          "name": "stdout",
          "text": [
            "n = 5\n",
            "Enter a number: 3\n",
            "Enter a number: 5\n",
            "Enter a number: 10\n",
            "Enter a number: 15\n",
            "Enter a number: 27\n",
            "Divisible by 3 = 3\n",
            "Divisible by 5 = 3\n",
            "Divisible by 15 = 1\n"
          ]
        }
      ]
    }
  ]
}