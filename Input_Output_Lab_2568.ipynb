{
  "nbformat": 4,
  "nbformat_minor": 0,
  "metadata": {
    "colab": {
      "provenance": [],
      "authorship_tag": "ABX9TyOwQYlgvevCZNGRFeKYLHXB",
      "include_colab_link": true
    },
    "kernelspec": {
      "name": "python3",
      "display_name": "Python 3"
    },
    "language_info": {
      "name": "python"
    }
  },
  "cells": [
    {
      "cell_type": "markdown",
      "metadata": {
        "id": "view-in-github",
        "colab_type": "text"
      },
      "source": [
        "<a href=\"https://colab.research.google.com/github/yongsa-nut/TU_CN101_68-1/blob/main/Input_Output_Lab_2568.ipynb\" target=\"_parent\"><img src=\"https://colab.research.google.com/assets/colab-badge.svg\" alt=\"Open In Colab\"/></a>"
      ]
    },
    {
      "cell_type": "markdown",
      "source": [
        "# Input Output Lab"
      ],
      "metadata": {
        "id": "tiUUTEF5wIkB"
      }
    },
    {
      "cell_type": "markdown",
      "source": [
        "Turn off AI: Tools -> Settings -> Hide generative AI features"
      ],
      "metadata": {
        "id": "zpqB6O9y8hB4"
      }
    },
    {
      "cell_type": "markdown",
      "source": [
        "**Q1**: What is the output of the code below? Write your answer in the code block below.\n",
        "จงเขียนผลลัพท์ที่ได้จากการทำงานของโค็ดด้านล่าง เขียนไว้ในช่อง code ด้านล่าง\n",
        "\n",
        "```python\n",
        "print(\"House\")\n",
        "```"
      ],
      "metadata": {
        "id": "lFzQae7swpah"
      }
    },
    {
      "cell_type": "code",
      "execution_count": null,
      "metadata": {
        "id": "k4KrvMwFvt45"
      },
      "outputs": [],
      "source": [
        "House # ใส่คำตอบตรงนี้ ไม่ต้องกดรัน ใส่เฉยๆ"
      ]
    },
    {
      "cell_type": "markdown",
      "source": [
        "**Q2**: What is the output?\n",
        "\n",
        "```python\n",
        "print('Cat')\n",
        "print('Dog')\n",
        "print('Apple')\n",
        "```"
      ],
      "metadata": {
        "id": "VIqy4xftx_5n"
      }
    },
    {
      "cell_type": "code",
      "source": [
        "# ใส่คำตอบตรงนี้ ไม่ต้องกดรัน ใส่เฉยๆ\n"
      ],
      "metadata": {
        "id": "SyKhCPByytFX"
      },
      "execution_count": null,
      "outputs": []
    },
    {
      "cell_type": "markdown",
      "source": [
        "**Q3**: What is the output?\n",
        "\n",
        "```python\n",
        "x = 5\n",
        "y = 3\n",
        "print(x + y)\n",
        "```"
      ],
      "metadata": {
        "id": "mkRufiEgywMS"
      }
    },
    {
      "cell_type": "code",
      "source": [],
      "metadata": {
        "id": "3bcJJ-CFzM0-"
      },
      "execution_count": null,
      "outputs": []
    },
    {
      "cell_type": "markdown",
      "source": [
        "**Q4**: What is the output?\n",
        "\n",
        "```python\n",
        "a = 10\n",
        "b = 3\n",
        "print(a // b)\n",
        "print(a % b)\n",
        "```"
      ],
      "metadata": {
        "id": "NUEyk3SqzNJT"
      }
    },
    {
      "cell_type": "code",
      "source": [],
      "metadata": {
        "id": "6c7ZEN0QzhwB"
      },
      "execution_count": null,
      "outputs": []
    },
    {
      "cell_type": "markdown",
      "source": [
        "**Q5**: What is the output?\n",
        "\n",
        "```python\n",
        "x = (5%2) + 3\n",
        "print(x)\n",
        "```"
      ],
      "metadata": {
        "id": "FeHr8X8uziGl"
      }
    },
    {
      "cell_type": "code",
      "source": [],
      "metadata": {
        "id": "BTL2W7UY0HzF"
      },
      "execution_count": null,
      "outputs": []
    },
    {
      "cell_type": "markdown",
      "source": [
        "**Q6**: What is the output?\n",
        "\n",
        "```python\n",
        "a = 4\n",
        "b = 0\n",
        "c = 3\n",
        "a = a + 1\n",
        "b = b + 2\n",
        "result = a * b ** c\n",
        "print(\"The result is\", result)\n",
        "```"
      ],
      "metadata": {
        "id": "Puqnje8A0SUB"
      }
    },
    {
      "cell_type": "code",
      "source": [],
      "metadata": {
        "id": "dVYYrUl8loGn"
      },
      "execution_count": null,
      "outputs": []
    },
    {
      "cell_type": "markdown",
      "source": [
        "**Q7**: What is the output?\n",
        "\n",
        "```python\n",
        "a = 1\n",
        "b = 2\n",
        "result = a + b + 1\n",
        "print(result)\n",
        "a = 3\n",
        "b = 4\n",
        "result = a + b + 1\n",
        "print(result)\n",
        "```"
      ],
      "metadata": {
        "id": "tHMeIXMk0Zl-"
      }
    },
    {
      "cell_type": "code",
      "source": [],
      "metadata": {
        "id": "ZZc-OKXf0R8y"
      },
      "execution_count": null,
      "outputs": []
    },
    {
      "cell_type": "markdown",
      "source": [
        "**Q8**: What is the output?\n",
        "\n",
        "```python\n",
        "a = 0\n",
        "a = a + 1\n",
        "print(a)\n",
        "a = a + 2\n",
        "a = a + 3\n",
        "print(a)\n",
        "```"
      ],
      "metadata": {
        "id": "dkHCLZ6aER5Q"
      }
    },
    {
      "cell_type": "code",
      "source": [],
      "metadata": {
        "id": "Wr34UDKJESLo"
      },
      "execution_count": null,
      "outputs": []
    },
    {
      "cell_type": "markdown",
      "source": [
        "**Q9**: What is the output?\n",
        "```python\n",
        "num = 10\n",
        "Num = num+10*2\n",
        "print(num, Num)\n",
        "```"
      ],
      "metadata": {
        "id": "9O3OkuOcEhDG"
      }
    },
    {
      "cell_type": "code",
      "source": [],
      "metadata": {
        "id": "11i1t_1PEkHP"
      },
      "execution_count": null,
      "outputs": []
    },
    {
      "cell_type": "markdown",
      "source": [
        "**Q10**: What is the output?\n",
        "\n",
        "```python\n",
        "money = 57\n",
        "ten_coins = 57//10\n",
        "remaining = 57%10\n",
        "five_coins = remaining//5\n",
        "print(ten_coins, five_coins)\n",
        "```"
      ],
      "metadata": {
        "id": "zkga6nKZFLDs"
      }
    },
    {
      "cell_type": "code",
      "source": [],
      "metadata": {
        "id": "CTP6HHLVFNrb"
      },
      "execution_count": null,
      "outputs": []
    },
    {
      "cell_type": "markdown",
      "source": [
        "**Q11**: ถ้าผู้ใช้งานป้อนข้อมูล \"10\" ผลที่ได้ของโปรแกรมจะเป็นอะไร\n",
        "\n",
        "```python\n",
        "num = int(input('Enter a number: ')\n",
        "print(num+2)\n",
        "```"
      ],
      "metadata": {
        "id": "d5tiqbIFF4wK"
      }
    },
    {
      "cell_type": "code",
      "source": [],
      "metadata": {
        "id": "wcar7BwGGRoz"
      },
      "execution_count": null,
      "outputs": []
    },
    {
      "cell_type": "markdown",
      "source": [
        "**Q12**: ถ้าผู้ใช้งานป้อนข้อมูล \"John\" และ \"25\" ตามลำดับ, ผลที่ได้ของโปรแกรมจะเป็นอะไร?\n",
        "```python\n",
        "name = input(\"Enter your name: \")\n",
        "age = int(input(\"Enter your age: \"))\n",
        "print(\"My name is\", name, \". I'm\", age, \"years old.\")\n",
        "```"
      ],
      "metadata": {
        "id": "mvIufTai0s1I"
      }
    },
    {
      "cell_type": "code",
      "source": [],
      "metadata": {
        "id": "NL819QDr1F0W"
      },
      "execution_count": null,
      "outputs": []
    },
    {
      "cell_type": "markdown",
      "source": [
        "**Q13**: Fill in the blank so that the program prints out 10:"
      ],
      "metadata": {
        "id": "JD6V9R-T1ber"
      }
    },
    {
      "cell_type": "code",
      "source": [
        "x = ___  # Fill here\n",
        "print(x + 2)"
      ],
      "metadata": {
        "id": "Wny1AYOz1bKG",
        "colab": {
          "base_uri": "https://localhost:8080/"
        },
        "outputId": "132a2aa8-f86f-4509-aa08-6f02ccd9c14a"
      },
      "execution_count": null,
      "outputs": [
        {
          "output_type": "stream",
          "name": "stdout",
          "text": [
            "10\n"
          ]
        }
      ]
    },
    {
      "cell_type": "markdown",
      "source": [
        "**Q14**: Complete the code to print as show below:\n",
        "```python\n",
        "Happy\n",
        "Hello World!!\n",
        "```"
      ],
      "metadata": {
        "id": "lCticRPG1xc2"
      }
    },
    {
      "cell_type": "code",
      "source": [
        "print(______)  # Fill here\n",
        "print(______)  # Fill here"
      ],
      "metadata": {
        "id": "eIcqILop1xIb"
      },
      "execution_count": null,
      "outputs": []
    },
    {
      "cell_type": "markdown",
      "source": [
        "**Q15**: เติมโค็ดในช่องว่างเพื่อคำนวณพื้นที่รูปสี่เหลี่ยมจากความยาวและความกว้างที่เก็บไว้ในตัวแปร ```length``` กับ ```width```"
      ],
      "metadata": {
        "id": "x_ZsFXov2t6D"
      }
    },
    {
      "cell_type": "code",
      "source": [
        "length = 5\n",
        "width = 3\n",
        "area = ______________  # Fill here\n",
        "print(area)     #The answer should be 15"
      ],
      "metadata": {
        "id": "jO_3cFfN20Kk"
      },
      "execution_count": null,
      "outputs": []
    },
    {
      "cell_type": "markdown",
      "source": [
        "**Q16**: Complete the code to ask the user for their age and print it:"
      ],
      "metadata": {
        "id": "3IKtjFKd22yp"
      }
    },
    {
      "cell_type": "code",
      "source": [
        "age = _______(\"Enter your age\")  # Fill here\n",
        "print(age)"
      ],
      "metadata": {
        "id": "3wQqseqj22Z4"
      },
      "execution_count": null,
      "outputs": []
    },
    {
      "cell_type": "markdown",
      "source": [
        "**Q17**: จงเติมโค็ดในช่องว่างเพื่อคำนวณค่า $7^3$:"
      ],
      "metadata": {
        "id": "tfqNf3ab3Bkc"
      }
    },
    {
      "cell_type": "code",
      "source": [
        "result =   # Fill here\n",
        "print(result)  # should print out 343"
      ],
      "metadata": {
        "id": "-GktqhRm3BFo"
      },
      "execution_count": null,
      "outputs": []
    },
    {
      "cell_type": "markdown",
      "source": [
        "**Q18**: จงเติมโค็ด เพื่อหาเศษของการหาร 17 ด้วย 5 และ ผลหารไม่เอาเศษของการหาร 17 ด้วย 5"
      ],
      "metadata": {
        "id": "rNHM70TL3wJq"
      }
    },
    {
      "cell_type": "code",
      "source": [
        "ผลหาร = 17 ____ 5\n",
        "เศษ = 17 ____ 5\n",
        "print(ผลหาร, เศษ) # should print out 3 2"
      ],
      "metadata": {
        "id": "pjvnjf9l39F5"
      },
      "execution_count": null,
      "outputs": []
    },
    {
      "cell_type": "markdown",
      "source": [
        "**Q19**: Fill in the blank with mathematic operators so that the output is\n",
        "```\n",
        "8\n",
        "5\n",
        "```"
      ],
      "metadata": {
        "id": "P6XkymPk4B4K"
      }
    },
    {
      "cell_type": "code",
      "source": [
        "x = 85\n",
        "y = x ___ 10\n",
        "z = x ___ 10\n",
        "print(y)\n",
        "print(z)"
      ],
      "metadata": {
        "id": "NZJUlXMU4Bfj"
      },
      "execution_count": null,
      "outputs": []
    },
    {
      "cell_type": "markdown",
      "source": [
        "**Q20**: จงเติมโค็ดเพื่อหาค่าเฉลี่ย ของ a, b, c"
      ],
      "metadata": {
        "id": "5alQ2g5I4chF"
      }
    },
    {
      "cell_type": "code",
      "source": [
        "a = 10\n",
        "b = 15\n",
        "c = 20\n",
        "average = ________________  # Fill here.\n",
        "print(\"The average is\", average)"
      ],
      "metadata": {
        "id": "1OSsnMpi4itF"
      },
      "execution_count": null,
      "outputs": []
    },
    {
      "cell_type": "markdown",
      "source": [
        "**Q21**: จงเติมโค็ดเพื่อรับค่าจากผู้ใช้งาน เป็นเลขจำนวนเต็ม โดยให้ผลแสดงเป็นดังต่อไปนี้\n",
        "\n",
        "```\n",
        "Enter your number: 5\n",
        "Your squared number is 25\n",
        "```"
      ],
      "metadata": {
        "id": "1Mu0OT-GGcos"
      }
    },
    {
      "cell_type": "code",
      "source": [
        "prompt = 'Enter your number'\n",
        "num = ___(______(prompt))\n",
        "num_squared = num**2\n",
        "print(f'Your squared number is {num_squared}')"
      ],
      "metadata": {
        "id": "cX2mt23IGc8A"
      },
      "execution_count": null,
      "outputs": []
    },
    {
      "cell_type": "markdown",
      "source": [
        "**Q22**: จงเขียนโปรแกรม ที่ถามผู้ใช้งานให้ป้อนข้อมูลตัวเลขสองตัว แล้วแสดงผลรวมของตัวเลขทั้งสองตัวดังตัวอย่างด้านล่าง\n",
        "\n",
        "For example\n",
        "```\n",
        ">Enter the first number: 3\n",
        ">Enter the second number: 5\n",
        "The sum of 3 and 5 is 8\n",
        "```\n",
        "Note: `>` indicates the input line\n"
      ],
      "metadata": {
        "id": "f0DrYsuY4oos"
      }
    },
    {
      "cell_type": "code",
      "source": [
        "first = ______________________\n",
        "second = ______________________\n",
        "total = first + second\n",
        "print('The sum of', first, 'and', second, 'is', total)"
      ],
      "metadata": {
        "id": "lm1QqSN04oJz"
      },
      "execution_count": null,
      "outputs": []
    },
    {
      "cell_type": "markdown",
      "source": [
        "**Q23**: Temperature Convertor\n",
        "\n",
        "Write a program that takes in a temperature in Fahrenheit (F) from the user and convert it into Celsius (C) and print it out.\n",
        "\n",
        "จงเขียนโปรแกรมที่รับข้อมูลอุณหภูมิในหน่วย Fahrenheit (F) จากผู้ใช้งานและ เปลี่ยนเป็น หน่วย Celsius (C) และแสดงผลออกมา\n",
        "\n",
        "The formula to convert F to C is C = $(F-32) \\times 5/9$.\n",
        "\n",
        "Example 1:\n",
        "```\n",
        ">Enter Fahrenheit: 32\n",
        "0.0\n",
        "```\n",
        "\n",
        "Example 2:\n",
        "```\n",
        ">Enter Fahrenheit: 100\n",
        "37.77777777777778\n",
        "```"
      ],
      "metadata": {
        "id": "z9Qc7uPH53dp"
      }
    },
    {
      "cell_type": "code",
      "source": [
        "# 1) Input: ถาม user อุณหภูมิ เป็น Fahrenheit\n",
        "\n",
        "\n",
        "# 2) Process: คำนวณอุณหภูมิเป็น Celsius\n",
        "\n",
        "\n",
        "# 3) Output: Print the value out\n",
        "\n"
      ],
      "metadata": {
        "id": "Je3n_ayG53ES"
      },
      "execution_count": null,
      "outputs": []
    },
    {
      "cell_type": "markdown",
      "source": [
        "**Q24**: Student Average GPA\n",
        "\n",
        "จงเขียนโปรแกรมที่รับ ตัวเลขจำนวนจริงสามตัวสำหรับ GPA วิชาเลข วิทยาศาสตร์ และอังกฤษ หลังจากนั้นคำนวณค่าเฉลี่ย GPA และแสดงผลออกมาตามตัวอย่าง\n",
        "\n",
        "**Input**:\n",
        "- Math, Science, English GPA\n",
        "\n",
        "**Output**:\n",
        "- ค่าเฉลี่ยน GPA\n",
        "\n",
        "Example 1:\n",
        "```\n",
        ">Math GPA: 3\n",
        ">Science GPA: 3.5\n",
        ">English GPA: 3.75\n",
        "Average GPA is 3.4166666666666665\n",
        "```\n",
        "\n",
        "Example 2:\n",
        "```\n",
        ">Math GPA: 4\n",
        ">Science GPA: 2\n",
        ">Englishg GPA: 2.5\n",
        "Average GPA is 2.8333333333333335\n",
        "```"
      ],
      "metadata": {
        "id": "dOgLAaDRCKI1"
      }
    },
    {
      "cell_type": "code",
      "source": [],
      "metadata": {
        "id": "PWbCqF7wDGet"
      },
      "execution_count": null,
      "outputs": []
    },
    {
      "cell_type": "markdown",
      "source": [
        "**Q25**: Quardratic Equation\n",
        "\n",
        "จงเขียนโปรแกรมที่รับตัวเลขจำนวนจริงสี่ตัว $A, B, C, x$ และคำนวณค่าตามสมการ Quardratic ดังนี้ $y = Ax^2 + Bx +C$. หลังจากนั้นให้แสดงผลค่า $y$ ออกมา ตามตัวอย่าง\n",
        "\n",
        "**Input**:\n",
        "- A, B, C, x เป็น**จำนวนจริง** (```float```)\n",
        "\n",
        "**Output**:\n",
        "- y\n",
        "\n",
        "Example 1:\n",
        "```\n",
        ">Enter A: 2\n",
        ">Enter B: 2\n",
        ">Enter C: 3\n",
        ">Enter x: 1\n",
        "y = 7\n",
        "```\n",
        "\n",
        "Example 2:\n",
        "```\n",
        ">Enter A: 1.5\n",
        ">Enter B: 2.4\n",
        ">Enter C: 0\n",
        ">Enter x: 2.5\n",
        "y = 15.375\n",
        "```"
      ],
      "metadata": {
        "id": "tQ45hJ2i5HeR"
      }
    },
    {
      "cell_type": "code",
      "source": [],
      "metadata": {
        "id": "KPOmnOARCNoZ"
      },
      "execution_count": null,
      "outputs": []
    },
    {
      "cell_type": "markdown",
      "source": [
        "## ขั้นตอนการส่ง\n",
        "\n",
        "- ไปที่ File -> Download -> Download .ipynb\n",
        "- อัพลงบน Microsoft Teams"
      ],
      "metadata": {
        "id": "CO5u2oRvj8mj"
      }
    }
  ]
}