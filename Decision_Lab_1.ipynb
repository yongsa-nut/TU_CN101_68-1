{
  "nbformat": 4,
  "nbformat_minor": 0,
  "metadata": {
    "colab": {
      "provenance": [],
      "authorship_tag": "ABX9TyM7QJAW1eokhIvSrwPYgdFK",
      "include_colab_link": true
    },
    "kernelspec": {
      "name": "python3",
      "display_name": "Python 3"
    },
    "language_info": {
      "name": "python"
    }
  },
  "cells": [
    {
      "cell_type": "markdown",
      "metadata": {
        "id": "view-in-github",
        "colab_type": "text"
      },
      "source": [
        "<a href=\"https://colab.research.google.com/github/yongsa-nut/TU_CN101_68-1/blob/main/Decision_Lab_1.ipynb\" target=\"_parent\"><img src=\"https://colab.research.google.com/assets/colab-badge.svg\" alt=\"Open In Colab\"/></a>"
      ]
    },
    {
      "cell_type": "markdown",
      "source": [
        "# Input/Output and Decision Lab 1\n"
      ],
      "metadata": {
        "id": "2pGvo3NBxzK_"
      }
    },
    {
      "cell_type": "markdown",
      "source": [
        "Turn off AI: Tools -> Settings -> Hide generative AI features"
      ],
      "metadata": {
        "id": "ViEnihRigB27"
      }
    },
    {
      "cell_type": "markdown",
      "source": [
        "**Q1**: What is the output?\n",
        "```python\n",
        "num1 = 15\n",
        "num2 = 4\n",
        "result = num1 / num2\n",
        "print(f\"The result is: {result:.2f}\")\n",
        "```"
      ],
      "metadata": {
        "id": "3aXev6Hm7TpI"
      }
    },
    {
      "cell_type": "code",
      "source": [],
      "metadata": {
        "id": "oqquuDmH7TEe"
      },
      "execution_count": null,
      "outputs": []
    },
    {
      "cell_type": "markdown",
      "source": [
        "**Q2**: What is the output?\n",
        "```python\n",
        "num = 1.23456\n",
        "result = f\"One = {num:.1f}. Two = {num:.2f}. Three = {num:.3f}\"\n",
        "print(result)\n",
        "```"
      ],
      "metadata": {
        "id": "BDrawOEX7pfI"
      }
    },
    {
      "cell_type": "code",
      "source": [],
      "metadata": {
        "id": "3jTAISxjDk6u"
      },
      "execution_count": null,
      "outputs": []
    },
    {
      "cell_type": "markdown",
      "source": [
        "**Q3**: What is the output?\n",
        "\n",
        "```python\n",
        "x = 10\n",
        "y = 3\n",
        "z = 2\n",
        "result = (x + y) * z - x / y\n",
        "print(f\"The result is: {result}\")\n",
        "```"
      ],
      "metadata": {
        "id": "TqAx6xO-7ajE"
      }
    },
    {
      "cell_type": "code",
      "execution_count": null,
      "metadata": {
        "id": "TvR_mm_OxcsW"
      },
      "outputs": [],
      "source": []
    },
    {
      "cell_type": "markdown",
      "source": [
        "**Q4**: What is the output?\n",
        "```python\n",
        "x = 3\n",
        "y = 2\n",
        "z = (x**x)%y + 5*3/2\n",
        "print(f\"{z:.3f}\")\n",
        "```"
      ],
      "metadata": {
        "id": "JhXwG_m68F9T"
      }
    },
    {
      "cell_type": "code",
      "source": [],
      "metadata": {
        "id": "TybdnV6M8FeN"
      },
      "execution_count": null,
      "outputs": []
    },
    {
      "cell_type": "markdown",
      "source": [
        "**Q5**: What is the output?\n",
        "```python\n",
        "x = 0\n",
        "x = x + 1\n",
        "x = x + 2\n",
        "x = x + 3\n",
        "x + 4\n",
        "print(x)\n",
        "```"
      ],
      "metadata": {
        "id": "0Q2DNUvUCsZH"
      }
    },
    {
      "cell_type": "code",
      "source": [],
      "metadata": {
        "id": "G1Qb6iOdCzou"
      },
      "execution_count": null,
      "outputs": []
    },
    {
      "cell_type": "markdown",
      "source": [
        "**Q6**: What is the output?\n",
        "```python\n",
        "first = 5 > 3\n",
        "second = 10 <= 7\n",
        "third = 7 == 3\n",
        "print(first, second, third, sep ='--')\n",
        "```"
      ],
      "metadata": {
        "id": "b4_1tEAu6tgT"
      }
    },
    {
      "cell_type": "code",
      "source": [],
      "metadata": {
        "id": "DhhAkU136tQl"
      },
      "execution_count": null,
      "outputs": []
    },
    {
      "cell_type": "markdown",
      "source": [
        "**Q7**: What is the output?\n",
        "```\n",
        "x = 5\n",
        "y = 7\n",
        "if (x*2) > y:\n",
        "  print(\"Greater\", end =':')\n",
        "print(\"Done\")\n",
        "```"
      ],
      "metadata": {
        "id": "M077F5W37H5P"
      }
    },
    {
      "cell_type": "code",
      "source": [],
      "metadata": {
        "id": "C7NkEzzA7RBL"
      },
      "execution_count": null,
      "outputs": []
    },
    {
      "cell_type": "markdown",
      "source": [
        "**Q8**: What is the output?\n",
        "```python\n",
        "x = 20\n",
        "y = 12\n",
        "print(f\"{x > y}, {x < y}, {x == y}, {x != y}\")\n",
        "```"
      ],
      "metadata": {
        "id": "usVab_mn7TDY"
      }
    },
    {
      "cell_type": "code",
      "source": [],
      "metadata": {
        "id": "m-aV-C8x7TU1"
      },
      "execution_count": null,
      "outputs": []
    },
    {
      "cell_type": "markdown",
      "source": [
        "**Q9**: What is the output?\n",
        "\n",
        "```python\n",
        "x = 8 > 6\n",
        "if x:\n",
        "  print('A', end = ',')\n",
        "if 7 > 3:\n",
        "  print('B', end =',')\n",
        "if 3 != 5:\n",
        "  print('C', end =',')\n",
        "print('x')\n",
        "```"
      ],
      "metadata": {
        "id": "Ka2qo-IZ9eGc"
      }
    },
    {
      "cell_type": "code",
      "source": [],
      "metadata": {
        "id": "0VwFSDNR9edA"
      },
      "execution_count": null,
      "outputs": []
    },
    {
      "cell_type": "markdown",
      "source": [
        "**Q10**: What is the output?\n",
        "```python\n",
        "x = 1\n",
        "if x == 1:\n",
        "  x = x + 1\n",
        "if x == 2:\n",
        "  x = 3\n",
        "if x != 3:\n",
        "  x = x*2\n",
        "print(x)\n",
        "```"
      ],
      "metadata": {
        "id": "e44Tx5XD8TPq"
      }
    },
    {
      "cell_type": "code",
      "source": [],
      "metadata": {
        "id": "BsnEb_Au8S8_"
      },
      "execution_count": null,
      "outputs": []
    },
    {
      "cell_type": "markdown",
      "source": [
        "**Q11**: Fill in the blank so that the program print out 55"
      ],
      "metadata": {
        "id": "8eZymOOw8fNV"
      }
    },
    {
      "cell_type": "code",
      "source": [
        "string = \"50\"\n",
        "num = __(string) + 5 #fill in the blank here\n",
        "print(num)"
      ],
      "metadata": {
        "id": "8px5EscM8e8M"
      },
      "execution_count": null,
      "outputs": []
    },
    {
      "cell_type": "markdown",
      "source": [
        "**Q12**: Fill in the blank to properly format the f-string and print the person's name and age:\n",
        "\n",
        "The answer should be\n",
        "```\n",
        "Alice is 30 years old.\n",
        "```"
      ],
      "metadata": {
        "id": "ZLJNB9-R8iC5"
      }
    },
    {
      "cell_type": "code",
      "source": [
        "name = \"Alice\"\n",
        "age = 30\n",
        "print(f\"____ is __ years old.\")  # Fill here"
      ],
      "metadata": {
        "id": "9A1vCZyJ8kAR"
      },
      "execution_count": null,
      "outputs": []
    },
    {
      "cell_type": "markdown",
      "source": [
        "**Q13**: Fill in the blank so that when the user enters `10.234` the program prints out `10.2340`."
      ],
      "metadata": {
        "id": "cuKX6Ckx8kUv"
      }
    },
    {
      "cell_type": "code",
      "source": [
        "num = ___(input('Enter a number:'))\n",
        "print(f\"{num:___}\")"
      ],
      "metadata": {
        "id": "5EhphKd-8mDW"
      },
      "execution_count": null,
      "outputs": []
    },
    {
      "cell_type": "markdown",
      "source": [
        "**Q14** What will the following code print out?\n",
        "```python\n",
        "a = 3\n",
        "b = 7\n",
        "total = a+b*5-4**2/2-1\n",
        "print(total+1)\n",
        "```"
      ],
      "metadata": {
        "id": "TlTsRK9268qD"
      }
    },
    {
      "cell_type": "code",
      "source": [],
      "metadata": {
        "id": "UbJIscob68M8"
      },
      "execution_count": null,
      "outputs": []
    },
    {
      "cell_type": "markdown",
      "source": [
        "**Q15** Correct the code to properly calculate and print the average of three numbers (15):"
      ],
      "metadata": {
        "id": "DoYmJg1h7Gjp"
      }
    },
    {
      "cell_type": "code",
      "source": [
        "num1 = 10\n",
        "num2 = 15\n",
        "num3 = 20\n",
        "average = num1 + num2 + num3 / 3\n",
        "print(f\"The average is: {average:.2f}\") # It should print out 15"
      ],
      "metadata": {
        "id": "zRmhjbTD7GKa"
      },
      "execution_count": null,
      "outputs": []
    },
    {
      "cell_type": "markdown",
      "source": [
        "**Q16**: Fill in the blank to print \"Hello\" if x is greater than 5:"
      ],
      "metadata": {
        "id": "sevVsON055K9"
      }
    },
    {
      "cell_type": "code",
      "source": [
        "x = 7\n",
        "if x __ 5:\n",
        "  print(\"Hello\")"
      ],
      "metadata": {
        "id": "IQ--C9u-7pYr"
      },
      "execution_count": null,
      "outputs": []
    },
    {
      "cell_type": "markdown",
      "source": [
        "**Q17**: เติมโค็ดในช่องว่างเพื่อคำนวณชั่วโมง นาที และวินาที จาก วินาทีทั้งหมด (ดูตัวอย่างด้านล่าง)\n",
        "\n",
        "**Hint**:\n",
        "- 1 hours = 60*60 = 3600 seconds. You can use `//` to get the full number of hours.\n",
        "\n",
        "Minutes:\n",
        " - สามารถคำนวณนาทีโดยการเปลี่ยนค่าวินาทีทั้งหมด เป็นนาที แล้วหาว่าเหลือกี่นาทีหลังจากเปลี่ยนเป็นชั่วโมงแล้ว โดยสามารถใช้ `%` ได้\n",
        " - อีกวิธีคือ สามารถหาได้โดยการ หา วินาทีที่เหลือหลังจาก นับชมทั้งหมดไปแล้วจาก `total_score - hours*3600`\n",
        "\n",
        "\n",
        "Example 1:\n",
        "```\n",
        "Enter a number of seconds: 1000\n",
        "Hours: 0.00, minutes: 16.00, seconds = 40.00\n",
        "```\n",
        "\n",
        "Example 2:\n",
        "```\n",
        "Enter a number of seconds: 3666\n",
        "Hours: 1.00, minutes: 1.00, seconds = 6.00\n",
        "```"
      ],
      "metadata": {
        "id": "xM9gBXytEeKR"
      }
    },
    {
      "cell_type": "code",
      "source": [
        "total_second = float(input('Enter a number of seconds: '))\n",
        "hours = ___________________ #Calculate hours\n",
        "minutes = _________________ #Calculate remainng minutes\n",
        "seconds = total_second % 60 # Calculate the remaining second\n",
        "print(f\"Hours: {hours:.2f}, minutes: {minutes:.2f}, seconds = {seconds:.2f} \")"
      ],
      "metadata": {
        "id": "6psWTnKmEvSw"
      },
      "execution_count": null,
      "outputs": []
    },
    {
      "cell_type": "markdown",
      "source": [
        "**Q18**: BMI Calculator\n",
        "\n",
        "จงเขียนโปรแกรมคำนวณค่า Body Mass Index (BMI) ผู้ใช้งานจะป้อน น้ำหนัก (kg) และส่วนสูง (m) และถ้า BMI มากกว่า 30 ให้ปริ้น \"Overweight\"\n",
        "\n",
        "BMI formula:\n",
        "BMI = $\\frac{\\text{weight (kg)}}{\\text{(height (m))}^2}$\n",
        "\n",
        "**Input:**\n",
        "\n",
        "- Real number, weight in kilograms\n",
        "- Real number, height in meters\n",
        "\n",
        "**Output:**\n",
        "- BMI ทศนิยมหนึ่งตำแหน่ง\n",
        "\n",
        "**ข้อกำหนด**\n",
        "- ต้องใช้ Named Constants\n",
        "\n",
        "Example1:\n",
        "```\n",
        ">Enter your weight in kg: 70\n",
        ">Enter your height in m: 1.75\n",
        "Your BMI is 22.9\n",
        "```\n",
        "\n",
        "Example2:\n",
        "```\n",
        ">Enter your weight in kg: 120\n",
        ">Enter your height in m: 1.80\n",
        "Your BMI is 37.0\n",
        "Overweight\n",
        "```"
      ],
      "metadata": {
        "id": "qOk5aoF1-eS6"
      }
    },
    {
      "cell_type": "code",
      "source": [
        "# Name Constant\n",
        "OVERWEIGHT_THRESHOLD = ______\n",
        "\n",
        "# Input\n",
        "weight = ____\n",
        "height = ____\n",
        "\n",
        "# Process\n",
        "BMI = ____\n",
        "\n",
        "# Output\n",
        "print(____)\n",
        "if ______________:\n",
        "  print(\"Overweight\")"
      ],
      "metadata": {
        "id": "6dLb0_WN-giX"
      },
      "execution_count": null,
      "outputs": []
    },
    {
      "cell_type": "markdown",
      "source": [
        "**Q19**: Cashier Program\n",
        "\n",
        "\n",
        "จงเขียนโปรแกรมคำนวณราคาสิ้นค้า โดยมีสิ้นค้าทั้งหมดสี่ชนิดดังนี้ cookie (5 baht), water (10 baht), soda (20 baht), and popcorn (30)\n",
        "\n",
        "ถ้าราคาทั้งหมดมากกว่า 100 บาท จะได้ลดราคา 10%\n",
        "\n",
        "Input:\n",
        "- จำนวน cookie (int)\n",
        "- จำนวน water (int)\n",
        "- จำนวน soda (int)\n",
        "- จำนวน popcorn (int)\n",
        "\n",
        "Output:\n",
        "- The total payment (2 decimal place)\n",
        "\n",
        "Note:\n",
        "- You must use $\\texttt{Named constant}$.\n",
        "- Name your variables meaningfully!\n",
        "\n",
        "Example 1:\n",
        "\n",
        "```\n",
        "The number of cookie: 3\n",
        "The number of water: 2\n",
        "The number of soda: 0\n",
        "The number of popcorn: 1\n",
        "Total payment = 65 baht.\n",
        "```\n",
        "\n",
        "Example 2:\n",
        "```\n",
        "The number of cookie: 10  \n",
        "The number of water: 2     \n",
        "The number of soda: 5     \n",
        "The number of popcorn: 1  \n",
        "Total payment = 180 baht.\n",
        "```"
      ],
      "metadata": {
        "id": "_7UW0rVt-Dfw"
      }
    },
    {
      "cell_type": "code",
      "source": [
        "# NAMED CONSTANT\n",
        "COOKIE_P = 5\n",
        "WATER_P = ____\n",
        "_______________\n",
        "_______________\n",
        "\n",
        "# Input\n",
        "\n",
        "\n",
        "# Process\n",
        "\n",
        "total_payment = ___\n",
        "if ______________:\n",
        "  total_payment = ___\n",
        "\n",
        "# Output\n",
        "\n"
      ],
      "metadata": {
        "id": "LRrfo-I8-DDm"
      },
      "execution_count": null,
      "outputs": []
    },
    {
      "cell_type": "markdown",
      "source": [
        "**Q20**: Calculate the Average GPA of a Classroom\n",
        "\n",
        "การทำงานของโปรแกรมมีดังต่อไปนี้:\n",
        "- ถามผู้ใช้งานว่ามีกี่คนได้เกรด A, B, C, D, F\n",
        "- คำนวณ GPA ทั้งหมดโดยการ คูณจำนวนนักเรียนแต่ละเกรดและนำมารวมกัน\n",
        "- หาจำนวนนักเรียนทั้งหมด\n",
        "- คำนวณค่าเฉลี่ย GPA จาก GPA ทั้งหมดหารด้วยจำนวนนักเรียนทั้งหมด\n",
        "- ถ้าค่าเฉลี่ย GPA มากกว่า 2 ให้แสดงว่า ```Good```\n",
        "\n",
        "**Input**:\n",
        "- 5 integer for the number of students who received each letter grade.\n",
        "\n",
        "**Output**:\n",
        "- ตัวเลขจำนวนจริงเป็นสำหรับ ค่าเฉลี่ย GPA. จุดทศนิยมสองตำแหน่ง\n",
        "\n",
        "**Note**:\n",
        "- ต้องใช้ **NAME CONSTANT**.\n",
        "- ตั้งชื่อตัวแปรให้เหมาะสม !\n",
        "\n",
        "Example 1:\n",
        "```\n",
        ">Enter the number of A: 5\n",
        ">Enter the number of B: 10\n",
        ">Enter the number of C: 8\n",
        ">Enter the number of D: 4\n",
        ">Enter the number of F: 3\n",
        "The average GPA of the classroom is: 2.33\n",
        "Good\n",
        "```\n",
        "**Explanation**:\n",
        "- The total GPA is `5*4 + 10*3 + 8*2 + 4*1 + 3*0 = 70`\n",
        "- The total number of students is `5 + 10 + 8 + 4 + 3 = 30`\n",
        "- The average is `70/30 = 2.33`\n",
        "- 2.33 is greater than 2 so display ```good```\n",
        "\n",
        "Example 2:\n",
        "```\n",
        "Enter the number of A: 0\n",
        "Enter the number of B: 1\n",
        "Enter the number of C: 3\n",
        "Enter the number of D: 5\n",
        "Enter the number of F: 1\n",
        "The average GPA of the classroom is: 1.40\n",
        "```"
      ],
      "metadata": {
        "id": "byAOnJCfx5dp"
      }
    },
    {
      "cell_type": "code",
      "source": [
        "\n",
        "\n",
        "\n"
      ],
      "metadata": {
        "id": "IN9yrMnxx9rA"
      },
      "execution_count": null,
      "outputs": []
    },
    {
      "cell_type": "markdown",
      "source": [
        "## Submission\n",
        "- File -> Download -> Download .ipynb\n",
        "- Upload to Microsoft Teams"
      ],
      "metadata": {
        "id": "dsSJ-p0rP6pX"
      }
    }
  ]
}