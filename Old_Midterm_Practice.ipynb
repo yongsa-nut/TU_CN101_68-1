{
  "nbformat": 4,
  "nbformat_minor": 0,
  "metadata": {
    "colab": {
      "provenance": [],
      "authorship_tag": "ABX9TyN4WAC/jIdFywhMJXLa4SbP",
      "include_colab_link": true
    },
    "kernelspec": {
      "name": "python3",
      "display_name": "Python 3"
    },
    "language_info": {
      "name": "python"
    }
  },
  "cells": [
    {
      "cell_type": "markdown",
      "metadata": {
        "id": "view-in-github",
        "colab_type": "text"
      },
      "source": [
        "<a href=\"https://colab.research.google.com/github/yongsa-nut/TU_CN101_68-1/blob/main/Old_Midterm_Practice.ipynb\" target=\"_parent\"><img src=\"https://colab.research.google.com/assets/colab-badge.svg\" alt=\"Open In Colab\"/></a>"
      ]
    },
    {
      "cell_type": "markdown",
      "source": [
        "## Short Answer"
      ],
      "metadata": {
        "id": "uiag0DvOgQ5A"
      }
    },
    {
      "cell_type": "markdown",
      "source": [
        "**Q1**: What will the following program print out? Assume the user input 3 and 5.\n",
        "\n",
        "```python\n",
        "x = int(input('Enter x: '))\n",
        "y = int(input('Enter y: '))\n",
        "\n",
        "print(f'{x+y+10*5:.2f}, {x+y**2/2:.3f}')\n",
        "```"
      ],
      "metadata": {
        "id": "7anfGvNn1LpJ"
      }
    },
    {
      "cell_type": "code",
      "execution_count": null,
      "metadata": {
        "id": "lTgvEBDf1FLJ"
      },
      "outputs": [],
      "source": []
    },
    {
      "cell_type": "markdown",
      "source": [
        "**Q2**: Fill in the blanks so that the statement below print out the following:\n",
        "\n",
        "```python\n",
        "1 2 2.5 25\n",
        "```\n",
        "```\n",
        "print(5 __ 2, 5 __ 2, 5 __ 2, 5 __ 2)\n",
        "```"
      ],
      "metadata": {
        "id": "gCsk_Azj1N9K"
      }
    },
    {
      "cell_type": "code",
      "source": [],
      "metadata": {
        "id": "9JWYsBAm1QPU"
      },
      "execution_count": null,
      "outputs": []
    },
    {
      "cell_type": "markdown",
      "source": [
        "**Q3**: What will the following program output?\n",
        "\n",
        "```python\n",
        "if 10 < 5:\n",
        "  print('a', end='')\n",
        "else:\n",
        "  print('b', end='')\n",
        "if 10 > 5 and 5 > 20:\n",
        "  print('c', end='')\n",
        "elif 7 == 5 or 6 > 3:\n",
        "  print('d', end='')\n",
        "if 3%2 == 1:\n",
        "  print('e', end='')\n",
        "```"
      ],
      "metadata": {
        "id": "cZbM7SiphAYi"
      }
    },
    {
      "cell_type": "code",
      "source": [],
      "metadata": {
        "id": "hTlal0lHhCkx"
      },
      "execution_count": null,
      "outputs": []
    },
    {
      "cell_type": "markdown",
      "source": [
        "**Q4**: Fill a number in the blank (__) so that the following program print out 'D'\n",
        "\n",
        "```python\n",
        "num = __\n",
        "if num >= 49:\n",
        "  print('A')\n",
        "else:\n",
        "  if num < 45 or num > 60:\n",
        "    print('B')\n",
        "  elif num % 5 == 0 or num%2==0:\n",
        "    print('C')\n",
        "  else:\n",
        "    print('D')\n",
        "```"
      ],
      "metadata": {
        "id": "tmG9NkijhKLA"
      }
    },
    {
      "cell_type": "code",
      "source": [],
      "metadata": {
        "id": "uxOXpo8ThLsI"
      },
      "execution_count": null,
      "outputs": []
    },
    {
      "cell_type": "markdown",
      "source": [
        "**Q5**: What will the following program print out?\n",
        "\n",
        "```python\n",
        "a = 'HELLO' == 'hello'\n",
        "b = 'There' > 'THERE'\n",
        "\n",
        "print(f'{a or not b}')\n",
        "```"
      ],
      "metadata": {
        "id": "Uy-RRBy3hMPb"
      }
    },
    {
      "cell_type": "code",
      "source": [],
      "metadata": {
        "id": "86fsjHTOhNfe"
      },
      "execution_count": null,
      "outputs": []
    },
    {
      "cell_type": "markdown",
      "source": [
        "**Q6**: Fill in the blank so that the code print out 7 4 1\n",
        "\n",
        "```python\n",
        "for i in _____:\n",
        "  print(i, end=' ')\n",
        "```"
      ],
      "metadata": {
        "id": "8rsrFb7ShN7D"
      }
    },
    {
      "cell_type": "code",
      "source": [],
      "metadata": {
        "id": "gEvKuh8yhPPT"
      },
      "execution_count": null,
      "outputs": []
    },
    {
      "cell_type": "markdown",
      "source": [
        "**Q7**: What will the following code print out?\n",
        "\n",
        "```python\n",
        "x = 0\n",
        "total = 0\n",
        "while x < 2:\n",
        "  x += 1\n",
        "  for i in range(x):\n",
        "    total += x\n",
        "print(total)\n",
        "```"
      ],
      "metadata": {
        "id": "5HysHqUMhPfO"
      }
    },
    {
      "cell_type": "code",
      "source": [],
      "metadata": {
        "id": "FQ3zRAuDhQwV"
      },
      "execution_count": null,
      "outputs": []
    },
    {
      "cell_type": "markdown",
      "source": [
        "**Q8**: What will the following code print out?\n",
        "\n",
        "```python\n",
        "y = 0\n",
        "for num in [1, 5, 4, 7, 0]:\n",
        "  for i in range(num, 3):\n",
        "    y -= 1  \n",
        "print(y)\n",
        "```"
      ],
      "metadata": {
        "id": "OzuOTFI6hQ_9"
      }
    },
    {
      "cell_type": "code",
      "source": [],
      "metadata": {
        "id": "N44gjLV5hSbL"
      },
      "execution_count": null,
      "outputs": []
    },
    {
      "cell_type": "markdown",
      "source": [
        "**Q9**: Fix the error of the following code.\n",
        "\n",
        "```python\n",
        "x = input('Enter x:')\n",
        "x /= 5\n",
        "print(x, x+1)\n",
        "```"
      ],
      "metadata": {
        "id": "qFy2SAwKhS2J"
      }
    },
    {
      "cell_type": "code",
      "source": [],
      "metadata": {
        "id": "69zXQSgP34jZ"
      },
      "execution_count": null,
      "outputs": []
    },
    {
      "cell_type": "markdown",
      "source": [
        "**Q10:** Fill in the blank (_) so that the program print out 8.\n",
        "\n",
        "```python\n",
        "num = 10\n",
        "count = 0\n",
        "while num > 0:\n",
        "  num = num _ 2\n",
        "  count += num\n",
        "print(count)\n",
        "```"
      ],
      "metadata": {
        "id": "tu7lEqa-hUw1"
      }
    },
    {
      "cell_type": "code",
      "source": [],
      "metadata": {
        "id": "Kf3jO5PdhVuy"
      },
      "execution_count": null,
      "outputs": []
    },
    {
      "cell_type": "markdown",
      "source": [
        "**Q11**: What will the following program print out?\n",
        "\n",
        "```python\n",
        "numbers = [5, 10, 15, 20, 77]\n",
        "count = 0\n",
        "for number in numbers:\n",
        "  if number % 5 == 0 and number % 2 == 0:\n",
        "    count += 3\n",
        "  elif number % 5 == 0:\n",
        "    count += 1\n",
        "  elif number % 2 == 0:\n",
        "    count -= 10\n",
        "print(count)\n",
        "```"
      ],
      "metadata": {
        "id": "tlvp9IfLhWGY"
      }
    },
    {
      "cell_type": "code",
      "source": [],
      "metadata": {
        "id": "zGzpgut1hXtY"
      },
      "execution_count": null,
      "outputs": []
    },
    {
      "cell_type": "markdown",
      "source": [
        "**Q12**: What will the following program print out?\n",
        "\n",
        "```python\n",
        "target = 'j'  \n",
        "count = 0\n",
        "for word in ['a','A','z','Z','j','jJ']:\n",
        "  if word > target:\n",
        "    count += 1\n",
        "print(count)\n",
        "```"
      ],
      "metadata": {
        "id": "Jyp89ycxhX_4"
      }
    },
    {
      "cell_type": "code",
      "source": [],
      "metadata": {
        "id": "ziOdwIx0hZR1"
      },
      "execution_count": null,
      "outputs": []
    },
    {
      "cell_type": "markdown",
      "source": [
        "**Q13**: What will the following program print out?\n",
        "\n",
        "```python\n",
        "x = 0\n",
        "\n",
        "while x < 3:\n",
        "  for i in range(x+6, x+x, -2):\n",
        "    print(i, end='- ')\n",
        "  for j in range(x, x+1, 1):\n",
        "    print(j, end='+ ')\n",
        "  x += 2\n",
        "```"
      ],
      "metadata": {
        "id": "WugfsBhQhZqj"
      }
    },
    {
      "cell_type": "code",
      "source": [],
      "metadata": {
        "id": "_7xnCrdZhau_"
      },
      "execution_count": null,
      "outputs": []
    },
    {
      "cell_type": "markdown",
      "source": [
        "**Q14**: What will the following program print out?\n",
        "\n",
        "```python\n",
        "count = 0\n",
        "for i in range(5, 10, 2):\n",
        "    for j in range(10, 1, -3):\n",
        "        if (i + j)%2 == 0:\n",
        "            count+=1\n",
        "print(count)\n",
        "```"
      ],
      "metadata": {
        "id": "HZB2RFgWhdDX"
      }
    },
    {
      "cell_type": "code",
      "source": [],
      "metadata": {
        "id": "ghtwzClbhcUb"
      },
      "execution_count": null,
      "outputs": []
    },
    {
      "cell_type": "markdown",
      "source": [
        "**Q15**: What will the following program print out?\n",
        "\n",
        "```python\n",
        "for i in range(5):\n",
        "    if i < 3:\n",
        "        x = i\n",
        "        while x > 0:\n",
        "            print(f'{x}', end=' ')\n",
        "            x -= 1\n",
        "    else:\n",
        "        for j in range(i,i*2+1,2):\n",
        "            print(j, end=' ')\n",
        "```\n"
      ],
      "metadata": {
        "id": "xAxwpwOfhfSw"
      }
    },
    {
      "cell_type": "code",
      "source": [],
      "metadata": {
        "id": "EQgQliWUhc3S"
      },
      "execution_count": null,
      "outputs": []
    },
    {
      "cell_type": "markdown",
      "source": [
        "**Q16**: Fill in the blank so that the program outputs 9 and 6."
      ],
      "metadata": {
        "id": "-bFg2mHNmA0e"
      }
    },
    {
      "cell_type": "code",
      "source": [
        "x = 69\n",
        "first = x _ 60\n",
        "second = x _ 10\n",
        "print(first, second)"
      ],
      "metadata": {
        "id": "qHslsmv8mC4f"
      },
      "execution_count": null,
      "outputs": []
    },
    {
      "cell_type": "markdown",
      "source": [
        "**Q17**: What will the following code print out?\n",
        "```python\n",
        "num = 10\n",
        "x = 5\n",
        "num = x + num ** 2 /5 - x * 3\n",
        "x = 10\n",
        "print(num)\n",
        "```"
      ],
      "metadata": {
        "id": "Pl_mGNyVJE6n"
      }
    },
    {
      "cell_type": "code",
      "source": [],
      "metadata": {
        "id": "6tLdM0-PJFu4"
      },
      "execution_count": null,
      "outputs": []
    },
    {
      "cell_type": "markdown",
      "source": [
        "**Q18**: What will the following code print out? Assume inputs are 2 and 4 respectively.\n",
        "```python\n",
        "x = int(input('Enter a number '))\n",
        "y = int(input('Enter a number: '))\n",
        "print(f\"Output = {10-y**x+10*3:.2f}\")\n",
        "```"
      ],
      "metadata": {
        "id": "X0f84ydaJc4A"
      }
    },
    {
      "cell_type": "code",
      "source": [],
      "metadata": {
        "id": "2q4ieKYrJdh8"
      },
      "execution_count": null,
      "outputs": []
    },
    {
      "cell_type": "markdown",
      "source": [
        "**Q19**: What will the following program output?\n",
        "\n",
        "```python\n",
        "if 10 < 5:\n",
        "  print('a', end='')\n",
        "else:\n",
        "  print('b', end='')\n",
        "if 10 > 5 and 5 > 20:\n",
        "  print('c', end='')\n",
        "elif 7 == 5 or 6 > 3:\n",
        "  print('d', end='')\n",
        "if 3%2 == 1:\n",
        "  print('e', end='')\n",
        "```"
      ],
      "metadata": {
        "id": "0V66KxKvJjOU"
      }
    },
    {
      "cell_type": "code",
      "source": [],
      "metadata": {
        "id": "7tQblj_OJlAi"
      },
      "execution_count": null,
      "outputs": []
    },
    {
      "cell_type": "markdown",
      "source": [
        "**Q20**: What will the following program output?\n",
        "\n",
        "```python\n",
        "a = False\n",
        "b = False\n",
        "c = False\n",
        "\n",
        "if a and not b and not c:\n",
        "  print(\"First\")\n",
        "elif a or not b and not c:\n",
        "  print(\"Second\")\n",
        "else:\n",
        "  print(\"Third\")\n",
        "```"
      ],
      "metadata": {
        "id": "XoTXdhYWJ8aZ"
      }
    },
    {
      "cell_type": "code",
      "source": [],
      "metadata": {
        "id": "XxJh-8qBJ84e"
      },
      "execution_count": null,
      "outputs": []
    },
    {
      "cell_type": "markdown",
      "source": [
        "**Q21**: Fill in the blank so that the program print out 4 2 0 -2 -4"
      ],
      "metadata": {
        "id": "pqwkvtbOJzWn"
      }
    },
    {
      "cell_type": "code",
      "source": [
        "for i in range(______):\n",
        "  print(i, end=' ')"
      ],
      "metadata": {
        "id": "7ziKZUoBJznT"
      },
      "execution_count": null,
      "outputs": []
    },
    {
      "cell_type": "markdown",
      "source": [
        "**Q22**: What will the code below print out?\n",
        "\n",
        "```python\n",
        "total = 0\n",
        "for var in [1, 7, 10, 17, 20]:\n",
        "  if var % 5 == 0:\n",
        "    total += var\n",
        "  else:\n",
        "    total += 7\n",
        "print(total)\n",
        "```"
      ],
      "metadata": {
        "id": "CUjC5eRwKHO-"
      }
    },
    {
      "cell_type": "code",
      "source": [],
      "metadata": {
        "id": "FrZGB4huKHf3"
      },
      "execution_count": null,
      "outputs": []
    },
    {
      "cell_type": "markdown",
      "source": [
        "**Q23**: What will the following code print out?\n",
        "```python\n",
        "count = 0\n",
        "names = ['Adam','Sophia','Noah','Mary','Nico','John']\n",
        "my_name = 'Nut'\n",
        "for name in names:\n",
        "  if my_name > names:\n",
        "     count += 1\n",
        "print(count)\n",
        "```"
      ],
      "metadata": {
        "id": "_hbAWrjBKMMa"
      }
    },
    {
      "cell_type": "code",
      "source": [],
      "metadata": {
        "id": "fKfQnXlBKMan"
      },
      "execution_count": null,
      "outputs": []
    },
    {
      "cell_type": "markdown",
      "source": [
        "**Q24**: What will the following code print out?\n",
        "```python\n",
        "numbers = [4, 2, 3, 0, 1]\n",
        "temp = [0,0,0,0,0]\n",
        "for i in range(len(numbers)):\n",
        "  temp[i] = numbers[numbers[i]]\n",
        "print(temp)\n",
        "```\n"
      ],
      "metadata": {
        "id": "st5-CG7OKY_Z"
      }
    },
    {
      "cell_type": "code",
      "source": [],
      "metadata": {
        "id": "y7yHPG27KZN0"
      },
      "execution_count": null,
      "outputs": []
    },
    {
      "cell_type": "markdown",
      "source": [
        "**Q25**: What will the following program output?\n",
        "\n",
        "```python\n",
        "num1 = 10\n",
        "num2 = 8\n",
        "num3 = 4\n",
        "\n",
        "if num1 > num2 and (num2-num2) == 0:\n",
        "  num2 = num2//2\n",
        "if num3 < num2 or num2 / num1 != 0:\n",
        "  num1 = num1 * 2\n",
        "  num2 = num2 - num3\n",
        "  num3 = num2 + num3\n",
        "else:\n",
        "  num3 = num3 * 2\n",
        "  num1 = num3 - num1\n",
        "  num2 = num2 + num2\n",
        "\n",
        "print(num1, num2, num3)\n",
        "```"
      ],
      "metadata": {
        "id": "IgACYVoyap_T"
      }
    },
    {
      "cell_type": "code",
      "source": [],
      "metadata": {
        "id": "gKlRhswwariC"
      },
      "execution_count": null,
      "outputs": []
    },
    {
      "cell_type": "markdown",
      "source": [
        "**Q26**: What will the following program output?\n",
        "\n",
        "```python\n",
        "x = 1\n",
        "for i in range(x, x*5, 2):\n",
        "  if i > x:\n",
        "    print(i, end=' ')\n",
        "for i in range(x*10+2, x, -2):\n",
        "  if i % 3 == 1:\n",
        "    print(i, end=' ')\n",
        "```"
      ],
      "metadata": {
        "id": "VPRYcNIraxrW"
      }
    },
    {
      "cell_type": "code",
      "source": [],
      "metadata": {
        "id": "HQyDU_tLazlt"
      },
      "execution_count": null,
      "outputs": []
    },
    {
      "cell_type": "markdown",
      "source": [
        "**Q27**: What will the following program print out?\n",
        "\n",
        "```python\n",
        "LIMIT = 40\n",
        "\n",
        "num = 1\n",
        "total = 0\n",
        "count = 0\n",
        "\n",
        "while total + num < LIMIT:\n",
        "  total += num\n",
        "  count += 1\n",
        "  num *= 3\n",
        "\n",
        "print(f'{total} {count}')\n",
        "```"
      ],
      "metadata": {
        "id": "q9ogURXVDiV_"
      }
    },
    {
      "cell_type": "code",
      "source": [],
      "metadata": {
        "id": "dGo-fqyXDh6r"
      },
      "execution_count": null,
      "outputs": []
    },
    {
      "cell_type": "markdown",
      "source": [
        "**Q28**: What will the following program output?\n",
        "\n",
        "```python\n",
        "total = 0\n",
        "for num in range(5, 5):\n",
        "  total += num\n",
        "for num in range(0, 12, 3):\n",
        "  total += num\n",
        "for num in range(5, 1, -2):\n",
        "  total += num\n",
        "print(total)\n",
        "```"
      ],
      "metadata": {
        "id": "NN5XMniva1nI"
      }
    },
    {
      "cell_type": "code",
      "source": [],
      "metadata": {
        "id": "TEKNbzYya1J2"
      },
      "execution_count": null,
      "outputs": []
    },
    {
      "cell_type": "markdown",
      "source": [
        "**Q29**: What $\\texttt{x}$ needs to be to make the following program output \"Third\"?\n",
        "\n",
        "```python\n",
        "x = _\n",
        "if x > 10*2:\n",
        "  print(\"First\")\n",
        "elif (x**2) + 5 > 20:\n",
        "  print(\"Second\")\n",
        "elif (x%2==1) and (x+5) > 6:\n",
        "  print(\"Third\")\n",
        "else:\n",
        "  print(\"Fourth\")\n",
        "```"
      ],
      "metadata": {
        "id": "HDH4Bsm-a4Qw"
      }
    },
    {
      "cell_type": "code",
      "source": [],
      "metadata": {
        "id": "vdihjX8Ya41L"
      },
      "execution_count": null,
      "outputs": []
    },
    {
      "cell_type": "markdown",
      "source": [
        "**Q30**: What will the code below print out?\n",
        "\n",
        "```python\n",
        "total = 0\n",
        "for var in [1, 7, 10, 17, 20]:\n",
        "  if var % 5 == 0:\n",
        "    total += var\n",
        "  else:\n",
        "    total += 7\n",
        "print(total)\n",
        "```"
      ],
      "metadata": {
        "id": "r5Q8uvuYgcpx"
      }
    },
    {
      "cell_type": "code",
      "source": [],
      "metadata": {
        "id": "8xFlZYN2gcDN"
      },
      "execution_count": null,
      "outputs": []
    },
    {
      "cell_type": "markdown",
      "source": [
        "**Q31**: Write the output of the following program:\n",
        "\n",
        "```python\n",
        "n = 2\n",
        "\n",
        "while n >= 0:\n",
        "  for i in range(n, n*3+1, 3):\n",
        "    print(i, end=' ')\n",
        "  for j in range(n + 2, n - 2, -2):\n",
        "    print(j+1, end=' ')\n",
        "  n -= 2\n",
        "```"
      ],
      "metadata": {
        "id": "WB_TaxF4ulQF"
      }
    },
    {
      "cell_type": "code",
      "source": [],
      "metadata": {
        "id": "nkI-q5dFur1E"
      },
      "execution_count": null,
      "outputs": []
    },
    {
      "cell_type": "markdown",
      "source": [
        "**Q32**: Write the output of the following program:\n",
        "\n",
        "```python\n",
        "count = 0\n",
        "for i in range(1, 7, 2):\n",
        "  for j in range(6, 0, -3):\n",
        "    if (i+j) >= 6:\n",
        "      count += 1\n",
        "print(f\"count = {count}\")\n",
        "```"
      ],
      "metadata": {
        "id": "Ci3h9-8UunnN"
      }
    },
    {
      "cell_type": "code",
      "source": [],
      "metadata": {
        "id": "FxrEXf52urm8"
      },
      "execution_count": null,
      "outputs": []
    },
    {
      "cell_type": "markdown",
      "source": [
        "**Q33**: Write the output of the following program:\n",
        "\n",
        "```python\n",
        "total = 0\n",
        "for i in range(1, 6):\n",
        "  if i % 2 == 0:\n",
        "     for j in range(i//2,i):\n",
        "        total += (i+j)%3\n",
        "print(total)\n",
        "```"
      ],
      "metadata": {
        "id": "G8zJXe8fut8H"
      }
    },
    {
      "cell_type": "code",
      "source": [],
      "metadata": {
        "id": "1pgMML7Tuvb7"
      },
      "execution_count": null,
      "outputs": []
    },
    {
      "cell_type": "markdown",
      "source": [
        "**Q34**: Fill in the blanks so that the program outputs as shown below when the user enters 93784.\n",
        "\n",
        "```python\n",
        ">Enter total second: 93784\n",
        "Day(s):1, Hour(s):2, Minute(s):3, Second(s):4\n",
        "```"
      ],
      "metadata": {
        "id": "ObBUIq3aSBc3"
      }
    },
    {
      "cell_type": "code",
      "source": [
        "MIN = 60\n",
        "HOUR = MIN * 60\n",
        "DAY = HOUR * 24\n",
        "seconds = _________________________________________\n",
        "days = seconds // DAY\n",
        "hours = seconds // HOUR % 24\n",
        "mins = seconds // MIN % 60\n",
        "seconds = _________________________________________\n",
        "print(f'Day(s):{days}, Hour(s):{hours}, ', end=' ')\n",
        "print(f'Minute(s):{mins}, Second(s):{seconds}')"
      ],
      "metadata": {
        "id": "vO35WQf1R_ZV"
      },
      "execution_count": null,
      "outputs": []
    },
    {
      "cell_type": "markdown",
      "source": [
        "**Q35**: Given the code below\n",
        "\n",
        "```python\n",
        "value = 5\n",
        "while value >= -5:\n",
        "    print(value)\n",
        "    value -= 2\n",
        "```\n",
        "\n",
        "Fill in the blank below so that the program output the same thing"
      ],
      "metadata": {
        "id": "_g13d6UKSeuI"
      }
    },
    {
      "cell_type": "code",
      "source": [
        "for ________________________________________________:\n",
        "    print(value)"
      ],
      "metadata": {
        "id": "6MLwSbtuSgHU"
      },
      "execution_count": null,
      "outputs": []
    },
    {
      "cell_type": "markdown",
      "source": [
        "**Q36**: Fill in the blank so that the program print out 18."
      ],
      "metadata": {
        "id": "mo6cm6n7VfWb"
      }
    },
    {
      "cell_type": "code",
      "source": [
        "m = 0\n",
        "for i in range(0, 10, ___________):\n",
        "   m += i\n",
        "print(m)"
      ],
      "metadata": {
        "id": "WPprvbkCVjC4"
      },
      "execution_count": null,
      "outputs": []
    },
    {
      "cell_type": "markdown",
      "source": [
        "**Q37**: What will this program print out?\n",
        "```python\n",
        "num = 0\n",
        "total = 1\n",
        "while num < 8:\n",
        "   num = num + 2\n",
        "   total = total * 2\n",
        "print(total)\n",
        "```"
      ],
      "metadata": {
        "id": "u8zVnlCvUWXQ"
      }
    },
    {
      "cell_type": "code",
      "source": [],
      "metadata": {
        "id": "RvP3GyaLUWyj"
      },
      "execution_count": null,
      "outputs": []
    },
    {
      "cell_type": "markdown",
      "source": [
        "**Q38**: What will this program print out?\n",
        "```python\n",
        "count = 0\n",
        "for i in range(0, 6, 2):\n",
        "   for j in range(3):\n",
        "      if j >= i:\n",
        "         count = count + 1\n",
        "print(count)\n",
        "```"
      ],
      "metadata": {
        "id": "LYWxjhQEUdzm"
      }
    },
    {
      "cell_type": "code",
      "source": [],
      "metadata": {
        "id": "jI2jL3n7UeC9"
      },
      "execution_count": null,
      "outputs": []
    },
    {
      "cell_type": "markdown",
      "source": [
        "**Q39**: Fill in the blank below so that the program add the two lists together and store the result in `seq1`.\n",
        "\n",
        "The program will print out `[4, 3, 6, 9, 6]`."
      ],
      "metadata": {
        "id": "7emtaAAhU12B"
      }
    },
    {
      "cell_type": "code",
      "source": [
        "seq1 = [1, 2, 3, 4, 5]\n",
        "seq2 = [3, 1, 3, 5, 1]\n",
        "for i in range(len(seq1)):\n",
        "  _____________________________\n",
        "print(seq1)"
      ],
      "metadata": {
        "id": "51I1LCfFU4fj"
      },
      "execution_count": null,
      "outputs": []
    },
    {
      "cell_type": "markdown",
      "source": [
        "**Q40**: จงเขียนข้อมูลส่งออกของโปรแกรมต่อไปนี้\n",
        "```python\n",
        "base = 1\n",
        "for num in [1, 3, 4, 2, 9, 10]:\n",
        "  if num % 2 == 0:\n",
        "    base *= num\n",
        "print(base)\n",
        "```"
      ],
      "metadata": {
        "id": "Ps7c807fsLJK"
      }
    },
    {
      "cell_type": "code",
      "source": [],
      "metadata": {
        "id": "561fzaNdsQDS"
      },
      "execution_count": null,
      "outputs": []
    },
    {
      "cell_type": "markdown",
      "source": [
        "**Q41**: จงเขียนข้อมูลส่งออกของโปรแกรมต่อไปนี้\n",
        "\n",
        "```python\n",
        "a = 10\n",
        "b = 20\n",
        "c = 40\n",
        "if (a > 5) and not (c > b):\n",
        "  print(\"First\")\n",
        "elif not (b > 10) or (a <= c):\n",
        "  print(\"Second\")\n",
        "else:\n",
        "  print(\"Third\")\n",
        "```\n"
      ],
      "metadata": {
        "id": "8S40Pl_CsQSf"
      }
    },
    {
      "cell_type": "code",
      "source": [],
      "metadata": {
        "id": "xWNCj0ztsXcN"
      },
      "execution_count": null,
      "outputs": []
    },
    {
      "cell_type": "markdown",
      "source": [
        "**Q42**: จงเติม code ในช่องว่างเพื่อให้ โปรแกรมรับข้อมูลจาก user แล้ว แสดงผลอย่างที่โชว์ด้านล่าง หมายเหตุตัวที่ขีดเส้นใต้คือข้อมูลที่ user พิมพ์เข้ามา\n",
        "```\n",
        "Enter weight: 70\n",
        "Enter height: 1.7\n",
        "Your BMI is 24.22\n",
        "```\n"
      ],
      "metadata": {
        "id": "CiQIIKZlsXuP"
      }
    },
    {
      "cell_type": "code",
      "source": [
        "prompt1 = _______________________\n",
        "prompt2 = \"Enter height: \"\n",
        "weight = float(input(prompt1))\n",
        "height = float(input(_________))\n",
        "print(f'Your BMI is {weight/height**2:.2f}')"
      ],
      "metadata": {
        "id": "wD8n1Mr5sa3I"
      },
      "execution_count": null,
      "outputs": []
    },
    {
      "cell_type": "markdown",
      "source": [
        "**Q43**: จงเขียนข้อมูลส่งออกของโปรแกรมต่อไปนี้\n",
        "```python\n",
        "temp = 0\n",
        "for i in range(1, 10, 2):\n",
        "  temp = i\n",
        "for j in range(1 , 5, 2):\n",
        "  temp += j\n",
        "print(temp)\n",
        "```"
      ],
      "metadata": {
        "id": "nO6_5ZUfscyX"
      }
    },
    {
      "cell_type": "code",
      "source": [],
      "metadata": {
        "id": "rD2rlGxxsgnB"
      },
      "execution_count": null,
      "outputs": []
    },
    {
      "cell_type": "markdown",
      "source": [
        "**Q44**: จงเขียนข้อมูลส่งออกของโปรแกรมต่อไปนี้\n",
        "\n",
        "```python\n",
        "num = 5\n",
        "total = 0\n",
        "if num < 10:\n",
        "  for i in range(1, num):\n",
        "    total += 1\n",
        "else:\n",
        "  while num > 0:\n",
        "    total += 2\n",
        "    num = num - 1\n",
        "print(total)\n",
        "```"
      ],
      "metadata": {
        "id": "7ZIvQQy1sg15"
      }
    },
    {
      "cell_type": "code",
      "source": [],
      "metadata": {
        "id": "1tyqpMLgskwx"
      },
      "execution_count": null,
      "outputs": []
    },
    {
      "cell_type": "markdown",
      "source": [
        "**Q45** จงเขียนข้อมูลส่งออกของโปรแกรมต่อไปนี้\n",
        "```python\n",
        "numbers = [2, -7, 10, 3, 4]\n",
        "temp1 = -1\n",
        "temp2 = 0\n",
        "for i in range(len(numbers)):\n",
        "  if numbers[i] > temp1:\n",
        "    temp1 = numbers[i]\n",
        "    temp2 = i\n",
        "print(temp1, temp2)\n",
        "```\n"
      ],
      "metadata": {
        "id": "vLmduOe2sk_a"
      }
    },
    {
      "cell_type": "code",
      "source": [],
      "metadata": {
        "id": "6L0bp_UhsuYx"
      },
      "execution_count": null,
      "outputs": []
    },
    {
      "cell_type": "markdown",
      "source": [
        "**Q46**: จงเขียนข้อมูลส่งออกของโปรแกรมต่อไปนี้\n",
        "```python\n",
        "temp = 10\n",
        "num = 15\n",
        "while num > 0:\n",
        "  if num % 2 == 1:\n",
        "    temp += num\n",
        "  num -= 3\n",
        "print(temp)\n",
        "```"
      ],
      "metadata": {
        "id": "VATEUUpTs4J4"
      }
    },
    {
      "cell_type": "code",
      "source": [],
      "metadata": {
        "id": "kgnMlFf6s6YK"
      },
      "execution_count": null,
      "outputs": []
    },
    {
      "cell_type": "markdown",
      "source": [
        "**Q47**: จงเขียนข้อมูลส่งออกของโปรแกรมต่อไปนี้\n",
        "\n",
        "```python\n",
        "numbers = [2, 4, 8, 16, 32]\n",
        "numbers[0] = numbers[1]\n",
        "numbers[2] = numbers[0]*2\n",
        "numbers[3]*2\n",
        "print(numbers[0]+numbers[1]+numbers[2])\n",
        "```\n"
      ],
      "metadata": {
        "id": "9Y8BLoSKs6g7"
      }
    },
    {
      "cell_type": "code",
      "source": [],
      "metadata": {
        "id": "x3Yt99was-BU"
      },
      "execution_count": null,
      "outputs": []
    },
    {
      "cell_type": "markdown",
      "source": [
        "**Q48**: จงเขียนข้อมูลส่งออกของโปรแกรมต่อไปนี้\n",
        "```python\n",
        "count = 0\n",
        "for num1 in range(1, 8, 3):\n",
        "  for num2 in [2, 5, 3, 4]:\n",
        "    if num1 > num2 and num2 % 2 == 0:\n",
        "      count += 2\n",
        "print(count)\n",
        "```"
      ],
      "metadata": {
        "id": "820Ix_rgs-OA"
      }
    },
    {
      "cell_type": "code",
      "source": [],
      "metadata": {
        "id": "v8baxItVtBi2"
      },
      "execution_count": null,
      "outputs": []
    },
    {
      "cell_type": "markdown",
      "source": [
        "**Q49**: จงเขียนโปรแกรมเพื่อคำนวณค่าของสมการนี้ $z = \\frac{1}{2}\\frac{(2x+2y)^2}{(x^2 + y^2)}$"
      ],
      "metadata": {
        "id": "mTMKewbIuPC9"
      }
    },
    {
      "cell_type": "code",
      "source": [],
      "metadata": {
        "id": "4xFLbHtSuZ9r"
      },
      "execution_count": null,
      "outputs": []
    },
    {
      "cell_type": "markdown",
      "source": [
        "**Q50**: จงเขียนข้อมูลส่งออกของโปรแกรมต่อไปนี้\n",
        "\n",
        "```python\n",
        "items = [5, 2, 9, 20, 3, 4]\n",
        "for i in range(1, len(items)):\n",
        "  if items[i] % 2 == 0:\n",
        "    items[i] = items[i-1]*2\n",
        "print(items)\n",
        "```\n"
      ],
      "metadata": {
        "id": "jGw1KIMMucqP"
      }
    },
    {
      "cell_type": "code",
      "source": [],
      "metadata": {
        "id": "7jbIBwbsue9z"
      },
      "execution_count": null,
      "outputs": []
    },
    {
      "cell_type": "markdown",
      "source": [
        "**Q51**: จงเขียนเติม code ในช่องว่างเพื่อคำนวณค่าใช้จ่ายจาก จำนวนชั่วโมงคูณจำนวนงานคูณค่าใช้จ่ายต่อชม\n",
        "```python\n",
        "SHOP_COST = 50\n",
        "PAYMENT_RATE = 20   #ค่าใช้จ่ายต่อชม.\n",
        "text_hour = \"Enter the number of hour: \"\n",
        "text_amount = \"Enter the amount of work: \"\n",
        "hour = float(input(message_hour))\n",
        "amount = int(input(message_amount))\n",
        "total = _________________________________________\n",
        "print(f\"The total payment is {total:.2f}\")\n",
        "```\n"
      ],
      "metadata": {
        "id": "w6FoK8GduhS_"
      }
    },
    {
      "cell_type": "code",
      "source": [],
      "metadata": {
        "id": "RyMi2Za6ukJ6"
      },
      "execution_count": null,
      "outputs": []
    },
    {
      "cell_type": "markdown",
      "source": [
        "**Q52**: จงเขียนข้อมูลส่งออกของโปรแกรมต่อไปนี้\n",
        "```python\n",
        "total = 0\n",
        "count = 5\n",
        "while count > 1:\n",
        "  count -= 2\n",
        "  total += count\n",
        "for num in [7, 5, 2, 1]:\n",
        "  if num % 2 == 1:\n",
        "    total -= num\n",
        "print(total)\n",
        "```"
      ],
      "metadata": {
        "id": "DkeWWAyZukVy"
      }
    },
    {
      "cell_type": "code",
      "source": [],
      "metadata": {
        "id": "esyFgK3guoM-"
      },
      "execution_count": null,
      "outputs": []
    },
    {
      "cell_type": "markdown",
      "source": [
        "**Q53**: จงเขียนข้อมูลส่งออกของโปรแกรมต่อไปนี้\n",
        "```python\n",
        "num = 0\n",
        "total = 1\n",
        "while True:\n",
        "  if num > 5:\n",
        "    break\n",
        "  num += 2\n",
        "  total *= num\n",
        "print(total)\n",
        "```"
      ],
      "metadata": {
        "id": "ayIcWbW8un8w"
      }
    },
    {
      "cell_type": "code",
      "source": [],
      "metadata": {
        "id": "mILc3YUnurjV"
      },
      "execution_count": null,
      "outputs": []
    },
    {
      "cell_type": "markdown",
      "source": [
        "**Q54**: จงเขียนข้อมูลส่งออกของโปรแกรมต่อไปนี้\n",
        "```python\n",
        "total = 0\n",
        "for var in [1, 7, 10, 17, 20]:\n",
        "  if var == 20:\n",
        "    break\n",
        "  if var % 5 == 0:\n",
        "    total += var\n",
        "  else:\n",
        "    total += 7\n",
        "print(total)\n",
        "```\n"
      ],
      "metadata": {
        "id": "WMfcAYiiurwg"
      }
    },
    {
      "cell_type": "code",
      "source": [],
      "metadata": {
        "id": "bZrGHExpuvPY"
      },
      "execution_count": null,
      "outputs": []
    },
    {
      "cell_type": "markdown",
      "source": [
        "**Q55**: จงเขียนข้อมูลส่งออกของโปรแกรมต่อไปนี้\n",
        "```python\n",
        "value = 75\n",
        "if value >= 60:\n",
        "  print('Good',end=',')\n",
        "else:\n",
        "  print('Bad')\n",
        "if value >= 70:\n",
        "  print('Great',end=',')\n",
        "if value >= 80:\n",
        "  print('Excellent',end=',')\n",
        "```\n"
      ],
      "metadata": {
        "id": "y9KKyzRTuvdj"
      }
    },
    {
      "cell_type": "code",
      "source": [],
      "metadata": {
        "id": "8Q0yuHwWuyl5"
      },
      "execution_count": null,
      "outputs": []
    },
    {
      "cell_type": "markdown",
      "source": [
        "**Q56**: จงเขียนข้อมูลส่งออกของโปรแกรมต่อไปนี้\n",
        "```python\n",
        "total = 0\n",
        "for i in range(1,5):\n",
        "  for j in range(8, 1,-2):\n",
        "    if i % 2 == 1 and j < 5:\n",
        "      total += j\n",
        "print(total)\n",
        "```\n"
      ],
      "metadata": {
        "id": "gdYDs1feuzB2"
      }
    },
    {
      "cell_type": "code",
      "source": [],
      "metadata": {
        "id": "YEWmJlPHu2ux"
      },
      "execution_count": null,
      "outputs": []
    },
    {
      "cell_type": "markdown",
      "source": [
        "**Q57**: จงเขียนข้อมูลส่งออกของโปรแกรมต่อไปนี้\n",
        "```python\n",
        "ng = 0\n",
        "nb = 1\n",
        "nn = 10\n",
        "for num in [10, 5, 7, 8, 13]:\n",
        "  if num > 3 and num < 9:\n",
        "    ng += 1\n",
        "  else:\n",
        "    nb -= 3\n",
        "  nn += 1\n",
        "print(ng, nb, nn)\n",
        "```"
      ],
      "metadata": {
        "id": "hOxC4ZiDu3BS"
      }
    },
    {
      "cell_type": "code",
      "source": [],
      "metadata": {
        "id": "Vgn3haqTu7DD"
      },
      "execution_count": null,
      "outputs": []
    },
    {
      "cell_type": "markdown",
      "source": [
        "**Q58**: จงเขียนข้อมูลส่งออกของโปรแกรมต่อไปนี้\n",
        "```python\n",
        "num1 = 10\n",
        "num2 = num1*2/5 + 10*5\n",
        "num1 = num1%3 + num1//3\n",
        "print(f'{num1:.1f}, {num2:.2f}')\n",
        "```"
      ],
      "metadata": {
        "id": "MtToavTLhub4"
      }
    },
    {
      "cell_type": "code",
      "source": [],
      "metadata": {
        "id": "VpMoJasNToHg"
      },
      "execution_count": null,
      "outputs": []
    },
    {
      "cell_type": "markdown",
      "source": [
        "**Q59**: จงเขียนข้อมูลส่งออกของโปรแกรมต่อไปนี้\n",
        "```python\n",
        "a = (10 > 20) or (30 < 20)\n",
        "b = (20 == 10*2) and (30-10 < 20)\n",
        "c = (a or b) or True\n",
        "print(a, b, c)\n",
        "```"
      ],
      "metadata": {
        "id": "0KdBxcuFichR"
      }
    },
    {
      "cell_type": "code",
      "source": [],
      "metadata": {
        "id": "HzlqeZ0bie8E"
      },
      "execution_count": null,
      "outputs": []
    },
    {
      "cell_type": "markdown",
      "source": [
        "**Q60**: จงเขียนข้อมูลส่งออกของโปรแกรมต่อไปนี้\n",
        "\n",
        "```python\n",
        "x = 1\n",
        "if 10 > 5:\n",
        "  x = 2\n",
        "if x == 1:\n",
        "  x += 1\n",
        "else:\n",
        "  x = 4\n",
        "if x%3 == 0:\n",
        "  print('A')\n",
        "else:\n",
        "  print('B')\n",
        "```"
      ],
      "metadata": {
        "id": "z5NQDkzRl9vP"
      }
    },
    {
      "cell_type": "code",
      "source": [],
      "metadata": {
        "id": "iqHay52Xl_lr"
      },
      "execution_count": null,
      "outputs": []
    },
    {
      "cell_type": "markdown",
      "source": [
        "**Q61**: จงเขียนข้อมูลส่งออกของโปรแกรมต่อไปนี้\n",
        "\n",
        "```python\n",
        "for i in range(3):\n",
        "  print(i, end=':')\n",
        "for j in range(2,4):\n",
        "  print(j,end='/')\n",
        "for k in range(5,0,-2):\n",
        "  print(k, end=':')\n",
        "print(i+j+k)\n",
        "```"
      ],
      "metadata": {
        "id": "n__17wfemGvm"
      }
    },
    {
      "cell_type": "code",
      "source": [],
      "metadata": {
        "id": "kxBqB6E3mH1E"
      },
      "execution_count": null,
      "outputs": []
    },
    {
      "cell_type": "markdown",
      "source": [
        "**Q62**: จงเขียนข้อมูลส่งออกของโปรแกรมต่อไปนี้\n",
        "\n",
        "```python\n",
        "x = 0\n",
        "total = 0\n",
        "while x < 5:\n",
        "  total += (x*2)\n",
        "  x += 1\n",
        "print(x, total)\n",
        "```"
      ],
      "metadata": {
        "id": "OE-VfBOwmIKT"
      }
    },
    {
      "cell_type": "code",
      "source": [],
      "metadata": {
        "id": "Ie0yUrglwQZw"
      },
      "execution_count": null,
      "outputs": []
    },
    {
      "cell_type": "markdown",
      "source": [
        "**Q63**: จงเขียนข้อมูลส่งออกของโปรแกรมต่อไปนี้\n",
        "```python\n",
        "count_1 = 0\n",
        "count_2 = 1\n",
        "for num in [10,20,30,40,50,1,2,12]:\n",
        "  if 1 < num < 20:\n",
        "    count_1 += 1\n",
        "  if 20 <= num and num <= 40:\n",
        "    count_2 *= 2\n",
        "print(count_1, count_2)\n",
        "```"
      ],
      "metadata": {
        "id": "lvjlbcdwm6xn"
      }
    },
    {
      "cell_type": "code",
      "source": [],
      "metadata": {
        "id": "W78wVSvBm7va"
      },
      "execution_count": null,
      "outputs": []
    },
    {
      "cell_type": "markdown",
      "source": [
        "**Q64**: จงเขียนข้อมูลส่งออกของโปรแกรมต่อไปนี้\n",
        "```python\n",
        "total = 0\n",
        "count = 5\n",
        "while count > 1:\n",
        "  count -= 2\n",
        "  total += count\n",
        "for num in [7, 5, 2, 1]:\n",
        "  if num % 2 == 1:\n",
        "    total -= num\n",
        "print(total)\n",
        "```"
      ],
      "metadata": {
        "id": "1ljCAU-pm8Be"
      }
    },
    {
      "cell_type": "code",
      "source": [],
      "metadata": {
        "id": "yktyx5mwm9Gd"
      },
      "execution_count": null,
      "outputs": []
    },
    {
      "cell_type": "markdown",
      "source": [
        "**Q65**: จงเขียนข้อมูลส่งออกของโปรแกรมต่อไปนี้\n",
        "```python\n",
        "my_list = [5, 9, 13, 6, 8, 10]\n",
        "my_list[0] = my_list[1] + 1\n",
        "my_list[-1] + 5\n",
        "print(f'{my_list[0]+my_list[1]}, {my_list[1]}, {my_list[5]}')\n",
        "```"
      ],
      "metadata": {
        "id": "TB0T2HBam9el"
      }
    },
    {
      "cell_type": "code",
      "source": [],
      "metadata": {
        "id": "40gb6mAqm-gt"
      },
      "execution_count": null,
      "outputs": []
    },
    {
      "cell_type": "markdown",
      "source": [
        "**Q66**: จงเขียนข้อมูลส่งออกของโปรแกรมต่อไปนี้\n",
        "```python\n",
        "items = [5, 2, 9, 20, 3, 4]\n",
        "for i in range(1, len(items)):\n",
        "  if items[i] % 2 == 0:\n",
        "    items[i] = items[i-1]*2\n",
        "print(items)\n",
        "```"
      ],
      "metadata": {
        "id": "lnztu3f7n5li"
      }
    },
    {
      "cell_type": "code",
      "source": [],
      "metadata": {
        "id": "kd_BYN7Zn517"
      },
      "execution_count": null,
      "outputs": []
    },
    {
      "cell_type": "markdown",
      "source": [
        "**Q67**: จงเขียนข้อมูลส่งออกของโปรแกรมต่อไปนี้\n",
        "```python\n",
        "count = 0\n",
        "for num1 in range(1, 8, 3):\n",
        "  for num2 in [2, 5, 3, 4]:\n",
        "    if num1 > num2 and num2 % 2 == 0:\n",
        "      count += 2\n",
        "print(count)\n",
        "```"
      ],
      "metadata": {
        "id": "RyqQz4cXn7U2"
      }
    },
    {
      "cell_type": "code",
      "source": [],
      "metadata": {
        "id": "iJoNChF4n8Cw"
      },
      "execution_count": null,
      "outputs": []
    },
    {
      "cell_type": "markdown",
      "source": [
        "**Q68:** ถ้าผู้ใช้งานได้ป้อนข้อมูล 2 แล้ว ผู้ใช้งานต้องป้อนข้อมูลอะไรต่อเพื่อให้โปรแกรมแสดงผล 10 ออกมา\n",
        "```python\n",
        "SPECIAL_A = 5\n",
        "SPECIAL_B = 1\n",
        "mode = int(input('Enter mode: '))\n",
        "if mode == '1':\n",
        "  A = int(input())\n",
        "  print(f'{A*SPECIAL_A}')\n",
        "elif mode == '2':\n",
        "  B = int(input())\n",
        "  print(f'{1+SPECIAL_B*B}')\n",
        "```"
      ],
      "metadata": {
        "id": "vA8YjvSnuJi7"
      }
    },
    {
      "cell_type": "code",
      "source": [],
      "metadata": {
        "id": "8Z0ECitKuKir"
      },
      "execution_count": null,
      "outputs": []
    },
    {
      "cell_type": "markdown",
      "source": [
        "**Q69**: จงเติม code ในช่องว่างเพื่อให้โปรแกรมแสดงผลเป็น 'xD'"
      ],
      "metadata": {
        "id": "5s3410GcTopQ"
      }
    },
    {
      "cell_type": "code",
      "execution_count": null,
      "metadata": {
        "id": "KmGNufL9Tj8Z"
      },
      "outputs": [],
      "source": [
        "cond = (1 > 2) or (\"Hello\"==\"Hello\")\n",
        "y = ______\n",
        "\n",
        "if cond:\n",
        "  print('x', end='')\n",
        "  if y == \"Mon\":\n",
        "    print('A')\n",
        "  elif y == \"Tue\":\n",
        "    print('D')\n",
        "else:\n",
        "  print('x',end='')\n",
        "  if y == 10:\n",
        "    print('B')\n",
        "  else:\n",
        "    print('C')"
      ]
    },
    {
      "cell_type": "markdown",
      "source": [
        "**Q70**: Fill in the blank so that the program print out the same result as the program below\n",
        "```python\n",
        "t = 1\n",
        "while t < 7:\n",
        "  print(t)\n",
        "  t += 2\n",
        "```"
      ],
      "metadata": {
        "id": "R8Q2X7gcUGnu"
      }
    },
    {
      "cell_type": "code",
      "source": [
        "for x in range(...):\n",
        "  print(x)"
      ],
      "metadata": {
        "id": "E9zNH9cVUIFO"
      },
      "execution_count": null,
      "outputs": []
    },
    {
      "cell_type": "markdown",
      "source": [
        "**Q71**: Fill in the blank so that the program print out `3 -5`"
      ],
      "metadata": {
        "id": "iwyiKFz9TrP0"
      }
    },
    {
      "cell_type": "code",
      "source": [
        "ng = 0\n",
        "nb = 1\n",
        "for num in [10, 5, 7, 8, 13]:\n",
        "  if num < 9:\n",
        "    ng += ...\n",
        "  else:\n",
        "    nb -= ...\n",
        "print(ng, nb)"
      ],
      "metadata": {
        "id": "ERs6TsODTrmP"
      },
      "execution_count": null,
      "outputs": []
    },
    {
      "cell_type": "markdown",
      "source": [
        "**Q72**: จงเติมโค้ดในช่องว่างเพื่อให้โปรแกรมแสดงผลเป็น 'Done' เมื่อ user พิมพ์ว่า 'q' หรือ 'Q'"
      ],
      "metadata": {
        "id": "4ade1dojrakz"
      }
    },
    {
      "cell_type": "code",
      "source": [
        "while True:\n",
        "  query = input('Enter query: ')\n",
        "  if query == 'q' or query == 'Q':\n",
        "    ________\n",
        "  else:\n",
        "    print('Not done')\n",
        "print('Done')"
      ],
      "metadata": {
        "id": "NxTgh3WLrqXw"
      },
      "execution_count": null,
      "outputs": []
    },
    {
      "cell_type": "markdown",
      "source": [
        "**Q73** จงเติมโค้ดในช่องว่างเพื่อให้โปรแกรม เพื่อให้โปรแกรมแสดงผลเป็น 'C'"
      ],
      "metadata": {
        "id": "hP9xDA5HqYAR"
      }
    },
    {
      "cell_type": "code",
      "source": [
        "num = __\n",
        "if num >= 49:\n",
        "  print('A')\n",
        "else:\n",
        "  if num < 45 or num > 60:\n",
        "    print('B')\n",
        "  elif num % 5 == 0 or num%2==0:\n",
        "    print('C')\n",
        "  else:\n",
        "    print('D')"
      ],
      "metadata": {
        "id": "IAUFnXGZqb4i"
      },
      "execution_count": null,
      "outputs": []
    },
    {
      "cell_type": "markdown",
      "source": [
        "**Q74**: จงเติมโค้ดในช่องว่างเพื่อให้โปรแกรม เพื่อให้โปรแกรมแสดงผลเป็น `1:C-2:B-3:A-`"
      ],
      "metadata": {
        "id": "z5kmGXRDy_Ai"
      }
    },
    {
      "cell_type": "code",
      "source": [
        "count = 0\n",
        "lst = ['A','B','C']\n",
        "for i in range(len(lst)):\n",
        "  print(f\"_____________\", end='-')"
      ],
      "metadata": {
        "id": "TD7OEf7WzAbT"
      },
      "execution_count": null,
      "outputs": []
    },
    {
      "cell_type": "markdown",
      "source": [
        "## Programming"
      ],
      "metadata": {
        "id": "e_8SnG1FgU24"
      }
    },
    {
      "cell_type": "markdown",
      "source": [
        "**Q**: Behavior Score\n",
        "\n",
        "จงเขียนโปรแกรมเพื่อคำนวณและจัดประเภทคะแนนพฤติกรรมของผู้ใช้\n",
        "โปรแกรมจะรับคะแนนพฤติกรรมเริ่มต้นก่อน\n",
        "\n",
        "ถัดไป โปรแกรมจะรับจำนวนเต็ม $n$ ซึ่งแทนจำนวนครั้งที่ผู้ใช้ได้รับการหักคะแนน\n",
        "\n",
        "หลังจากนั้น โปรแกรมจะรับจำนวนเต็ม $n$ ตัว สำหรับการหักคะแนน คะแนนพฤติกรรมเริ่มต้นจะถูกลดลงด้วยผลรวมของการหักคะแนนทั้งหมด\n",
        "สุดท้าย คะแนนที่เหลือจะถูกจัดประเภทตามเกณฑ์ดังนี้:\n",
        "\n",
        "- หากคะแนนอย่างน้อย 80 เกรดของคุณคือ Excellent\n",
        "\n",
        "- หากคะแนนอยู่ระหว่าง 60 ถึง 79 (รวม) เกรดของคุณคือ Good\n",
        "\n",
        "- หากคะแนนต่ำกว่า 60 เกรดของคุณคือ Bad\n",
        "\n",
        "**Input**:\n",
        "\n",
        "- จำนวนเต็มสำหรับคะแนนพฤติกรรมเริ่มต้น\n",
        "- จำนวนเต็ม $n$ สำหรับจำนวนคะแนนการทดสอบ\n",
        "- จำนวนเต็ม $n$ ตัว สำหรับคะแนนการทดสอบ\n",
        "\n",
        "**Output**:\n",
        "\n",
        "- แสดงคะแนนพฤติกรรมที่เหลือและเกรดของคะแนนพฤติกรรมของคุณ\n",
        "\n",
        "Example\n",
        "```\n",
        "Enter the intial behavior score: 100\n",
        "Number of penalties: 3\n",
        "Enter penalty: 10\n",
        "Enter penalty: 10\n",
        "Enter penalty: 15\n",
        "The remaining behavior score is 65 and the grade is Good.\n",
        "```\n",
        "\n",
        "```\n",
        "Enter the intial behavior score: 120\n",
        "Number of penalties: 5\n",
        "Enter penalty: 20\n",
        "Enter penalty: 30\n",
        "Enter penalty: 15\n",
        "Enter penalty: 10\n",
        "Enter penalty: 5\n",
        "The remaining behavior score is 40 and the grade is Bad.\n",
        "```"
      ],
      "metadata": {
        "id": "LRfVdHajwu5a"
      }
    },
    {
      "cell_type": "code",
      "source": [
        "\n",
        "\n",
        "\n",
        "\n",
        "\n",
        "\n"
      ],
      "metadata": {
        "id": "ESVt7MeL58u6"
      },
      "execution_count": null,
      "outputs": []
    },
    {
      "cell_type": "markdown",
      "source": [
        "**Q** Cashier Program Ver 3\n",
        "\n",
        "ยินดีต้อนรับสู่โปรแกรม cashier อีกครั้ง คราวนี้เรากำลังขายผลิตภัณฑ์อาหารดังนี้: ไข่ (ละ 5 บาท) และนม (ละ 20 บาท) สิ่งสำคัญคือเราขายเป็นโหล (12 ชิ้นต่อ order)\n",
        "\n",
        "ลูกค้าสามารถได้รับส่วนลดตามเงื่อนไขต่อไปนี้\n",
        "\n",
        "* หากซื้อไข่อย่างน้อย 50 ฟอง จะได้รับส่วนลด 30% สำหรับไข่\n",
        "* หากซื้อนมอย่างน้อย 75 กล่อง จะได้รับส่วนลด 20% สำหรับนม\n",
        "* หากซื้อไข่อย่างน้อย 100 ฟอง และนม 100 กล่อง จะได้รับส่วนลดเพิ่มอีก 100 บาท\n",
        "\n",
        "สุดท้าย ลูกค้าต้องจ่าย sale tax 10% ของยอดรวมที่คำนวณหลังจากโปรโมชั่นทั้งหมด\n",
        "\n",
        "**Input**\n",
        "* ไข่ (เป็นโหล)\n",
        "* นม (เป็นโหล)\n",
        "\n",
        "**Output**\n",
        "* ยอดรวมก่อนส่วนลดและ sale tax ทั้งหมด ทศนิยม 2 ตำแหน่ง\n",
        "* ยอดเงินหลังส่วนลดทั้งหมดแต่ก่อน sale tax ทศนิยม 2 ตำแหน่ง\n",
        "* ยอดเงินสุดท้ายหลังส่วนลดทั้งหมดและ sale tax\n",
        "\n",
        "**หมายเหตุ**\n",
        "* ใช้ Named Constant\n",
        "\n",
        "Example\n",
        "\n",
        "```\n",
        "Enter the number of eggs (dozen): 1\n",
        "Enter the number of milks (dozen): 5\n",
        "The original payment is 1260.00 Baht.\n",
        "The payment after discount is 1260.00 Bath.\n",
        "The final payment is 1386.00 Bath.\n",
        "```\n",
        "\n",
        "```\n",
        "Enter the number of eggs (dozen): 10\n",
        "Enter the number of milks (dozen): 10\n",
        "The original payment is 3000.00 Baht.\n",
        "The payment after discount is 2240.00 Baht.\n",
        "The final payment is 2464.00 Baht.\n",
        "```\n",
        "\n",
        "```\n",
        "Enter the number of eggs (dozen): 5\n",
        "Enter the number of milks (dozen): 5\n",
        "The original payment is 1500.00 Baht.\n",
        "The payment after discount is 1410.00 Baht.\n",
        "The final payment is 1551.00 Baht.\n",
        "```\n",
        "\n",
        "```\n",
        "Enter the number of eggs (dozen): 3\n",
        "Enter the number of milks (dozen): 10\n",
        "The original payment is 2580.00 Baht.\n",
        "The payment after discount is 2100.00 Baht.\n",
        "The final payment is 2310.00 Baht.\n",
        "```\n"
      ],
      "metadata": {
        "id": "jn_UOVW12fZS"
      }
    },
    {
      "cell_type": "code",
      "source": [
        "\n",
        "\n",
        "\n",
        "\n",
        "\n"
      ],
      "metadata": {
        "id": "5CdqrTo7574j"
      },
      "execution_count": null,
      "outputs": []
    },
    {
      "cell_type": "markdown",
      "source": [
        "**Q** Let's make milk puddings\n",
        "\n",
        "มาซื้อไข่และนมเพิ่มเติมเพื่อทำพุดดิ้งนมกันเถอะ!\n",
        "ในการทำพุดดิ้งใหญ่ 1 อัน ต้องใช้ไข่ 10 ฟอง และนม 3 ขวด ครั้งนี้ input จะเป็นราคาไข่ ราคานม และจำนวนพุดดิ้งที่เราต้องการทำ เหมือนเดิม คุณจะได้รับส่วนลดถ้าซื้อไข่และนมจำนวนมากตามเงื่อนไขดังนี้\n",
        "\n",
        "* ถ้าซื้อไข่อย่างน้อย 30 ฟอง จะได้ส่วนลด 20% สำหรับไข่\n",
        "* ถ้าซื้อนมอย่างน้อย 20 ขวด จะได้ส่วนลด 10% สำหรับนม\n",
        "\n",
        "แสดงค่าใช้จ่ายทั้งหมด\n",
        "\n",
        "**input**\n",
        "* ราคาไข่\n",
        "* ราคานม\n",
        "* จำนวนพุดดิ้งที่จะทำ\n",
        "\n",
        "**Output**\n",
        "* ค่าใช้จ่ายทั้งหมดเดิม (แสดงทศนิยม 2 ตำแหน่ง)\n",
        "* ค่าใช้จ่ายหลังหักส่วนลด (แสดงทศนิยม 2 ตำแหน่ง)\n",
        "\n",
        "**หมายเหตุ**\n",
        "* ใช้ Named Constant\n",
        "\n",
        "Examples\n",
        "```\n",
        "Enter the price of an egg: 5\n",
        "Enter the price of milk: 20\n",
        "Enter the number of pudding to be made: 10\n",
        "The original cost is 1100.00\n",
        "The discounted cost is 940.00\n",
        "```\n",
        "\n",
        "```\n",
        "Enter the price of an egg: 10\n",
        "Enter the price of milk: 20\n",
        "Enter the number of pudding to be made: 2\n",
        "The original cost is 320.00\n",
        "The discounted cost is 320.00\n",
        "```\n",
        "\n",
        "```\n",
        "Enter the price of an egg: 10\n",
        "Enter the price of milk: 30\n",
        "Enter the number of pudding to be made: 20\n",
        "The original cost is 3800.00\n",
        "The discounted cost is 3220.00\n",
        "```"
      ],
      "metadata": {
        "id": "g_JXX3eznzg8"
      }
    },
    {
      "cell_type": "code",
      "source": [],
      "metadata": {
        "id": "DqDovDDSn0SN"
      },
      "execution_count": null,
      "outputs": []
    },
    {
      "cell_type": "markdown",
      "source": [
        "**Q**: Container Shipment Ver 2\n",
        "\n",
        "จงเขียนโปรแกรมเพื่อคำนวณน้ำหนักทั้งหมดของกล่อง container n กล่อง  โดยที่กล่อง container แต่ละกล่องนั้นจะมี กล่อง package สิ้นค้า อยู่ทั้งหมด m ชนิด ซึ่งในแต่ละชนิดนั้น user จะป้อนข้อมูล จำนวนและน้ำหนักของสิ้นค้าชนิดนั้นๆ สุดท้าย user จะป้อนข้อมูล จำนวนกุญแจเหล็กที่จะใช้ล็อคกล่องทั้งหมดเข้ามา โดยกุญแจเหล็กนั้นเรามีจัดให้ไว้แล้วโดยที่แต่ละอันนั้นจะมีน้ำหนักเท่ากับ 50kg.\n",
        "\n",
        "สำหรับข้อนี้ จะต้องเติม โค็ดส่วนที่ขาดหายไป ในกระดาษคำตอบให้ครบถ้วน\n",
        "\n",
        "ในการทำโปรแกรมนี้ มีขั้นตอนต่อไปนี้\n",
        "1. กำหนดค่า Named Constant ของ กุญแจเหล็ก (LOCK_WEIGHT) เท่ากับ 50\n",
        "2. รับข้อมูลจำนวน container เข้ามา เป็นจำนวนเต็ม ต้องเช็คว่า ข้อมูลจะต้องมากกว่า 0\n",
        "3. รับข้อมุลจำนวน package แต่ละกล่องเข้ามา เป็นจำนวนเต็ม\n",
        "4. ตั้งค่าตัวแปร มาเก็บค่าน้ำหนักทั้งหมดของ container ไว้ (total_container)\n",
        "5. วนรูปตามจำนวนของ container\n",
        "  - แสดงข้อความว่า เป็น container ที่เท่าไร\n",
        "  - ตั้งค่าตัวแปร มาเก็บค่าน้ำหนักทั้งหมดของ package ไว้ (total_package)\n",
        "  - วนรูปตามจำนวนของ package เพื่อคำนวณน้ำหนัก\n",
        "    - รับค่าน้ำหนักของ สิ้นค้ามา เป้นจำนวนจริง\n",
        "    - รับจำนวนของ สิ้นค้ามา เป็นจำนวนเต็ม\n",
        "    - เพิ่มค่าน้ำหนักของ package ทั้งหมด โดยผลคูณของน้ำหนักและจำนวนสิ้นค้า\n",
        "  - แสดงผลน้ำหนักทั้งหมดของทุก packages จุดทศนิยมสองตำแหน่ง\n",
        "  - เพิ่มค่าน้ำหนักของ package ทั้งหมด ลงไปที่น้ำหนักของ container ทั้งหมด\n",
        "6. แสดงผลน้ำหนักทั้งหมดของทุก container รวมกัน จุดทศนิยมสองตำแหน่ง\n",
        "7. รับจำนวน กุญแจเหล็ก (n_locker) ที่จะใช้\n",
        "8. หาน้ำหนักทั้งหมด จาก น้ำหนักของ container\n",
        "9. ทั้งหมดรวมกับน้ำหนักของกุญแจเหล็กทั้งหมด\n",
        "10. แสดงผลน้ำหนักทั้งหมด จุดทศนิยมสองตำแหน่ง\n",
        "\n",
        "ตัวอย่างการรัน 1\n",
        "\n",
        "```\n",
        "Enter the number of containers: 2\n",
        "Enter the number of packages per container: 2\n",
        "\n",
        "Container 1:\n",
        "Enter the weight of package 1: 10\n",
        "Enter the amount of package 1: 3\n",
        "Enter the weight of package 2: 20\n",
        "Enter the amount of package 2: 2\n",
        "Total packages' weight = 70.00\n",
        "\n",
        "Container 2:\n",
        "Enter the weight of package 1: 5\n",
        "Enter the amount of package 1: 2\n",
        "Enter the weight of package 2: 10\n",
        "Enter the amount of package 2: 3\n",
        "Total packages' weight = 40.00\n",
        "Total container's weight = 110.00\n",
        "Enter the the number of locker: 5\n",
        "The total weight is 360.00\n",
        "```\n",
        "\n",
        "ตัวอย่างการรัน 2\n",
        "```\n",
        "Enter the number of containers: -1\n",
        "Enter the number of containers: 1\n",
        "Enter the number of packages per container: 2\n",
        "\n",
        "Container 1:\n",
        "Enter the weight of 1 package: 20\n",
        "Enter the amount of 1 package: 2\n",
        "Enter the weight of 2 package: 30\n",
        "Enter the amount of 2 package: 2\n",
        "Total packages' weight = 100.00\n",
        "Total container's weight = 100.00\n",
        "Enter the weight of locker: 1\n",
        "The total weight is 150.00\n",
        "```"
      ],
      "metadata": {
        "id": "gVCJKCqDq4S3"
      }
    },
    {
      "cell_type": "code",
      "source": [
        "LOCK_WEIGHT = _____\n",
        "\n",
        "while True:\n",
        "  n_container = int(input('Enter the number of containers: '))\n",
        "  if ___________________:\n",
        "     ___________________\n",
        "\n",
        "message = ______________________________________________________\n",
        "n_package = int(input(message))\n",
        "\n",
        "total_container = ___________________\n",
        "for i in range(_____________________):\n",
        "  print()\n",
        "  print(f'Container {i+1}:')\n",
        "\n",
        "  ___________________________________\n",
        "  for j in range(1, n_package+1):\n",
        "    weight = float(input(f'Enter the weight of package {j}: '))\n",
        "    amount = float(input(f'Enter the amount of package {j}: '))\n",
        "    total_package ____________________________________________\n",
        "\n",
        "  print(f\"Total packages' weight = {total_package:.2f}\")\n",
        "  total_container ____________________________________________\n",
        "\n",
        "______________________________________________________________\n",
        "\n",
        "n_locker = float(input('Enter the weight of locker: '))\n",
        "\n",
        "total_weight = _______________________________________________\n",
        "\n",
        "______________________________________________________________"
      ],
      "metadata": {
        "id": "mozH6SEmrZp9"
      },
      "execution_count": null,
      "outputs": []
    },
    {
      "cell_type": "markdown",
      "source": [
        "**Q**: Restuarant Cost Calculator\n",
        "\n",
        "จงเขียนโปรแกรมคำนวณค่าใช้จ่ายของร้านขายอาหาร โดยที่ค่าใช้จ่ายประกอบไปด้วยสามส่วน\n",
        "\n",
        "1. ค่าจานทั้งหมด จำนวนจานนั้นจะขึ้นอยู่กับเมนูอาหาร โดยโปรแกรมจะถาม user ก่อนว่า มีทั้งหมดกี่เมนูและแต่ละเมนูใช้กี่จาร โดยราคาจานนั้นเป็นค่าที่ตั้งมาแล้วคือ 20 บาทต่อจาน\n",
        "\n",
        "2. ราคาวัตถุดิบอาหาร ประกอบไปด้วยจำนวนและราคาของวัตถุดิบแต่ละชนิด ซึ่งถูกกำหนดไว้แล้วใน list สองอัน AMOUNT กับ COST โดยที่ AMOUNTi คือจำนวนของ i และ COSTi คือราคาของ i.\n",
        "  - AMOUNT = [10, 20, 30, 40, 50]\n",
        "  - COST = [2, 5, 3, 10, 1]\n",
        "\n",
        "  ถ้าราคาวัตถุดิบอาหาทั้งหมดนั้นมากกว่า 500 บาท จะได้ลดราคา ซึ่งเปอร์เซ็นการลดราคาจะรับมาจาก user และจะต้องเช็คว่า เปอร์เซ็นต้องมากกว่า 0.\n",
        "\n",
        "3. ราคาสถานที่ 500 บาท\n",
        "\n",
        "**Input**:\n",
        "- เปอร์เซ็นการลดราคา เป็นจำนวนจริง\n",
        "- จำนวนเมนู เป็นจำนวนเต็ม\n",
        "- จำนวนจานของแต่ละเมนู เป็นจำนวนเต็ม\n",
        "\n",
        "**Output**:\n",
        "- ราคาจานทั้งหมด เป็นทศนิยมสองตำแหน่ง\n",
        "- ราคาวัตถุดิบทั้งหมด หลังลดราคาแล้ว เป็นทศนิยมสองตำแหน่ง\n",
        "- ราคาทั้งหมด เป็นทศนิยมสองตำแหน่ง\n",
        "\n",
        "ตัวอย่างการรันที่ 1\n",
        "```\n",
        "Enter discount (%): 10\n",
        "Enter the number of menus: 3\n",
        "Enter the number of dishes for menu 1: 5\n",
        "Enter the number of dishes for menu 2: 7\n",
        "Enter the number of dishes for menu 3: 10\n",
        "The total dish cost is 440.00\n",
        "The total ingredient cost is 594.00\n",
        "The total cost is 1534.00\n",
        "```\n",
        "\n",
        "ตัวอย่างการรันที่ 2\n",
        "```\n",
        "Enter discount (%): -20\n",
        "Invalid Discount.\n",
        "Enter discount (%): 20\n",
        "Enter the number of menus: 3\n",
        "Enter the number of dishes for menu 1: 20\n",
        "Enter the number of dishes for menu 2: 30\n",
        "Enter the number of dishes for menu 3: 40\n",
        "The total dish cost is 1800.00\n",
        "The total ingredient cost is 528.00\n",
        "The total cost is 2828.00`\n",
        "```"
      ],
      "metadata": {
        "id": "63tpAwpTrkr7"
      }
    },
    {
      "cell_type": "code",
      "source": [],
      "metadata": {
        "id": "AYfuICIjr2XH"
      },
      "execution_count": null,
      "outputs": []
    },
    {
      "cell_type": "markdown",
      "source": [
        "**Q**: Class Average and Overall Average\n",
        "\n",
        "จงเขียนโปรแกรมเพื่อหาค่าเฉลี่ยของแต่ละห้องเรียนและของนักเรียนทั้งชั้นปี และหาว่ามีกี่ห้องที่เกรดเฉลี่ยมากกว่า 2.00. โดยโปรแกรมนี้จะรับค่า จำนวนห้องเรียนทั้งหมดของชั้นปี และ จำนวนนักเรียนแต่ละห้อง หลังจากนั้น หลังจากนั้น user จะป้อนค่าของนักเรียนแต่ละคนสำหรับแต่ละห้อง ต้องเช็คว่าจำนวนห้องที่ได้รับจาก user มีค่าอยู่ระหว่าง 1 ถึง 5. โปรแกรมจะต้องคำนวณค่าเฉลี่ยแต่ละห้องและทั้งหมดและหาว่ากี่ห้องมีเกรดเฉลี่ยมากกว่า 2.00 และแสดงผลตามตัวอย่าง\n",
        "\n",
        "**Input**:\n",
        "- จำนวนห้องเรียน เป็นจำนวนเต็ม\n",
        "- จำนวนนักเรียนต่อห้อง เป็นจำนวนเต็ม\n",
        "- จำนวนคะแนนของนักเรียนแต่ละคน\n",
        "\n",
        "**Output**:\n",
        "- ปริ้นข้อความแต่ละคลาสตามตัวอย่าง\n",
        "- คะแนนเฉลี่ยนของแต่ละห้อง\n",
        "- คะแนนเฉลี่ยทั้งหมดของนักเรียนทั้งชั้นปี\n",
        "- จำนวนห้องที่เกรดมากกว่าที่กำหนด\n",
        "\n",
        "\n",
        "ตัวอย่างการรันที่ 1\n",
        "```\n",
        "Enter #Class: 2\n",
        "Enter #Student per class: 2\n",
        "Class #1\n",
        "Enter student 1 score: 4\n",
        "Enter student 2 score: 3\n",
        "The class #1 average is 3.50\n",
        "Class #2\n",
        "Enter student 1 score: 2\n",
        "Enter student 2 score: 1\n",
        "The class #2 average is 1.50\n",
        "The overall average is 2.50\n",
        "The number of classes above the threshold is 1\n",
        "```\n"
      ],
      "metadata": {
        "id": "un3mrLguvCeb"
      }
    },
    {
      "cell_type": "code",
      "source": [],
      "metadata": {
        "id": "sVUkMJ-CvLEJ"
      },
      "execution_count": null,
      "outputs": []
    },
    {
      "cell_type": "markdown",
      "source": [
        "**Q1**: Compound Interest\n",
        "\n",
        "Write a program that calculates the final amount after continuous compound interest is applied.\n",
        "\n",
        "The formula is: $A = P × e^{(rt)}$\n",
        "\n",
        "A is the final amount, P is the principal (initial investment), r is the annual interest rate (in decimal form), t is the time in years, and e is Euler's number (approximately 2.7183).\n",
        "\n",
        "**Input**:\n",
        "- the principal, P. Real number\n",
        "- the annual interest rate, r. Real number\n",
        "- the time in years, t. Integer number\n",
        "\n",
        "**Output**:\n",
        "- The final amount. Two decimal places.\n",
        "\n",
        "**Requirements**:\n",
        "- Must use Named Constants\n",
        "\n",
        "**Example**: (ขีดเส้นใต้คือข้อมูลนำเข้า)\n",
        "```\n",
        "Enter the principal: 1000\n",
        "Enter the annaual interate rate: 0.05\n",
        "Enter time (years): 10\n",
        "The final amount is 1648.73\n",
        "```"
      ],
      "metadata": {
        "id": "E6T6h5epW1hI"
      }
    },
    {
      "cell_type": "code",
      "source": [],
      "metadata": {
        "id": "vyS5pdZHW12d"
      },
      "execution_count": null,
      "outputs": []
    },
    {
      "cell_type": "markdown",
      "source": [
        "**Q2**: Cashier Ver 4\n",
        "\n",
        "จงเขียนโปรแกรมเพื่อคำนวณราคาสิ้นค้าทั้งหมด ร้านค้าขายของอยู่สองชนิด: donut ชิ้นละ 20 บาท และ coffee แก้วละ 100 บาท ผู้ใช้งานจะป้อนจำนวน donut และ coffee เข้ามา ทางร้านค้ามีโปรโมชั่นลดราคาดังต่อไปนี้\n",
        "\n",
        "เงื่อนไขการลดราคา\n",
        "- ถ้าราคาของทั้งหมดอยู่ระหว่าง 500 - 1,000 บาทจะได้ลดราคา 100\n",
        "- ถ้าราคาของทั้งหมดอยู่ระหว่าง 1,001 - 5,000 บาทจะได้ลดเพิ่มอีก 200 บาท\n",
        "- ถ้าราคาของทั้งหมดมากกว่า 5,000 จะได้ลดเพิ่ม 10% ของราคาของที่เกิน 5,000\n",
        "\n",
        "แสดงผลก่อนลดและหลังลดราคา  \n",
        "\n",
        "**Input**:\n",
        "- จำนวน donut เป็นจำนวนเต็ม\n",
        "- จำนวน coffee เป็นจำนวนเต็ม\n",
        "\n",
        "**Output**:\n",
        "- ราคาก่อนลด จุดทศนิยมสองตำแหน่ง\n",
        "- ราคาหลังลด จุดทศนิยมสองตำแหน่ง\n",
        "\n",
        "**Example**: (ขีดเส้นใต้คือข้อมูลนำเข้า)\n",
        "\n",
        "```\n",
        "Enter #donut: 50\n",
        "Enter #coffee: 50\n",
        "Payment before discount: 6000\n",
        "Payment after discount: 5600\n",
        "```\n",
        "คำอธิบาย: (50\\*20 + 50\\*100) - 100 - 200 - (1000)*0.1 = 5600"
      ],
      "metadata": {
        "id": "OdNz6fi5Wiuj"
      }
    },
    {
      "cell_type": "code",
      "source": [],
      "metadata": {
        "id": "PzFEo8GcWopB"
      },
      "execution_count": null,
      "outputs": []
    },
    {
      "cell_type": "markdown",
      "source": [
        "**Q3**: Guessing Game\n",
        "\n",
        "จงเขียนเกมที่ให้ผู้เล่นสุ่ม index ของ SECRETS list โดยที่ผู้เล่นจะได้ คะแนนตามค่าในตำแหน่งของ index นั้น เมื่อ index นั้นถูกเลือกแล้วค่าที่ตำแหน่งนั้นจะเป็น -1. ถ้าผู้เล่นเลือกค่าที่น้อยกว่า 0 หรือเกิน 5 (index สุดท้ายของ list) จะได้คะแนน -10.\n",
        "\n",
        "ในแต่ละตา ผู้เล่นมีสองตัวเลือก\n",
        "1. เลือกเล่น โดยการพิมพ์ 'Play' หลังจากนั้นผู้เล่นสามารถพิมพ์ค่า index\n",
        "2. เลิกเล่น โดยการพิมพ์ 'Quit'\n",
        "\n",
        "หลังจากเลือกเล่น ให้แสดงคะแนนทั้งหมดออกมา\n",
        "\n",
        "**ข้อมูลนำเข้า:**\n",
        "- ข้อความ `Play` หรือ `Quit`\n",
        "- ถ้าเลือก `Play`, ตัวเลขจำนวนเต็ม สำหรับ index\n",
        "\n",
        "**ข้อมูลส่งออก:**\n",
        "- คะแนนทั้งหมด เป็นจำนวนเต็ม\n",
        "\n",
        "**ตัวอย่างที่ 1** (ขีดเส้นใต้คือข้อมูลนำเข้า)\n",
        "\n",
        "```\n",
        "Guess an index The Game\n",
        "Type Play or Quit: Play\n",
        "Guess an index: 0\n",
        "Type Play or Quit: Play\n",
        "Guess an index: 0\n",
        "Type Play or Quit: Play\n",
        "Guess an index: 20\n",
        "Type Play or Quit: Play\n",
        "Guess an index: 3\n",
        "Type Play or Quit: Quit\n",
        "Your final score is 5\n",
        "```\n",
        "คำอธิบาย: 13 -1 -10 + 3 = 5"
      ],
      "metadata": {
        "id": "rcQLRl2JWo0c"
      }
    },
    {
      "cell_type": "code",
      "source": [
        "SECRETS = [13, 7, 25, 3, 10, 6]\n",
        "\n"
      ],
      "metadata": {
        "id": "Qbi48E9lWqyD"
      },
      "execution_count": null,
      "outputs": []
    },
    {
      "cell_type": "markdown",
      "source": [
        "**Q4**: Filtered Mean and Standard Deviation\n",
        "\n",
        "จงเขียนโปรแกรมเพื่อคำนวณค่าเฉลี่ย (mean) และค่าค่าเบี่ยงเบนมาตรฐาน (standard deviation or std) จากข้อมูล n ค่า โดยที่ user จะป้อนตัวเลข n ก่อนหลังจากนั้นจะป้อนตัวเลขอีก n ตัว ถ้าตัวเลขที่ป้อนเข้ามามีค่าน้อยกว่า 0 หรือมากกว่า 10 เราจะไม่ใช้มาคำนวณค่าเฉลี่ยและค่าเบี่ยงเบน\n",
        "\n",
        "Mean formula: $mu = \\frac{\\sum_ix_i}{n}$\n",
        "\n",
        "Std formula: $std =\\sqrt{\\frac{\\sum_ix_i^2}{n} - \\mu^2}$\n",
        "\n",
        "**ข้อมูลนำเข้า:**\n",
        "- ตัวเลข n\n",
        "- ตัวเลขจำนวนเต็มอีก n ตัว\n",
        "\n",
        "**ข้อมูลส่งออก:**\n",
        "- ค่าเฉลี่ย สองตำแหน่ง\n",
        "- ค่าเบี่ยงเบนมาตรฐาน สองตำแหน่ง\n",
        "\n",
        "**ข้อกำหนด:**\n",
        "- ต้องใช้ Named Constant\n",
        "\n",
        "**ตัวอย่างที่ 1** (ขีดเส้นใต้คือข้อมูลนำเข้า)\n",
        "```\n",
        "Enter n: 5\n",
        "Enter a number: 20\n",
        "Enter a number: -2\n",
        "Enter a number: 5\n",
        "Enter a number: 10\n",
        "Enter a number: 3\n",
        "mean = 6.00\n",
        "std = 2.94\n",
        "```\n",
        "\n",
        "mean = (5+10+3)/3 = 6\n",
        "\n",
        "$\\frac{\\sum_ix_i^2}{n} = (25 + 100 + 9)/3 = 44.67$\n",
        "\n",
        "std = $\\sqrt{44.67 - 6^2}$\n"
      ],
      "metadata": {
        "id": "Nr0K1pxhWrBr"
      }
    },
    {
      "cell_type": "code",
      "source": [],
      "metadata": {
        "id": "ujWFiEcQvTsd"
      },
      "execution_count": null,
      "outputs": []
    },
    {
      "cell_type": "markdown",
      "source": [
        "**Q**: Converting seconds to MM:SS\n",
        "\n",
        "เขียนโปรแกรมที่รับค่าวินาทีและแปลงเป็นรูปแบบ HH:MM:SS\n",
        "\n",
        "**Input**\n",
        "* จำนวนเต็มระหว่าง 0 - 3599 (ไม่ต้องตรวจสอบ)\n",
        "\n",
        "**Output**\n",
        "* แสดงผล 'MM:SS'\n",
        "\n",
        "\n",
        "Example:\n",
        "```\n",
        "Enter the second: 5\n",
        "00:05\n",
        "\n",
        "```\n",
        "\n",
        "```\n",
        "Enter the second: 67\n",
        "01:07\n",
        "```\n",
        "\n",
        "```\n",
        "Enter the second: 3599\n",
        "59:59\n",
        "```"
      ],
      "metadata": {
        "id": "dmKENvYy59dd"
      }
    },
    {
      "cell_type": "code",
      "source": [
        "\n",
        "\n",
        "\n",
        "\n"
      ],
      "metadata": {
        "id": "0JQUtkjnwxRE"
      },
      "execution_count": null,
      "outputs": []
    }
  ]
}